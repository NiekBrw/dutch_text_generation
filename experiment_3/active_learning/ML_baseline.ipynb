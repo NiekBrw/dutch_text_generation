{
 "cells": [
  {
   "cell_type": "markdown",
   "id": "e9378192",
   "metadata": {},
   "source": [
    "# Experiment 3 Machine Learning baseline"
   ]
  },
  {
   "cell_type": "markdown",
   "id": "777333ba",
   "metadata": {},
   "source": [
    "### Imports"
   ]
  },
  {
   "cell_type": "code",
   "execution_count": 1,
   "id": "6dd5202f",
   "metadata": {},
   "outputs": [],
   "source": [
    "import random\n",
    "\n",
    "import instancelib as il\n",
    "from instancelib.machinelearning.sklearn import SkLearnClassifier\n",
    "from instancelib.typehints.typevars import KT, LT\n",
    "from instancelib.utils.func import list_unzip\n",
    "\n",
    "from typing import Any, FrozenSet, Sequence, Tuple\n",
    "\n",
    "import pandas as pd\n",
    "import numpy as np\n",
    "\n",
    "from instancelib.analysis.base import classifier_performance\n",
    "from lightgbm import LGBMClassifier\n",
    "from sklearn.feature_extraction.text import TfidfVectorizer\n",
    "from sklearn.svm import SVC\n",
    "from sklearn.tree import DecisionTreeClassifier\n",
    "from sklearn.linear_model import LogisticRegression\n",
    "from sklearn.neighbors import KNeighborsClassifier\n",
    "from sklearn.ensemble import RandomForestClassifier\n",
    "from sklearn.neural_network import MLPClassifier\n",
    "from sklearn.naive_bayes import GaussianNB\n",
    "\n",
    "from sbert import PretrainedSentenceBERTVectorizer\n",
    "from stratified import stratified_train_test\n",
    "from synthesizer import PreSynthesized\n",
    "\n",
    "from sklearn.metrics import matthews_corrcoef, confusion_matrix, roc_auc_score, fbeta_score\n",
    "\n",
    "\n",
    "from matplotlib import pyplot as plt"
   ]
  },
  {
   "cell_type": "code",
   "execution_count": 2,
   "id": "4b1215d0",
   "metadata": {},
   "outputs": [],
   "source": [
    "random.seed(20)"
   ]
  },
  {
   "cell_type": "markdown",
   "id": "81808643",
   "metadata": {},
   "source": [
    "### Define functions"
   ]
  },
  {
   "cell_type": "code",
   "execution_count": 14,
   "id": "6a8a4439",
   "metadata": {},
   "outputs": [],
   "source": [
    "def sklearn_truth_pred(model: SkLearnClassifier[Any, KT, Any, Any, LT],\n",
    "                       predictions: Sequence[Tuple[KT, FrozenSet[LT]]],\n",
    "                       truth: il.LabelProvider[KT, LT]) -> Tuple[np.ndarray, np.ndarray]:\n",
    "    '''Return true and predicted labels from test set'''\n",
    "    keys, preds = list_unzip(predictions)\n",
    "    truths = [truth.get_labels(key) for key in keys]\n",
    "    y_pred = model.encoder.encode_batch(preds)\n",
    "    y_true = model.encoder.encode_batch(truths)\n",
    "    return y_true, y_pred"
   ]
  },
  {
   "cell_type": "markdown",
   "id": "b82cf87a",
   "metadata": {},
   "source": [
    "### Load data"
   ]
  },
  {
   "cell_type": "code",
   "execution_count": 3,
   "id": "a8ed76ff",
   "metadata": {},
   "outputs": [],
   "source": [
    "df = pd.read_csv(\"../../data/active_learning_data_to_test_imbalanced_with_identifiers.csv\")\n",
    "tweet_env = il.pandas_to_env_with_id(df, \"identifier\", \"clean_post\", \"set\")"
   ]
  },
  {
   "cell_type": "markdown",
   "id": "2421ffac",
   "metadata": {},
   "source": [
    "### Preparation"
   ]
  },
  {
   "cell_type": "markdown",
   "id": "803b44a7",
   "metadata": {},
   "source": [
    "*Vectorize data with RobBERT*"
   ]
  },
  {
   "cell_type": "code",
   "execution_count": 5,
   "id": "7ca0d21c",
   "metadata": {},
   "outputs": [],
   "source": [
    "sbert_vec = il.TextInstanceVectorizer(PretrainedSentenceBERTVectorizer(\"pdelobelle/robbert-v2-dutch-base\"))"
   ]
  },
  {
   "cell_type": "code",
   "execution_count": 6,
   "id": "fb88d1b1",
   "metadata": {},
   "outputs": [
    {
     "data": {
      "application/vnd.jupyter.widget-view+json": {
       "model_id": "6c76a402ecab43009fb42f78febcafc2",
       "version_major": 2,
       "version_minor": 0
      },
      "text/plain": [
       "Batches:   0%|          | 0/625 [00:00<?, ?it/s]"
      ]
     },
     "metadata": {},
     "output_type": "display_data"
    },
    {
     "name": "stderr",
     "output_type": "stream",
     "text": [
      "Asking to truncate to max_length but no maximum length is provided and the model has no predefined maximum length. Default to no truncation.\n"
     ]
    },
    {
     "data": {
      "application/vnd.jupyter.widget-view+json": {
       "model_id": "44c503c7bc284e9d987621d0a93c4586",
       "version_major": 2,
       "version_minor": 0
      },
      "text/plain": [
       "Batches:   0%|          | 0/625 [00:00<?, ?it/s]"
      ]
     },
     "metadata": {},
     "output_type": "display_data"
    },
    {
     "data": {
      "application/vnd.jupyter.widget-view+json": {
       "model_id": "3432087cbd404edd85d2634fac7f32b8",
       "version_major": 2,
       "version_minor": 0
      },
      "text/plain": [
       "Batches:   0%|          | 0/216 [00:00<?, ?it/s]"
      ]
     },
     "metadata": {},
     "output_type": "display_data"
    }
   ],
   "source": [
    "il.vectorize(sbert_vec, tweet_env, fit = False, chunk_size=20000)"
   ]
  },
  {
   "cell_type": "markdown",
   "id": "a43d47f8",
   "metadata": {},
   "source": [
    "*Split data in train and testset*"
   ]
  },
  {
   "cell_type": "code",
   "execution_count": 7,
   "id": "ea276f3e",
   "metadata": {},
   "outputs": [],
   "source": [
    "# We create a train set of 70 %. \n",
    "# The remainder will be used as evaluation\n",
    "train, test = stratified_train_test(tweet_env, tweet_env.dataset, tweet_env.labels, 0.70)"
   ]
  },
  {
   "cell_type": "code",
   "execution_count": 8,
   "id": "e4cd3b05",
   "metadata": {},
   "outputs": [
    {
     "name": "stdout",
     "output_type": "stream",
     "text": [
      "32830 14070\n"
     ]
    }
   ],
   "source": [
    "print(len(train), len(test))"
   ]
  },
  {
   "cell_type": "markdown",
   "id": "848a55a5",
   "metadata": {},
   "source": [
    "*Create synthesizer*"
   ]
  },
  {
   "cell_type": "code",
   "execution_count": 9,
   "id": "9eb41bcb",
   "metadata": {},
   "outputs": [],
   "source": [
    "#Makes sure X amount of synthetic texts will be added per labeled COVID-19 tweet.\n",
    "ml_synthesizer = PreSynthesized(tweet_env, lookup_table, sbert_vec, 0)"
   ]
  },
  {
   "cell_type": "markdown",
   "id": "c0a6e26f",
   "metadata": {},
   "source": [
    "*Create trainset for ML baseline*"
   ]
  },
  {
   "cell_type": "code",
   "execution_count": 10,
   "id": "7a6daee0",
   "metadata": {},
   "outputs": [],
   "source": [
    "al_baseline_simulation = tweet_env.create_bucket(random.sample(train.key_list, 3895))"
   ]
  },
  {
   "cell_type": "code",
   "execution_count": 11,
   "id": "7f8d10e7",
   "metadata": {},
   "outputs": [],
   "source": [
    "al_baseline_generated = ml_synthesizer(al_baseline_simulation)"
   ]
  },
  {
   "cell_type": "code",
   "execution_count": 12,
   "id": "faea4b57",
   "metadata": {},
   "outputs": [],
   "source": [
    "al_baseline_train = tweet_env.combine(al_baseline_generated, al_baseline_simulation)"
   ]
  },
  {
   "cell_type": "markdown",
   "id": "aa44b6dd",
   "metadata": {},
   "source": [
    "*Initialize classifier*"
   ]
  },
  {
   "cell_type": "code",
   "execution_count": 13,
   "id": "e2fae488",
   "metadata": {},
   "outputs": [],
   "source": [
    "logreg = LogisticRegression(max_iter=1000)\n",
    "model_logreg = il.SkLearnVectorClassifier.build(logreg, tweet_env)"
   ]
  },
  {
   "cell_type": "markdown",
   "id": "cce62be7",
   "metadata": {},
   "source": [
    "### Train and evaluate model"
   ]
  },
  {
   "cell_type": "code",
   "execution_count": 18,
   "id": "ffb40de6",
   "metadata": {},
   "outputs": [
    {
     "name": "stdout",
     "output_type": "stream",
     "text": [
      "[[13628    22]\n",
      " [  250   170]]\n",
      "0.7015750915750915\n",
      "0.5913488769879651\n",
      "0.45405982905982906\n"
     ]
    }
   ],
   "source": [
    "model_logreg.fit_provider(al_baseline_train, tweet_env.labels)\n",
    "performance = classifier_performance(model_logreg, test, tweet_env.labels)\n",
    "    \n",
    "predictions = model_logreg.predict(test)\n",
    "y_true, y_pred = sklearn_truth_pred(model_logreg, predictions, tweet_env.labels)\n",
    "    \n",
    "print(confusion_matrix(y_true, y_pred))\n",
    "print(roc_auc_score(y_true, y_pred))\n",
    "print(matthews_corrcoef(y_true, y_pred))\n",
    "print(fbeta_score(y_true, y_pred, beta=2))"
   ]
  }
 ],
 "metadata": {
  "kernelspec": {
   "display_name": "Python 3",
   "language": "python",
   "name": "python3"
  },
  "language_info": {
   "codemirror_mode": {
    "name": "ipython",
    "version": 3
   },
   "file_extension": ".py",
   "mimetype": "text/x-python",
   "name": "python",
   "nbconvert_exporter": "python",
   "pygments_lexer": "ipython3",
   "version": "3.8.8"
  }
 },
 "nbformat": 4,
 "nbformat_minor": 5
}
