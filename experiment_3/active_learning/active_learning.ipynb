{
 "cells": [
  {
   "cell_type": "markdown",
   "id": "755bacec",
   "metadata": {},
   "source": [
    "# Experiment 3 Active Learning"
   ]
  },
  {
   "cell_type": "markdown",
   "id": "a1795cfa",
   "metadata": {},
   "source": [
    "### Imports"
   ]
  },
  {
   "cell_type": "code",
   "execution_count": 28,
   "id": "060281b3",
   "metadata": {},
   "outputs": [],
   "source": [
    "import itertools\n",
    "from typing import Tuple\n",
    "\n",
    "import instancelib as il\n",
    "import pandas as pd\n",
    "import numpy as np\n",
    "from allib.activelearning.base import ActiveLearner\n",
    "from allib.activelearning.mostcertain import LabelMaximizer\n",
    "from allib.activelearning.uncertainty import LabelUncertainty\n",
    "from allib.analysis.plotter import AbstractPlotter, ClassificationPlotter\n",
    "from allib.analysis.simulation import multilabel_all_non_empty\n",
    "from allib.environment.base import IT\n",
    "from allib.environment.memory import MemoryEnvironment\n",
    "from allib.stopcriterion.base import AbstractStopCriterion\n",
    "from allib.stopcriterion.heuristic import DocCountStopCritertion, AllDocsCriterion\n",
    "from instancelib.analysis.base import classifier_performance\n",
    "from instancelib.typehints.typevars import DT, KT, LT, RT, VT\n",
    "from instancelib.machinelearning.sklearn import SkLearnClassifier\n",
    "from instancelib.typehints.typevars import KT, LT\n",
    "from instancelib.utils.func import list_unzip\n",
    "\n",
    "from sklearn.feature_extraction.text import TfidfVectorizer  # type: ignore\n",
    "from sklearn.svm import SVC\n",
    "from lightgbm import LGBMClassifier\n",
    "from sklearn.linear_model import LogisticRegression\n",
    "from sklearn.metrics import matthews_corrcoef, confusion_matrix, roc_auc_score, fbeta_score\n",
    "\n",
    "\n",
    "from typing import Any, FrozenSet, Sequence, Tuple\n",
    "\n",
    "from activelearning import SyntheticAssistedAL\n",
    "from sbert import PretrainedSentenceBERTVectorizer\n",
    "from stratified import stratified_train_test\n",
    "from synthesizer import PreSynthesized\n",
    "\n",
    "import matplotlib.pyplot as plt"
   ]
  },
  {
   "cell_type": "code",
   "execution_count": null,
   "id": "e0ac182f",
   "metadata": {},
   "outputs": [],
   "source": [
    "random.seed(20)"
   ]
  },
  {
   "cell_type": "markdown",
   "id": "312d1008",
   "metadata": {},
   "source": [
    "### Define functions"
   ]
  },
  {
   "cell_type": "code",
   "execution_count": 11,
   "id": "68fee179",
   "metadata": {},
   "outputs": [],
   "source": [
    "def simulate_classification(learner: ActiveLearner[IT, KT, DT, VT, RT, LT],\n",
    "             stop_crit: AbstractStopCriterion[LT],\n",
    "             plotter: AbstractPlotter[LT],\n",
    "             batch_size: int, start_count=2) -> Tuple[ActiveLearner[IT, KT, DT, VT, RT, LT],\n",
    "                         AbstractPlotter[LT]]:\n",
    "    \"\"\"Simulates the Active Learning procedure\n",
    "\n",
    "    Parameters\n",
    "    ----------\n",
    "    learner : ActiveLearner[IT, KT, DT, VT, RT, LT]\n",
    "        The Active Learning object\n",
    "    stop_crit : AbstractStopCriterion[LT]\n",
    "        The stopping criterion\n",
    "    plotter : BinaryPlotter[LT]\n",
    "        A plotter that tracks the results\n",
    "    batch_size : int\n",
    "        The batch size of each sample \n",
    "    start_count : int\n",
    "        The number of instances that each class recieves before training the classification process. \n",
    "\n",
    "    Returns\n",
    "    -------\n",
    "    Tuple[ActiveLearner[IT, KT, DT, VT, RT, LT], AbstractPlotter[LT]]\n",
    "        A tuple consisting of the final model and the plot of the process\n",
    "    \"\"\"\n",
    "    learner.update_ordering()\n",
    "    while not multilabel_all_non_empty(learner, start_count):\n",
    "        instance = next(learner)\n",
    "        oracle_labels = learner.env.truth.get_labels(instance)\n",
    "        # Set the labels in the active learner\n",
    "        learner.env.labels.set_labels(instance, *oracle_labels)\n",
    "        learner.set_as_labeled(instance)\n",
    "    while not stop_crit.stop_criterion:\n",
    "        # Train the model\n",
    "        learner.update_ordering()\n",
    "        # Sample batch_size documents from the learner\n",
    "        sample = itertools.islice(learner, batch_size)\n",
    "        for instance in sample:\n",
    "            # Retrieve the labels from the oracle\n",
    "            oracle_labels = learner.env.truth.get_labels(instance)\n",
    "            \n",
    "            learner.env.labels.set_labels(instance, *oracle_labels)\n",
    "            learner.set_as_labeled(instance)\n",
    "        print(len(learner.env.labeled))\n",
    "        plotter.update(learner)\n",
    "        stop_crit.update(learner)\n",
    "    \n",
    "    return learner, plotter"
   ]
  },
  {
   "cell_type": "code",
   "execution_count": 24,
   "id": "7d6cab3e",
   "metadata": {},
   "outputs": [],
   "source": [
    "def sklearn_truth_pred(model: SkLearnClassifier[Any, KT, Any, Any, LT],\n",
    "                       predictions: Sequence[Tuple[KT, FrozenSet[LT]]],\n",
    "                       truth: il.LabelProvider[KT, LT]) -> Tuple[np.ndarray, np.ndarray]:\n",
    "    '''Return true and predicted labels from test set'''\n",
    "    keys, preds = list_unzip(predictions)\n",
    "    truths = [truth.get_labels(key) for key in keys]\n",
    "    y_pred = model.encoder.encode_batch(preds)\n",
    "    y_true = model.encoder.encode_batch(truths)\n",
    "    return y_true, y_pred"
   ]
  },
  {
   "cell_type": "markdown",
   "id": "d861508c",
   "metadata": {},
   "source": [
    "### Load data"
   ]
  },
  {
   "cell_type": "code",
   "execution_count": 2,
   "id": "3670664f",
   "metadata": {},
   "outputs": [],
   "source": [
    "df = pd.read_csv(\"../../data/active_learning_data_to_test_imbalanced_with_identifiers.csv\")\n",
    "tweet_env = il.pandas_to_env_with_id(df, \"identifier\", \"clean_post\", \"set\")"
   ]
  },
  {
   "cell_type": "code",
   "execution_count": null,
   "id": "6132de62",
   "metadata": {},
   "outputs": [],
   "source": [
    "lookup_table = pd.read_csv(\"synthetic_data_ivae_new.csv\")"
   ]
  },
  {
   "cell_type": "markdown",
   "id": "d9211212",
   "metadata": {},
   "source": [
    "### Preparation"
   ]
  },
  {
   "cell_type": "markdown",
   "id": "97d0f0de",
   "metadata": {},
   "source": [
    "*Split data in train and testset*"
   ]
  },
  {
   "cell_type": "code",
   "execution_count": 3,
   "id": "ffec1355",
   "metadata": {},
   "outputs": [],
   "source": [
    "# We create a train set of 70 %. \n",
    "# The remainder will be used as evaluation\n",
    "train, test = stratified_train_test(tweet_env, tweet_env.dataset, tweet_env.labels, 0.70)"
   ]
  },
  {
   "cell_type": "markdown",
   "id": "24f51242",
   "metadata": {},
   "source": [
    "*Create active learning environment*"
   ]
  },
  {
   "cell_type": "code",
   "execution_count": 4,
   "id": "87ec0fc1",
   "metadata": {},
   "outputs": [],
   "source": [
    "# Here, we make an AL environment. The instances in the train set become unlabeled.\n",
    "al_env = MemoryEnvironment.from_instancelib_simulation_heldout(\n",
    "    tweet_env, train)"
   ]
  },
  {
   "cell_type": "markdown",
   "id": "81bb13cf",
   "metadata": {},
   "source": [
    "*Vectorize data with RobBERT*"
   ]
  },
  {
   "cell_type": "code",
   "execution_count": 6,
   "id": "d94f25c9",
   "metadata": {},
   "outputs": [],
   "source": [
    "sbert_vec = il.TextInstanceVectorizer(PretrainedSentenceBERTVectorizer(\"pdelobelle/robbert-v2-dutch-base\"))"
   ]
  },
  {
   "cell_type": "code",
   "execution_count": 7,
   "id": "331bf5c1",
   "metadata": {},
   "outputs": [
    {
     "data": {
      "application/vnd.jupyter.widget-view+json": {
       "model_id": "e40989483e654288ab43a1f4a5bf9f0a",
       "version_major": 2,
       "version_minor": 0
      },
      "text/plain": [
       "Batches:   0%|          | 0/625 [00:00<?, ?it/s]"
      ]
     },
     "metadata": {},
     "output_type": "display_data"
    },
    {
     "name": "stderr",
     "output_type": "stream",
     "text": [
      "Asking to truncate to max_length but no maximum length is provided and the model has no predefined maximum length. Default to no truncation.\n"
     ]
    },
    {
     "data": {
      "application/vnd.jupyter.widget-view+json": {
       "model_id": "a4bf5eee589f47589d2d969181094994",
       "version_major": 2,
       "version_minor": 0
      },
      "text/plain": [
       "Batches:   0%|          | 0/625 [00:00<?, ?it/s]"
      ]
     },
     "metadata": {},
     "output_type": "display_data"
    },
    {
     "data": {
      "application/vnd.jupyter.widget-view+json": {
       "model_id": "0847ecca1f874dd0945506573e942661",
       "version_major": 2,
       "version_minor": 0
      },
      "text/plain": [
       "Batches:   0%|          | 0/216 [00:00<?, ?it/s]"
      ]
     },
     "metadata": {},
     "output_type": "display_data"
    }
   ],
   "source": [
    "il.vectorize(sbert_vec, tweet_env, fit = False, chunk_size=20000)"
   ]
  },
  {
   "cell_type": "markdown",
   "id": "3257fd98",
   "metadata": {},
   "source": [
    "*Create synthesizer*"
   ]
  },
  {
   "cell_type": "code",
   "execution_count": 8,
   "id": "da3f40e2",
   "metadata": {},
   "outputs": [],
   "source": [
    "#Makes sure X amount of synthetic texts will be added per labeled COVID-19 tweet.\n",
    "synthesizer = PreSynthesized(al_env, lookup_table, sbert_vec, 5)"
   ]
  },
  {
   "cell_type": "markdown",
   "id": "185e567f",
   "metadata": {},
   "source": [
    "*Initialize classifier*"
   ]
  },
  {
   "cell_type": "code",
   "execution_count": 5,
   "id": "234a0b97",
   "metadata": {},
   "outputs": [],
   "source": [
    "logreg = LogisticRegression(max_iter=1000)\n",
    "ml_model = il.SkLearnVectorClassifier.build(logreg, tweet_env)"
   ]
  },
  {
   "cell_type": "markdown",
   "id": "b5c8b387",
   "metadata": {},
   "source": [
    "*Define everything needed for active learning*"
   ]
  },
  {
   "cell_type": "code",
   "execution_count": 9,
   "id": "2e159d70",
   "metadata": {},
   "outputs": [],
   "source": [
    "al = SyntheticAssistedAL(ml_model, \n",
    "                         LabelMaximizer(), \n",
    "                         \"covid\", \n",
    "                         synthesizer, [\"covid\"])(al_env)"
   ]
  },
  {
   "cell_type": "code",
   "execution_count": 10,
   "id": "7be426ff",
   "metadata": {},
   "outputs": [],
   "source": [
    "# This object will track the classification performance\n",
    "plotter = ClassificationPlotter(test, al.env.truth)\n",
    "# The process will be terminated after all documents have been labeled\n",
    "stop = AllDocsCriterion()"
   ]
  },
  {
   "cell_type": "markdown",
   "id": "c4ef0963",
   "metadata": {},
   "source": [
    "### Active learning"
   ]
  },
  {
   "cell_type": "code",
   "execution_count": 30,
   "id": "433d484e",
   "metadata": {},
   "outputs": [
    {
     "data": {
      "text/plain": [
       "(<activelearning.SyntheticAssistedAL at 0x139aedbcd60>,\n",
       " <allib.analysis.plotter.ClassificationPlotter at 0x139aedbc7f0>)"
      ]
     },
     "execution_count": 30,
     "metadata": {},
     "output_type": "execute_result"
    }
   ],
   "source": [
    "simulate_classification(al, stop, plotter, 20, 2)"
   ]
  },
  {
   "cell_type": "markdown",
   "id": "427db31c",
   "metadata": {},
   "source": [
    "### Inspect results"
   ]
  },
  {
   "cell_type": "markdown",
   "id": "f721c8c0",
   "metadata": {},
   "source": [
    "*Final performance*"
   ]
  },
  {
   "cell_type": "code",
   "execution_count": 13,
   "id": "762560e9",
   "metadata": {},
   "outputs": [],
   "source": [
    "performance = classifier_performance(al.classifier, test, al.env.truth)"
   ]
  },
  {
   "cell_type": "code",
   "execution_count": 14,
   "id": "a5e9c206",
   "metadata": {},
   "outputs": [
    {
     "name": "stdout",
     "output_type": "stream",
     "text": [
      "F1 score: 0.6074895977808599\n",
      "F2 score: 0.5527511357900051\n",
      "Recall: 0.5214285714285715\n",
      "Precision: 0.7275747508305648\n",
      "Accuracy: 0.9798862828713575\n"
     ]
    }
   ],
   "source": [
    "print(f\"F1 score: {performance['covid'].f1}\")\n",
    "print(f\"F2 score: {performance['covid'].f_beta(2)}\")\n",
    "print(f\"Recall: {performance['covid'].recall}\")\n",
    "print(f\"Precision: {performance['covid'].precision}\")\n",
    "print(f\"Accuracy: {performance['covid'].accuracy}\")"
   ]
  },
  {
   "cell_type": "code",
   "execution_count": 29,
   "id": "f4cb9996",
   "metadata": {},
   "outputs": [
    {
     "name": "stdout",
     "output_type": "stream",
     "text": [
      "Confusion matrix \n",
      " [[13568    82]\n",
      " [  201   219]]\n",
      "ROC_AUC 0.7577106227106226\n",
      "MCC 0.6062040578086441\n",
      "F2 0.552751135790005\n"
     ]
    }
   ],
   "source": [
    "predictions = al.classifier.predict(test)\n",
    "y_true, y_pred = sklearn_truth_pred(al.classifier, predictions, al.env.truth)\n",
    "    \n",
    "print('Confusion matrix \\n', confusion_matrix(y_true, y_pred))\n",
    "print('ROC_AUC', roc_auc_score(y_true, y_pred))\n",
    "print('MCC', matthews_corrcoef(y_true, y_pred))\n",
    "print('F2', fbeta_score(y_true, y_pred, beta=2))"
   ]
  },
  {
   "cell_type": "markdown",
   "id": "e1f33b62",
   "metadata": {},
   "source": [
    "*Performance over time*"
   ]
  },
  {
   "cell_type": "code",
   "execution_count": 15,
   "id": "71e36519",
   "metadata": {},
   "outputs": [
    {
     "data": {
      "image/png": "[encoded data removed]",
      "text/plain": [
       "<Figure size 432x288 with 1 Axes>"
      ]
     },
     "metadata": {
      "needs_background": "light"
     },
     "output_type": "display_data"
    }
   ],
   "source": [
    "plotter.show()"
   ]
  },
  {
   "cell_type": "code",
   "execution_count": 16,
   "id": "0fccba3f",
   "metadata": {},
   "outputs": [
    {
     "data": {
      "text/html": [
       "<div>\n",
       "<style scoped>\n",
       "    .dataframe tbody tr th:only-of-type {\n",
       "        vertical-align: middle;\n",
       "    }\n",
       "\n",
       "    .dataframe tbody tr th {\n",
       "        vertical-align: top;\n",
       "    }\n",
       "\n",
       "    .dataframe thead th {\n",
       "        text-align: right;\n",
       "    }\n",
       "</style>\n",
       "<table border=\"1\" class=\"dataframe\">\n",
       "  <thead>\n",
       "    <tr style=\"text-align: right;\">\n",
       "      <th></th>\n",
       "      <th>affair_docs</th>\n",
       "      <th>affair_f1</th>\n",
       "      <th>affair_n_generated</th>\n",
       "      <th>affair_precision</th>\n",
       "      <th>affair_ratio</th>\n",
       "      <th>affair_recall</th>\n",
       "      <th>covid_docs</th>\n",
       "      <th>covid_f1</th>\n",
       "      <th>covid_n_generated</th>\n",
       "      <th>covid_precision</th>\n",
       "      <th>covid_ratio</th>\n",
       "      <th>covid_recall</th>\n",
       "      <th>n_generated_docs</th>\n",
       "      <th>n_labeled</th>\n",
       "    </tr>\n",
       "  </thead>\n",
       "  <tbody>\n",
       "    <tr>\n",
       "      <th>0</th>\n",
       "      <td>63.0</td>\n",
       "      <td>0.972199</td>\n",
       "      <td>0.0</td>\n",
       "      <td>0.977345</td>\n",
       "      <td>0.840000</td>\n",
       "      <td>0.967106</td>\n",
       "      <td>12.0</td>\n",
       "      <td>0.231943</td>\n",
       "      <td>15.0</td>\n",
       "      <td>0.202487</td>\n",
       "      <td>0.160000</td>\n",
       "      <td>0.271429</td>\n",
       "      <td>15.0</td>\n",
       "      <td>75.0</td>\n",
       "    </tr>\n",
       "    <tr>\n",
       "      <th>1</th>\n",
       "      <td>68.0</td>\n",
       "      <td>0.957833</td>\n",
       "      <td>0.0</td>\n",
       "      <td>0.984306</td>\n",
       "      <td>0.715789</td>\n",
       "      <td>0.932747</td>\n",
       "      <td>27.0</td>\n",
       "      <td>0.279100</td>\n",
       "      <td>60.0</td>\n",
       "      <td>0.191189</td>\n",
       "      <td>0.284211</td>\n",
       "      <td>0.516667</td>\n",
       "      <td>60.0</td>\n",
       "      <td>95.0</td>\n",
       "    </tr>\n",
       "    <tr>\n",
       "      <th>2</th>\n",
       "      <td>68.0</td>\n",
       "      <td>0.948366</td>\n",
       "      <td>0.0</td>\n",
       "      <td>0.987393</td>\n",
       "      <td>0.591304</td>\n",
       "      <td>0.912308</td>\n",
       "      <td>47.0</td>\n",
       "      <td>0.277955</td>\n",
       "      <td>135.0</td>\n",
       "      <td>0.179012</td>\n",
       "      <td>0.408696</td>\n",
       "      <td>0.621429</td>\n",
       "      <td>135.0</td>\n",
       "      <td>115.0</td>\n",
       "    </tr>\n",
       "    <tr>\n",
       "      <th>3</th>\n",
       "      <td>72.0</td>\n",
       "      <td>0.916925</td>\n",
       "      <td>0.0</td>\n",
       "      <td>0.989478</td>\n",
       "      <td>0.533333</td>\n",
       "      <td>0.854286</td>\n",
       "      <td>63.0</td>\n",
       "      <td>0.218854</td>\n",
       "      <td>235.0</td>\n",
       "      <td>0.129540</td>\n",
       "      <td>0.466667</td>\n",
       "      <td>0.704762</td>\n",
       "      <td>235.0</td>\n",
       "      <td>135.0</td>\n",
       "    </tr>\n",
       "    <tr>\n",
       "      <th>4</th>\n",
       "      <td>77.0</td>\n",
       "      <td>0.897817</td>\n",
       "      <td>0.0</td>\n",
       "      <td>0.990455</td>\n",
       "      <td>0.496774</td>\n",
       "      <td>0.821026</td>\n",
       "      <td>78.0</td>\n",
       "      <td>0.196535</td>\n",
       "      <td>315.0</td>\n",
       "      <td>0.113249</td>\n",
       "      <td>0.503226</td>\n",
       "      <td>0.742857</td>\n",
       "      <td>315.0</td>\n",
       "      <td>155.0</td>\n",
       "    </tr>\n",
       "    <tr>\n",
       "      <th>...</th>\n",
       "      <td>...</td>\n",
       "      <td>...</td>\n",
       "      <td>...</td>\n",
       "      <td>...</td>\n",
       "      <td>...</td>\n",
       "      <td>...</td>\n",
       "      <td>...</td>\n",
       "      <td>...</td>\n",
       "      <td>...</td>\n",
       "      <td>...</td>\n",
       "      <td>...</td>\n",
       "      <td>...</td>\n",
       "      <td>...</td>\n",
       "      <td>...</td>\n",
       "    </tr>\n",
       "    <tr>\n",
       "      <th>1634</th>\n",
       "      <td>31775.0</td>\n",
       "      <td>0.989679</td>\n",
       "      <td>0.0</td>\n",
       "      <td>0.985402</td>\n",
       "      <td>0.970081</td>\n",
       "      <td>0.993993</td>\n",
       "      <td>980.0</td>\n",
       "      <td>0.607490</td>\n",
       "      <td>4900.0</td>\n",
       "      <td>0.727575</td>\n",
       "      <td>0.029919</td>\n",
       "      <td>0.521429</td>\n",
       "      <td>4900.0</td>\n",
       "      <td>32755.0</td>\n",
       "    </tr>\n",
       "    <tr>\n",
       "      <th>1635</th>\n",
       "      <td>31795.0</td>\n",
       "      <td>0.989679</td>\n",
       "      <td>0.0</td>\n",
       "      <td>0.985402</td>\n",
       "      <td>0.970099</td>\n",
       "      <td>0.993993</td>\n",
       "      <td>980.0</td>\n",
       "      <td>0.607490</td>\n",
       "      <td>4900.0</td>\n",
       "      <td>0.727575</td>\n",
       "      <td>0.029901</td>\n",
       "      <td>0.521429</td>\n",
       "      <td>4900.0</td>\n",
       "      <td>32775.0</td>\n",
       "    </tr>\n",
       "    <tr>\n",
       "      <th>1636</th>\n",
       "      <td>31815.0</td>\n",
       "      <td>0.989679</td>\n",
       "      <td>0.0</td>\n",
       "      <td>0.985402</td>\n",
       "      <td>0.970117</td>\n",
       "      <td>0.993993</td>\n",
       "      <td>980.0</td>\n",
       "      <td>0.607490</td>\n",
       "      <td>4900.0</td>\n",
       "      <td>0.727575</td>\n",
       "      <td>0.029883</td>\n",
       "      <td>0.521429</td>\n",
       "      <td>4900.0</td>\n",
       "      <td>32795.0</td>\n",
       "    </tr>\n",
       "    <tr>\n",
       "      <th>1637</th>\n",
       "      <td>31835.0</td>\n",
       "      <td>0.989679</td>\n",
       "      <td>0.0</td>\n",
       "      <td>0.985402</td>\n",
       "      <td>0.970136</td>\n",
       "      <td>0.993993</td>\n",
       "      <td>980.0</td>\n",
       "      <td>0.607490</td>\n",
       "      <td>4900.0</td>\n",
       "      <td>0.727575</td>\n",
       "      <td>0.029864</td>\n",
       "      <td>0.521429</td>\n",
       "      <td>4900.0</td>\n",
       "      <td>32815.0</td>\n",
       "    </tr>\n",
       "    <tr>\n",
       "      <th>1638</th>\n",
       "      <td>31850.0</td>\n",
       "      <td>0.989679</td>\n",
       "      <td>0.0</td>\n",
       "      <td>0.985402</td>\n",
       "      <td>0.970149</td>\n",
       "      <td>0.993993</td>\n",
       "      <td>980.0</td>\n",
       "      <td>0.607490</td>\n",
       "      <td>4900.0</td>\n",
       "      <td>0.727575</td>\n",
       "      <td>0.029851</td>\n",
       "      <td>0.521429</td>\n",
       "      <td>4900.0</td>\n",
       "      <td>32830.0</td>\n",
       "    </tr>\n",
       "  </tbody>\n",
       "</table>\n",
       "<p>1639 rows × 14 columns</p>\n",
       "</div>"
      ],
      "text/plain": [
       "      affair_docs  affair_f1  affair_n_generated  affair_precision  \\\n",
       "0            63.0   0.972199                 0.0          0.977345   \n",
       "1            68.0   0.957833                 0.0          0.984306   \n",
       "2            68.0   0.948366                 0.0          0.987393   \n",
       "3            72.0   0.916925                 0.0          0.989478   \n",
       "4            77.0   0.897817                 0.0          0.990455   \n",
       "...           ...        ...                 ...               ...   \n",
       "1634      31775.0   0.989679                 0.0          0.985402   \n",
       "1635      31795.0   0.989679                 0.0          0.985402   \n",
       "1636      31815.0   0.989679                 0.0          0.985402   \n",
       "1637      31835.0   0.989679                 0.0          0.985402   \n",
       "1638      31850.0   0.989679                 0.0          0.985402   \n",
       "\n",
       "      affair_ratio  affair_recall  covid_docs  covid_f1  covid_n_generated  \\\n",
       "0         0.840000       0.967106        12.0  0.231943               15.0   \n",
       "1         0.715789       0.932747        27.0  0.279100               60.0   \n",
       "2         0.591304       0.912308        47.0  0.277955              135.0   \n",
       "3         0.533333       0.854286        63.0  0.218854              235.0   \n",
       "4         0.496774       0.821026        78.0  0.196535              315.0   \n",
       "...            ...            ...         ...       ...                ...   \n",
       "1634      0.970081       0.993993       980.0  0.607490             4900.0   \n",
       "1635      0.970099       0.993993       980.0  0.607490             4900.0   \n",
       "1636      0.970117       0.993993       980.0  0.607490             4900.0   \n",
       "1637      0.970136       0.993993       980.0  0.607490             4900.0   \n",
       "1638      0.970149       0.993993       980.0  0.607490             4900.0   \n",
       "\n",
       "      covid_precision  covid_ratio  covid_recall  n_generated_docs  n_labeled  \n",
       "0            0.202487     0.160000      0.271429              15.0       75.0  \n",
       "1            0.191189     0.284211      0.516667              60.0       95.0  \n",
       "2            0.179012     0.408696      0.621429             135.0      115.0  \n",
       "3            0.129540     0.466667      0.704762             235.0      135.0  \n",
       "4            0.113249     0.503226      0.742857             315.0      155.0  \n",
       "...               ...          ...           ...               ...        ...  \n",
       "1634         0.727575     0.029919      0.521429            4900.0    32755.0  \n",
       "1635         0.727575     0.029901      0.521429            4900.0    32775.0  \n",
       "1636         0.727575     0.029883      0.521429            4900.0    32795.0  \n",
       "1637         0.727575     0.029864      0.521429            4900.0    32815.0  \n",
       "1638         0.727575     0.029851      0.521429            4900.0    32830.0  \n",
       "\n",
       "[1639 rows x 14 columns]"
      ]
     },
     "execution_count": 16,
     "metadata": {},
     "output_type": "execute_result"
    }
   ],
   "source": [
    "plotter.result_frame"
   ]
  },
  {
   "cell_type": "code",
   "execution_count": 17,
   "id": "ee85dcb7",
   "metadata": {},
   "outputs": [],
   "source": [
    "# plotter.result_frame.to_csv('ex3_ivae_all_docs.csv', index=False)"
   ]
  },
  {
   "cell_type": "markdown",
   "id": "6ea78873",
   "metadata": {},
   "source": [
    "*Calculate F2 score progression to plot*"
   ]
  },
  {
   "cell_type": "code",
   "execution_count": null,
   "id": "5699e221",
   "metadata": {},
   "outputs": [],
   "source": [
    "f2_score = ((5) * plotter.result_frame['covid_precision'] * plotter.result_frame['covid_recall']) / (4 * plotter.result_frame['covid_precision'] + plotter.result_frame['covid_recall'])"
   ]
  },
  {
   "cell_type": "code",
   "execution_count": 70,
   "id": "bc3930b6",
   "metadata": {},
   "outputs": [
    {
     "data": {
      "image/png": "[encoded data removed]",
      "text/plain": [
       "<Figure size 432x288 with 1 Axes>"
      ]
     },
     "metadata": {
      "needs_background": "light"
     },
     "output_type": "display_data"
    }
   ],
   "source": [
    "plt.plot(f2_score,'navy')\n",
    "plt.xlabel('Iteration')\n",
    "plt.ylabel('F2-score')\n",
    "plt.title('F2-scores over the active learning process')\n",
    "plt.show()"
   ]
  },
  {
   "cell_type": "markdown",
   "id": "02dfb537",
   "metadata": {},
   "source": [
    "*Check how many labeled instances were needed for 'best' result*"
   ]
  },
  {
   "cell_type": "code",
   "execution_count": 67,
   "id": "238960fc",
   "metadata": {},
   "outputs": [
    {
     "data": {
      "text/plain": [
       "[(328, 0.5592105263157895),\n",
       " (329, 0.5592105263157895),\n",
       " (330, 0.5592105263157895),\n",
       " (331, 0.5592105263157895),\n",
       " (334, 0.5592105263157895),\n",
       " (335, 0.5592105263157895)]"
      ]
     },
     "execution_count": 67,
     "metadata": {},
     "output_type": "execute_result"
    }
   ],
   "source": [
    "#find (first) index of highest F2 score\n",
    "[(i, score) for i, score in enumerate(f2_score) if f==max(f2_score)]"
   ]
  },
  {
   "cell_type": "code",
   "execution_count": 49,
   "id": "1180fbe8",
   "metadata": {},
   "outputs": [
    {
     "data": {
      "text/html": [
       "<div>\n",
       "<style scoped>\n",
       "    .dataframe tbody tr th:only-of-type {\n",
       "        vertical-align: middle;\n",
       "    }\n",
       "\n",
       "    .dataframe tbody tr th {\n",
       "        vertical-align: top;\n",
       "    }\n",
       "\n",
       "    .dataframe thead th {\n",
       "        text-align: right;\n",
       "    }\n",
       "</style>\n",
       "<table border=\"1\" class=\"dataframe\">\n",
       "  <thead>\n",
       "    <tr style=\"text-align: right;\">\n",
       "      <th></th>\n",
       "      <th>affair_docs</th>\n",
       "      <th>affair_f1</th>\n",
       "      <th>affair_n_generated</th>\n",
       "      <th>affair_precision</th>\n",
       "      <th>affair_ratio</th>\n",
       "      <th>affair_recall</th>\n",
       "      <th>covid_docs</th>\n",
       "      <th>covid_f1</th>\n",
       "      <th>covid_n_generated</th>\n",
       "      <th>covid_precision</th>\n",
       "      <th>covid_ratio</th>\n",
       "      <th>covid_recall</th>\n",
       "      <th>n_generated_docs</th>\n",
       "      <th>n_labeled</th>\n",
       "    </tr>\n",
       "  </thead>\n",
       "  <tbody>\n",
       "    <tr>\n",
       "      <th>328</th>\n",
       "      <td>5815.0</td>\n",
       "      <td>0.990009</td>\n",
       "      <td>0.0</td>\n",
       "      <td>0.985552</td>\n",
       "      <td>0.876413</td>\n",
       "      <td>0.994505</td>\n",
       "      <td>820.0</td>\n",
       "      <td>0.617318</td>\n",
       "      <td>4100.0</td>\n",
       "      <td>0.746622</td>\n",
       "      <td>0.123587</td>\n",
       "      <td>0.52619</td>\n",
       "      <td>4100.0</td>\n",
       "      <td>6635.0</td>\n",
       "    </tr>\n",
       "  </tbody>\n",
       "</table>\n",
       "</div>"
      ],
      "text/plain": [
       "     affair_docs  affair_f1  affair_n_generated  affair_precision  \\\n",
       "328       5815.0   0.990009                 0.0          0.985552   \n",
       "\n",
       "     affair_ratio  affair_recall  covid_docs  covid_f1  covid_n_generated  \\\n",
       "328      0.876413       0.994505       820.0  0.617318             4100.0   \n",
       "\n",
       "     covid_precision  covid_ratio  covid_recall  n_generated_docs  n_labeled  \n",
       "328         0.746622     0.123587       0.52619            4100.0     6635.0  "
      ]
     },
     "execution_count": 49,
     "metadata": {},
     "output_type": "execute_result"
    }
   ],
   "source": [
    "plotter.result_frame[328:329]"
   ]
  }
 ],
 "metadata": {
  "kernelspec": {
   "display_name": "Python 3",
   "language": "python",
   "name": "python3"
  },
  "language_info": {
   "codemirror_mode": {
    "name": "ipython",
    "version": 3
   },
   "file_extension": ".py",
   "mimetype": "text/x-python",
   "name": "python",
   "nbconvert_exporter": "python",
   "pygments_lexer": "ipython3",
   "version": "3.8.8"
  }
 },
 "nbformat": 4,
 "nbformat_minor": 5
}
