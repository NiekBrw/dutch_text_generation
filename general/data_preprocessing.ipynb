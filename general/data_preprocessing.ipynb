{
 "cells": [
  {
   "cell_type": "markdown",
   "id": "young-maintenance",
   "metadata": {},
   "source": [
    "# Data Preprocessing"
   ]
  },
  {
   "cell_type": "markdown",
   "id": "amended-soccer",
   "metadata": {},
   "source": [
    "### Imports"
   ]
  },
  {
   "cell_type": "code",
   "execution_count": 1,
   "id": "unusual-pound",
   "metadata": {},
   "outputs": [],
   "source": [
    "import pandas as pd\n",
    "\n",
    "from preprocessing import preprocessing\n",
    "\n",
    "from collections import Counter\n",
    "\n",
    "import matplotlib.pyplot as plt\n",
    "import matplotlib\n",
    "\n",
    "import re\n",
    "\n",
    "from sklearn.utils import shuffle\n",
    "from sklearn.model_selection import train_test_split"
   ]
  },
  {
   "cell_type": "markdown",
   "id": "7a1b8e04",
   "metadata": {},
   "source": [
    "### Define functions"
   ]
  },
  {
   "cell_type": "code",
   "execution_count": 15,
   "id": "c087f302",
   "metadata": {},
   "outputs": [],
   "source": [
    "def select_on_tweet_length(post, max_len):\n",
    "    '''Check if the length of a post is smaller or equal to the max length.'''\n",
    "    if len(post.split()) <= max_len:\n",
    "        return True\n",
    "    else: return False"
   ]
  },
  {
   "cell_type": "code",
   "execution_count": 20,
   "id": "89ba9afa",
   "metadata": {},
   "outputs": [],
   "source": [
    "def count_posts(reg_expression, post):\n",
    "    '''Count the occurences of different regex in the posts.\n",
    "    Used for some general statistics'''\n",
    "    post_list = re.findall(reg_expression, post)\n",
    "    return len(post_list)"
   ]
  },
  {
   "cell_type": "code",
   "execution_count": 2,
   "id": "5a2603c7",
   "metadata": {},
   "outputs": [],
   "source": [
    "def replace_words_by_ids(post, max_len, word_indices):\n",
    "    '''Replace all tokens with an ID number'''\n",
    "    ided_post = []\n",
    "    for word in post.split():\n",
    "        ided_post.append(word_indices[word])\n",
    "    while len(ided_post) < max_len:\n",
    "        ided_post.append(word_indices[' '])\n",
    "    ided_post = ' '.join((str(v) for v in ided_post))\n",
    "    return ided_post"
   ]
  },
  {
   "cell_type": "markdown",
   "id": "driven-sandwich",
   "metadata": {},
   "source": [
    "### Import data"
   ]
  },
  {
   "cell_type": "code",
   "execution_count": 2,
   "id": "broadband-offer",
   "metadata": {},
   "outputs": [],
   "source": [
    "data = pd.read_csv('../data/complete_scraped_data.csv')"
   ]
  },
  {
   "cell_type": "markdown",
   "id": "rural-desire",
   "metadata": {},
   "source": [
    "### General preprocessing"
   ]
  },
  {
   "cell_type": "code",
   "execution_count": 3,
   "id": "atomic-looking",
   "metadata": {},
   "outputs": [],
   "source": [
    "data['clean_post'] = data['post'].apply(lambda x: preprocessing(x))"
   ]
  },
  {
   "cell_type": "code",
   "execution_count": 4,
   "id": "b4d17c12",
   "metadata": {},
   "outputs": [
    {
     "data": {
      "text/html": [
       "<div>\n",
       "<style scoped>\n",
       "    .dataframe tbody tr th:only-of-type {\n",
       "        vertical-align: middle;\n",
       "    }\n",
       "\n",
       "    .dataframe tbody tr th {\n",
       "        vertical-align: top;\n",
       "    }\n",
       "\n",
       "    .dataframe thead th {\n",
       "        text-align: right;\n",
       "    }\n",
       "</style>\n",
       "<table border=\"1\" class=\"dataframe\">\n",
       "  <thead>\n",
       "    <tr style=\"text-align: right;\">\n",
       "      <th></th>\n",
       "      <th>datetime</th>\n",
       "      <th>tweet_id</th>\n",
       "      <th>post</th>\n",
       "      <th>user</th>\n",
       "      <th>set</th>\n",
       "      <th>clean_post</th>\n",
       "    </tr>\n",
       "  </thead>\n",
       "  <tbody>\n",
       "    <tr>\n",
       "      <th>0</th>\n",
       "      <td>2021-05-31 13:02:37+00:00</td>\n",
       "      <td>1399350603969613833</td>\n",
       "      <td>Wat een gezeik; tot eind september mondkapjes....</td>\n",
       "      <td>Persoon2795</td>\n",
       "      <td>covid</td>\n",
       "      <td>Wat een gezeik ; tot eind september mondkapjes...</td>\n",
       "    </tr>\n",
       "    <tr>\n",
       "      <th>1</th>\n",
       "      <td>2021-05-31 10:21:26+00:00</td>\n",
       "      <td>1399310042717958149</td>\n",
       "      <td>Waarom zijn mensen bang voor vaccinatie? Het n...</td>\n",
       "      <td>Persoon19344</td>\n",
       "      <td>covid</td>\n",
       "      <td>Waarom zijn mensen bang voor vaccinatie ? Het ...</td>\n",
       "    </tr>\n",
       "    <tr>\n",
       "      <th>2</th>\n",
       "      <td>2021-05-30 20:08:25+00:00</td>\n",
       "      <td>1399095371398324226</td>\n",
       "      <td>Ik krijg buikpijn van de steeds terugkerende v...</td>\n",
       "      <td>Persoon14610</td>\n",
       "      <td>covid</td>\n",
       "      <td>Ik krijg buikpijn van de steeds terugkerende v...</td>\n",
       "    </tr>\n",
       "    <tr>\n",
       "      <th>3</th>\n",
       "      <td>2021-05-30 17:05:06+00:00</td>\n",
       "      <td>1399049239607578625</td>\n",
       "      <td>Je zou maar #AstraZeneca hebben laten prikken....</td>\n",
       "      <td>Persoon1779</td>\n",
       "      <td>covid</td>\n",
       "      <td>Je zou maar # AstraZeneca hebben laten prikken...</td>\n",
       "    </tr>\n",
       "    <tr>\n",
       "      <th>4</th>\n",
       "      <td>2021-05-30 17:03:17+00:00</td>\n",
       "      <td>1399048780729622528</td>\n",
       "      <td>#samenleving #ikdoenietmeermee #nederlands Hal...</td>\n",
       "      <td>Persoon1410</td>\n",
       "      <td>covid</td>\n",
       "      <td>Hallo allemaal . Dit is mijn gedicht over same...</td>\n",
       "    </tr>\n",
       "  </tbody>\n",
       "</table>\n",
       "</div>"
      ],
      "text/plain": [
       "                    datetime             tweet_id  \\\n",
       "0  2021-05-31 13:02:37+00:00  1399350603969613833   \n",
       "1  2021-05-31 10:21:26+00:00  1399310042717958149   \n",
       "2  2021-05-30 20:08:25+00:00  1399095371398324226   \n",
       "3  2021-05-30 17:05:06+00:00  1399049239607578625   \n",
       "4  2021-05-30 17:03:17+00:00  1399048780729622528   \n",
       "\n",
       "                                                post          user    set  \\\n",
       "0  Wat een gezeik; tot eind september mondkapjes....   Persoon2795  covid   \n",
       "1  Waarom zijn mensen bang voor vaccinatie? Het n...  Persoon19344  covid   \n",
       "2  Ik krijg buikpijn van de steeds terugkerende v...  Persoon14610  covid   \n",
       "3  Je zou maar #AstraZeneca hebben laten prikken....   Persoon1779  covid   \n",
       "4  #samenleving #ikdoenietmeermee #nederlands Hal...   Persoon1410  covid   \n",
       "\n",
       "                                          clean_post  \n",
       "0  Wat een gezeik ; tot eind september mondkapjes...  \n",
       "1  Waarom zijn mensen bang voor vaccinatie ? Het ...  \n",
       "2  Ik krijg buikpijn van de steeds terugkerende v...  \n",
       "3  Je zou maar # AstraZeneca hebben laten prikken...  \n",
       "4  Hallo allemaal . Dit is mijn gedicht over same...  "
      ]
     },
     "execution_count": 4,
     "metadata": {},
     "output_type": "execute_result"
    }
   ],
   "source": [
    "data.head()"
   ]
  },
  {
   "cell_type": "markdown",
   "id": "2bc57f06",
   "metadata": {},
   "source": [
    "*Remove posts that have fewer than 2 tokens after preprocessing*"
   ]
  },
  {
   "cell_type": "code",
   "execution_count": 5,
   "id": "6e9fd4df",
   "metadata": {},
   "outputs": [
    {
     "name": "stdout",
     "output_type": "stream",
     "text": [
      "82349\n"
     ]
    },
    {
     "data": {
      "text/plain": [
       "82261"
      ]
     },
     "execution_count": 5,
     "metadata": {},
     "output_type": "execute_result"
    }
   ],
   "source": [
    "print(len(data))\n",
    "data = data[data['clean_post'].notnull()]\n",
    "len(data)"
   ]
  },
  {
   "cell_type": "markdown",
   "id": "cross-andorra",
   "metadata": {},
   "source": [
    "*Remove duplicate clean posts*"
   ]
  },
  {
   "cell_type": "code",
   "execution_count": 6,
   "id": "known-phoenix",
   "metadata": {},
   "outputs": [
    {
     "name": "stdout",
     "output_type": "stream",
     "text": [
      "82261\n",
      "78912\n"
     ]
    }
   ],
   "source": [
    "print(len(data))\n",
    "data = data.drop_duplicates(subset='clean_post', keep=\"first\").reset_index(drop=True)\n",
    "print(len(data))"
   ]
  },
  {
   "cell_type": "code",
   "execution_count": 7,
   "id": "signal-reputation",
   "metadata": {},
   "outputs": [
    {
     "data": {
      "text/html": [
       "<div>\n",
       "<style scoped>\n",
       "    .dataframe tbody tr th:only-of-type {\n",
       "        vertical-align: middle;\n",
       "    }\n",
       "\n",
       "    .dataframe tbody tr th {\n",
       "        vertical-align: top;\n",
       "    }\n",
       "\n",
       "    .dataframe thead th {\n",
       "        text-align: right;\n",
       "    }\n",
       "</style>\n",
       "<table border=\"1\" class=\"dataframe\">\n",
       "  <thead>\n",
       "    <tr style=\"text-align: right;\">\n",
       "      <th></th>\n",
       "      <th>datetime</th>\n",
       "      <th>tweet_id</th>\n",
       "      <th>post</th>\n",
       "      <th>user</th>\n",
       "      <th>set</th>\n",
       "      <th>clean_post</th>\n",
       "    </tr>\n",
       "  </thead>\n",
       "  <tbody>\n",
       "    <tr>\n",
       "      <th>0</th>\n",
       "      <td>2021-05-31 13:02:37+00:00</td>\n",
       "      <td>1399350603969613833</td>\n",
       "      <td>Wat een gezeik; tot eind september mondkapjes....</td>\n",
       "      <td>Persoon2795</td>\n",
       "      <td>covid</td>\n",
       "      <td>Wat een gezeik ; tot eind september mondkapjes...</td>\n",
       "    </tr>\n",
       "    <tr>\n",
       "      <th>1</th>\n",
       "      <td>2021-05-31 10:21:26+00:00</td>\n",
       "      <td>1399310042717958149</td>\n",
       "      <td>Waarom zijn mensen bang voor vaccinatie? Het n...</td>\n",
       "      <td>Persoon19344</td>\n",
       "      <td>covid</td>\n",
       "      <td>Waarom zijn mensen bang voor vaccinatie ? Het ...</td>\n",
       "    </tr>\n",
       "    <tr>\n",
       "      <th>2</th>\n",
       "      <td>2021-05-30 20:08:25+00:00</td>\n",
       "      <td>1399095371398324226</td>\n",
       "      <td>Ik krijg buikpijn van de steeds terugkerende v...</td>\n",
       "      <td>Persoon14610</td>\n",
       "      <td>covid</td>\n",
       "      <td>Ik krijg buikpijn van de steeds terugkerende v...</td>\n",
       "    </tr>\n",
       "    <tr>\n",
       "      <th>3</th>\n",
       "      <td>2021-05-30 17:05:06+00:00</td>\n",
       "      <td>1399049239607578625</td>\n",
       "      <td>Je zou maar #AstraZeneca hebben laten prikken....</td>\n",
       "      <td>Persoon1779</td>\n",
       "      <td>covid</td>\n",
       "      <td>Je zou maar # AstraZeneca hebben laten prikken...</td>\n",
       "    </tr>\n",
       "    <tr>\n",
       "      <th>4</th>\n",
       "      <td>2021-05-30 17:03:17+00:00</td>\n",
       "      <td>1399048780729622528</td>\n",
       "      <td>#samenleving #ikdoenietmeermee #nederlands Hal...</td>\n",
       "      <td>Persoon1410</td>\n",
       "      <td>covid</td>\n",
       "      <td>Hallo allemaal . Dit is mijn gedicht over same...</td>\n",
       "    </tr>\n",
       "  </tbody>\n",
       "</table>\n",
       "</div>"
      ],
      "text/plain": [
       "                    datetime             tweet_id  \\\n",
       "0  2021-05-31 13:02:37+00:00  1399350603969613833   \n",
       "1  2021-05-31 10:21:26+00:00  1399310042717958149   \n",
       "2  2021-05-30 20:08:25+00:00  1399095371398324226   \n",
       "3  2021-05-30 17:05:06+00:00  1399049239607578625   \n",
       "4  2021-05-30 17:03:17+00:00  1399048780729622528   \n",
       "\n",
       "                                                post          user    set  \\\n",
       "0  Wat een gezeik; tot eind september mondkapjes....   Persoon2795  covid   \n",
       "1  Waarom zijn mensen bang voor vaccinatie? Het n...  Persoon19344  covid   \n",
       "2  Ik krijg buikpijn van de steeds terugkerende v...  Persoon14610  covid   \n",
       "3  Je zou maar #AstraZeneca hebben laten prikken....   Persoon1779  covid   \n",
       "4  #samenleving #ikdoenietmeermee #nederlands Hal...   Persoon1410  covid   \n",
       "\n",
       "                                          clean_post  \n",
       "0  Wat een gezeik ; tot eind september mondkapjes...  \n",
       "1  Waarom zijn mensen bang voor vaccinatie ? Het ...  \n",
       "2  Ik krijg buikpijn van de steeds terugkerende v...  \n",
       "3  Je zou maar # AstraZeneca hebben laten prikken...  \n",
       "4  Hallo allemaal . Dit is mijn gedicht over same...  "
      ]
     },
     "execution_count": 7,
     "metadata": {},
     "output_type": "execute_result"
    }
   ],
   "source": [
    "data.head()"
   ]
  },
  {
   "cell_type": "code",
   "execution_count": 8,
   "id": "dbd2d50f",
   "metadata": {},
   "outputs": [
    {
     "name": "stdout",
     "output_type": "stream",
     "text": [
      "@gebruiker7221 7.50 om 40 uur mee te mogen doen in de samenleving... koekoek gaat ie lekker? #hugodejonge #ikdoenietmeermee #hugodejongekanniks #hugodejongemoetopgeslotenworden \n",
      " @ gebruiker7221 7 . 50 om 40 uur mee te mogen doen in de samenleving . . . koekoek gaat ie lekker ?  \n",
      "\n",
      "\n",
      "De verhoren zijn weer gestart. Geen ja, geen nee, en geen Eh. 😎. #toeslagenaffaire \n",
      " De verhoren zijn weer gestart . Geen ja , geen nee , en geen Eh . .  \n",
      "\n",
      "\n",
      "Hoe eerder hoe beter, geen kans geven om notulen/ stukken \"kwijt te raken\" #toeslagenschandaal #toeslagenaffaire https://t.co/WAO6yReHlD \n",
      " Hoe eerder hoe beter , geen kans geven om notulen / stukken \" kwijt te raken \" # toeslagenschandaal \n",
      "\n",
      "\n"
     ]
    }
   ],
   "source": [
    "preprocessing_show = data.sample(n=3, random_state=111).reset_index(drop=True) \n",
    "for p in range(len(preprocessing_show)):\n",
    "    print(preprocessing_show['post'][p], '\\n', preprocessing_show['clean_post'][p], '\\n\\n')"
   ]
  },
  {
   "cell_type": "code",
   "execution_count": 9,
   "id": "822275d0",
   "metadata": {},
   "outputs": [],
   "source": [
    "covid = data[data['set'] == 'covid'].reset_index(drop=True)\n",
    "affair = data[data['set'] == 'affair'].reset_index(drop=True)"
   ]
  },
  {
   "cell_type": "markdown",
   "id": "13a03329",
   "metadata": {},
   "source": [
    "*Find cut-off for tweet length*"
   ]
  },
  {
   "cell_type": "code",
   "execution_count": 10,
   "id": "09199bd8",
   "metadata": {},
   "outputs": [],
   "source": [
    "sequence_lenghts_covid = {}\n",
    "for post in covid['clean_post']:\n",
    "    if len(post.split()) not in sequence_lenghts_covid.keys():\n",
    "        sequence_lenghts_covid[len(post.split())] = 1\n",
    "    else:\n",
    "        sequence_lenghts_covid[len(post.split())] = sequence_lenghts_covid[len(post.split())]+1\n",
    "        \n",
    "sequence_lenghts_affair = {}\n",
    "for post in affair['clean_post']:\n",
    "    if len(post.split()) not in sequence_lenghts_affair.keys():\n",
    "        sequence_lenghts_affair[len(post.split())] = 1\n",
    "    else:\n",
    "        sequence_lenghts_affair[len(post.split())] = sequence_lenghts_affair[len(post.split())]+1"
   ]
  },
  {
   "cell_type": "code",
   "execution_count": 13,
   "id": "a63d0e11",
   "metadata": {},
   "outputs": [
    {
     "data": {
      "image/png": "[encoded data removed]",
      "text/plain": [
       "<Figure size 864x360 with 2 Axes>"
      ]
     },
     "metadata": {
      "needs_background": "light"
     },
     "output_type": "display_data"
    }
   ],
   "source": [
    "cmap = matplotlib.cm.get_cmap('gist_earth')\n",
    "\n",
    "fig, ax = plt.subplots(nrows=1, ncols=2, figsize=(12,5))\n",
    "ax[0].bar(sequence_lenghts_covid.keys(), sequence_lenghts_covid.values(), width=1.0, color=cmap(0.1))\n",
    "ax[0].set_xlabel(\"Tweet length\")\n",
    "ax[0].set_ylabel(\"Amount of tweets\")\n",
    "ax[1].bar(sequence_lenghts_affair.keys(), sequence_lenghts_affair.values(), width=1.0, color=cmap(0.1))\n",
    "ax[1].set_xlabel(\"Tweet length\")\n",
    "ax[1].set_ylabel(\"Amount of tweets\")\n",
    "ax[0].set_title('COVID-19')\n",
    "ax[1].set_title('Benefits Affair')\n",
    "plt.show()\n",
    "fig.savefig('tweet_length_hists.png', bbox_inches=\"tight\")\n"
   ]
  },
  {
   "cell_type": "markdown",
   "id": "0e471964",
   "metadata": {},
   "source": [
    "40 seems like a good length.\n",
    "\n",
    "Keep only short tweets and generate new statistics."
   ]
  },
  {
   "cell_type": "code",
   "execution_count": 16,
   "id": "7e5960d9",
   "metadata": {},
   "outputs": [],
   "source": [
    "covid['short'] = covid['clean_post'].apply(lambda x: select_on_tweet_length(x, 40))\n",
    "affair['short'] = affair['clean_post'].apply(lambda x: select_on_tweet_length(x, 40))"
   ]
  },
  {
   "cell_type": "code",
   "execution_count": 17,
   "id": "88742d8e",
   "metadata": {},
   "outputs": [],
   "source": [
    "short_covid = covid[covid['short'] == True]\n",
    "short_affair = affair[affair['short'] == True]"
   ]
  },
  {
   "cell_type": "code",
   "execution_count": 18,
   "id": "97708afd",
   "metadata": {},
   "outputs": [
    {
     "data": {
      "text/plain": [
       "(12561, 45575)"
      ]
     },
     "execution_count": 18,
     "metadata": {},
     "output_type": "execute_result"
    }
   ],
   "source": [
    "len(short_covid), len(short_affair)"
   ]
  },
  {
   "cell_type": "code",
   "execution_count": 19,
   "id": "8743bb82",
   "metadata": {},
   "outputs": [
    {
     "data": {
      "text/plain": [
       "58136"
      ]
     },
     "execution_count": 19,
     "metadata": {},
     "output_type": "execute_result"
    }
   ],
   "source": [
    "short = pd.concat([short_covid, short_affair], axis=0).reset_index()\n",
    "len(short)"
   ]
  },
  {
   "cell_type": "code",
   "execution_count": 21,
   "id": "1f962937",
   "metadata": {},
   "outputs": [],
   "source": [
    "content_count = {\n",
    "    'characters': short['clean_post'].apply(lambda x: len(x)), #Twitter does not always count characters in a straightforward way, so there can be values above 240\n",
    "    'words' : short['clean_post'].apply(lambda x: len(x.split())),\n",
    "    'mentions' : short['clean_post'].apply(lambda x: count_posts(r'@', x)),\n",
    "    'hashtags' : short['clean_post'].apply(lambda x: count_posts(r'#', x)),\n",
    "    'urls' : short['clean_post'].apply(lambda x: count_posts(r'http.?://[^\\s]+[\\s]?', x)),   \n",
    "}"
   ]
  },
  {
   "cell_type": "code",
   "execution_count": 23,
   "id": "bcbf84e1",
   "metadata": {},
   "outputs": [],
   "source": [
    "df = pd.concat([data, pd.DataFrame(content_count)], axis=1)"
   ]
  },
  {
   "cell_type": "code",
   "execution_count": 24,
   "id": "b775a5ed",
   "metadata": {
    "scrolled": true
   },
   "outputs": [
    {
     "name": "stdout",
     "output_type": "stream",
     "text": [
      "\n",
      "Descriptive statistics for characters\n",
      "          count        mean        std  min   25%    50%    75%    max\n",
      "set                                                                   \n",
      "affair  41842.0  127.449262  58.373768  6.0  79.0  124.0  174.0  294.0\n",
      "covid   16294.0  117.210568  56.197681  6.0  71.0  112.0  161.0  294.0\n",
      "\n",
      "Descriptive statistics for words\n",
      "          count       mean        std  min   25%   50%   75%   max\n",
      "set                                                               \n",
      "affair  41842.0  22.772573  10.106866  2.0  14.0  23.0  31.0  40.0\n",
      "covid   16294.0  21.525776  10.163702  2.0  13.0  21.0  30.0  40.0\n",
      "\n",
      "Descriptive statistics for mentions\n",
      "          count      mean       std  min  25%  50%  75%  max\n",
      "set                                                         \n",
      "affair  41842.0  0.274867  0.596945  0.0  0.0  0.0  0.0  6.0\n",
      "covid   16294.0  0.172333  0.461365  0.0  0.0  0.0  0.0  6.0\n",
      "\n",
      "Descriptive statistics for hashtags\n",
      "          count      mean       std  min  25%  50%  75%   max\n",
      "set                                                          \n",
      "affair  41842.0  0.867525  0.947244  0.0  0.0  1.0  1.0  10.0\n",
      "covid   16294.0  0.808089  0.887625  0.0  0.0  1.0  1.0   8.0\n",
      "\n",
      "Descriptive statistics for urls\n",
      "          count  mean  std  min  25%  50%  75%  max\n",
      "set                                                \n",
      "affair  41842.0   0.0  0.0  0.0  0.0  0.0  0.0  0.0\n",
      "covid   16294.0   0.0  0.0  0.0  0.0  0.0  0.0  0.0\n"
     ]
    }
   ],
   "source": [
    "for key in content_count.keys():\n",
    "    print()\n",
    "    print('Descriptive statistics for {}'.format(key))\n",
    "    print(df.groupby('set')[key].describe())"
   ]
  },
  {
   "cell_type": "markdown",
   "id": "c06879c8",
   "metadata": {},
   "source": [
    "*check vocab sizes for data inspection*"
   ]
  },
  {
   "cell_type": "code",
   "execution_count": 31,
   "id": "071ff3c8",
   "metadata": {},
   "outputs": [],
   "source": [
    "covid_words = [word for post in short_covid['clean_post'] for word in post.split()]\n",
    "affair_words = [word for post in short_affair['clean_post'] for word in post.split()]"
   ]
  },
  {
   "cell_type": "code",
   "execution_count": 32,
   "id": "a85e51b8",
   "metadata": {},
   "outputs": [
    {
     "data": {
      "text/plain": [
       "(21874, 45404)"
      ]
     },
     "execution_count": 32,
     "metadata": {},
     "output_type": "execute_result"
    }
   ],
   "source": [
    "vocab_covid = len(set(covid_words))\n",
    "vocab_affair = len(set(affair_words))\n",
    "vocab_covid, vocab_affair"
   ]
  },
  {
   "cell_type": "markdown",
   "id": "c314bb10",
   "metadata": {},
   "source": [
    "### Create datasets for Experiments"
   ]
  },
  {
   "cell_type": "markdown",
   "id": "5ef8471c",
   "metadata": {},
   "source": [
    "#### Experiment 1"
   ]
  },
  {
   "cell_type": "markdown",
   "id": "b464a0d5",
   "metadata": {},
   "source": [
    "*Remove unfrequent terms*"
   ]
  },
  {
   "cell_type": "code",
   "execution_count": 33,
   "id": "cfac3cc9",
   "metadata": {},
   "outputs": [],
   "source": [
    "word_freq_covid = Counter(covid_words)"
   ]
  },
  {
   "cell_type": "code",
   "execution_count": 34,
   "id": "c2b3aa6e",
   "metadata": {},
   "outputs": [
    {
     "data": {
      "text/plain": [
       "21874"
      ]
     },
     "execution_count": 34,
     "metadata": {},
     "output_type": "execute_result"
    }
   ],
   "source": [
    "len(word_freq_covid)"
   ]
  },
  {
   "cell_type": "code",
   "execution_count": 35,
   "id": "6ac49914",
   "metadata": {},
   "outputs": [
    {
     "data": {
      "text/plain": [
       "17105"
      ]
     },
     "execution_count": 35,
     "metadata": {},
     "output_type": "execute_result"
    }
   ],
   "source": [
    "max(word_freq_covid.values())"
   ]
  },
  {
   "cell_type": "code",
   "execution_count": 37,
   "id": "65123297",
   "metadata": {
    "scrolled": true
   },
   "outputs": [
    {
     "data": {
      "image/png": "[encoded data removed]",
      "text/plain": [
       "<Figure size 432x288 with 1 Axes>"
      ]
     },
     "metadata": {
      "needs_background": "light"
     },
     "output_type": "display_data"
    }
   ],
   "source": [
    "plt.hist(word_freq_covid.values(), bins=100, range=(0,22500), color=cmap(0.1), log=True)\n",
    "plt.ylabel('Amount of words with frequency')\n",
    "plt.xlabel('Word frequency')\n",
    "plt.savefig('word_frequencies.png')"
   ]
  },
  {
   "cell_type": "markdown",
   "id": "9239bc38",
   "metadata": {},
   "source": [
    "Multiple thresholds were tried."
   ]
  },
  {
   "cell_type": "code",
   "execution_count": 69,
   "id": "e3193283",
   "metadata": {
    "scrolled": true
   },
   "outputs": [
    {
     "data": {
      "text/plain": [
       "15747"
      ]
     },
     "execution_count": 69,
     "metadata": {},
     "output_type": "execute_result"
    }
   ],
   "source": [
    "unfrequent_covid = {key:value for (key, value) in word_freq_covid.items() if value < 3}\n",
    "len(unfrequent_covid)"
   ]
  },
  {
   "cell_type": "markdown",
   "id": "d3f92030",
   "metadata": {},
   "source": [
    "Remove tweets with unfrequent terms."
   ]
  },
  {
   "cell_type": "code",
   "execution_count": 70,
   "id": "72ac4de3",
   "metadata": {},
   "outputs": [],
   "source": [
    "covid_without_unfrequent_words = [post for post in short_covid['clean_post'] if len(set([word for word in post.split()]).intersection(set(unfrequent_covid.keys()))) == 0]"
   ]
  },
  {
   "cell_type": "code",
   "execution_count": 71,
   "id": "a9bf989f",
   "metadata": {},
   "outputs": [
    {
     "data": {
      "text/plain": [
       "(4101, 16294, 12561)"
      ]
     },
     "execution_count": 71,
     "metadata": {},
     "output_type": "execute_result"
    }
   ],
   "source": [
    "len(covid_without_unfrequent_words), len(covid), len(short_covid)"
   ]
  },
  {
   "cell_type": "code",
   "execution_count": 77,
   "id": "b765683b",
   "metadata": {},
   "outputs": [],
   "source": [
    "gen_covid = pd.DataFrame(covid_without_unfrequent_words, columns=['text'])"
   ]
  },
  {
   "cell_type": "code",
   "execution_count": 78,
   "id": "e4825897",
   "metadata": {},
   "outputs": [
    {
     "data": {
      "text/html": [
       "<div>\n",
       "<style scoped>\n",
       "    .dataframe tbody tr th:only-of-type {\n",
       "        vertical-align: middle;\n",
       "    }\n",
       "\n",
       "    .dataframe tbody tr th {\n",
       "        vertical-align: top;\n",
       "    }\n",
       "\n",
       "    .dataframe thead th {\n",
       "        text-align: right;\n",
       "    }\n",
       "</style>\n",
       "<table border=\"1\" class=\"dataframe\">\n",
       "  <thead>\n",
       "    <tr style=\"text-align: right;\">\n",
       "      <th></th>\n",
       "      <th>text</th>\n",
       "    </tr>\n",
       "  </thead>\n",
       "  <tbody>\n",
       "    <tr>\n",
       "      <th>0</th>\n",
       "      <td>Dit is de echte # viruswaarheid</td>\n",
       "    </tr>\n",
       "    <tr>\n",
       "      <th>1</th>\n",
       "      <td>ikdoenietmeermee is nr . 10 trending hashtag i...</td>\n",
       "    </tr>\n",
       "    <tr>\n",
       "      <th>2</th>\n",
       "      <td>Moet niet gekker worden # ikdoenietmeermee</td>\n",
       "    </tr>\n",
       "    <tr>\n",
       "      <th>3</th>\n",
       "      <td>niet # ikdoenietmeermee wanneer ik de kans kri...</td>\n",
       "    </tr>\n",
       "    <tr>\n",
       "      <th>4</th>\n",
       "      <td>Die is wel wijzer . Net als jij en ik # ikweiger</td>\n",
       "    </tr>\n",
       "  </tbody>\n",
       "</table>\n",
       "</div>"
      ],
      "text/plain": [
       "                                                text\n",
       "0                    Dit is de echte # viruswaarheid\n",
       "1  ikdoenietmeermee is nr . 10 trending hashtag i...\n",
       "2         Moet niet gekker worden # ikdoenietmeermee\n",
       "3  niet # ikdoenietmeermee wanneer ik de kans kri...\n",
       "4   Die is wel wijzer . Net als jij en ik # ikweiger"
      ]
     },
     "execution_count": 78,
     "metadata": {},
     "output_type": "execute_result"
    }
   ],
   "source": [
    "gen_covid.head()"
   ]
  },
  {
   "cell_type": "markdown",
   "id": "4989e04e",
   "metadata": {},
   "source": [
    "*Train-test split*"
   ]
  },
  {
   "cell_type": "code",
   "execution_count": 103,
   "id": "8bafd0da",
   "metadata": {},
   "outputs": [],
   "source": [
    "train, test = train_test_split(gen_covid, test_size=0.2, random_state=16)"
   ]
  },
  {
   "cell_type": "code",
   "execution_count": 104,
   "id": "2d8c0beb",
   "metadata": {},
   "outputs": [
    {
     "data": {
      "text/plain": [
       "(3280, 821)"
      ]
     },
     "execution_count": 104,
     "metadata": {},
     "output_type": "execute_result"
    }
   ],
   "source": [
    "len(train), len(test)"
   ]
  },
  {
   "cell_type": "code",
   "execution_count": 105,
   "id": "d8aaec96",
   "metadata": {},
   "outputs": [],
   "source": [
    "test, val = train_test_split(test, test_size=0.5, random_state=16)"
   ]
  },
  {
   "cell_type": "code",
   "execution_count": 106,
   "id": "8d7a0c73",
   "metadata": {},
   "outputs": [],
   "source": [
    "train = train.reset_index(drop=True)\n",
    "val = val.reset_index(drop=True)\n",
    "test = test.reset_index(drop=True)"
   ]
  },
  {
   "cell_type": "code",
   "execution_count": 107,
   "id": "450ab417",
   "metadata": {},
   "outputs": [
    {
     "data": {
      "text/plain": [
       "(3280, 410, 411)"
      ]
     },
     "execution_count": 107,
     "metadata": {},
     "output_type": "execute_result"
    }
   ],
   "source": [
    "len(train), len(test), len(val)"
   ]
  },
  {
   "cell_type": "code",
   "execution_count": 132,
   "id": "87a28064",
   "metadata": {},
   "outputs": [],
   "source": [
    "covid_small_vocab = list(set([word for post in gen_covid['text'] for word in post.split()]))\n",
    "train_vocab = list(set([word for post in train['text'] for word in post.split()]))\n",
    "val_vocab = list(set([word for post in val['text'] for word in post.split()]))\n",
    "test_vocab = list(set([word for post in test['text'] for word in post.split()]))"
   ]
  },
  {
   "cell_type": "code",
   "execution_count": 133,
   "id": "bd297d72",
   "metadata": {},
   "outputs": [
    {
     "data": {
      "text/plain": [
       "(4664, 4301, 1490, 1623)"
      ]
     },
     "execution_count": 133,
     "metadata": {},
     "output_type": "execute_result"
    }
   ],
   "source": [
    "len(covid_small_vocab), len(train_vocab), len(test_vocab), len(val_vocab)"
   ]
  },
  {
   "cell_type": "markdown",
   "id": "a62b6826",
   "metadata": {},
   "source": [
    "*ID all tokens for ARAML*"
   ]
  },
  {
   "cell_type": "code",
   "execution_count": 111,
   "id": "ae118695",
   "metadata": {},
   "outputs": [],
   "source": [
    "covid_train_word_indices = {word:i for (i, word) in list(enumerate(train_vocab))}\n",
    "covid_train_word_indices[' '] = int(len(train_vocab))"
   ]
  },
  {
   "cell_type": "code",
   "execution_count": 113,
   "id": "9fa083a8",
   "metadata": {},
   "outputs": [],
   "source": [
    "train['ids'] = list(map(lambda x: replace_words_by_ids(x, 40, covid_train_word_indices), train['text']))"
   ]
  },
  {
   "cell_type": "code",
   "execution_count": 1,
   "id": "10616acb",
   "metadata": {},
   "outputs": [
    {
     "ename": "NameError",
     "evalue": "name 'train_vocab' is not defined",
     "output_type": "error",
     "traceback": [
      "\u001b[1;31m---------------------------------------------------------------------------\u001b[0m",
      "\u001b[1;31mNameError\u001b[0m                                 Traceback (most recent call last)",
      "\u001b[1;32m<ipython-input-1-29dd3ccedd99>\u001b[0m in \u001b[0;36m<module>\u001b[1;34m\u001b[0m\n\u001b[0;32m      1\u001b[0m \u001b[1;31m# The ARAML ID-token list needs to contain an extra ID for an empty space used for padding\u001b[0m\u001b[1;33m\u001b[0m\u001b[1;33m\u001b[0m\u001b[1;33m\u001b[0m\u001b[0m\n\u001b[1;32m----> 2\u001b[1;33m \u001b[0mtrain_vocab\u001b[0m\u001b[1;33m.\u001b[0m\u001b[0mappend\u001b[0m\u001b[1;33m(\u001b[0m\u001b[1;34m' '\u001b[0m\u001b[1;33m)\u001b[0m\u001b[1;33m\u001b[0m\u001b[1;33m\u001b[0m\u001b[0m\n\u001b[0m",
      "\u001b[1;31mNameError\u001b[0m: name 'train_vocab' is not defined"
     ]
    }
   ],
   "source": [
    "# The ARAML ID-token list needs to contain an extra ID for an empty space used for padding\n",
    "train_vocab.append(' ')"
   ]
  },
  {
   "cell_type": "markdown",
   "id": "317eaf6b",
   "metadata": {},
   "source": [
    "#### Experiment 2"
   ]
  },
  {
   "cell_type": "code",
   "execution_count": 26,
   "id": "47860731",
   "metadata": {},
   "outputs": [
    {
     "name": "stdout",
     "output_type": "stream",
     "text": [
      "46900\n"
     ]
    },
    {
     "data": {
      "text/html": [
       "<div>\n",
       "<style scoped>\n",
       "    .dataframe tbody tr th:only-of-type {\n",
       "        vertical-align: middle;\n",
       "    }\n",
       "\n",
       "    .dataframe tbody tr th {\n",
       "        vertical-align: top;\n",
       "    }\n",
       "\n",
       "    .dataframe thead th {\n",
       "        text-align: right;\n",
       "    }\n",
       "</style>\n",
       "<table border=\"1\" class=\"dataframe\">\n",
       "  <thead>\n",
       "    <tr style=\"text-align: right;\">\n",
       "      <th></th>\n",
       "      <th>datetime</th>\n",
       "      <th>tweet_id</th>\n",
       "      <th>post</th>\n",
       "      <th>user</th>\n",
       "      <th>set</th>\n",
       "      <th>clean_post</th>\n",
       "      <th>short</th>\n",
       "    </tr>\n",
       "  </thead>\n",
       "  <tbody>\n",
       "    <tr>\n",
       "      <th>0</th>\n",
       "      <td>2021-02-22 10:32:38+00:00</td>\n",
       "      <td>1363798851124162563</td>\n",
       "      <td>ontzeg alle politici die voor de coronamaatreg...</td>\n",
       "      <td>Persoon18125</td>\n",
       "      <td>covid</td>\n",
       "      <td>ontzeg alle politici die voor de coronamaatreg...</td>\n",
       "      <td>True</td>\n",
       "    </tr>\n",
       "    <tr>\n",
       "      <th>1</th>\n",
       "      <td>2021-01-12 05:50:43+00:00</td>\n",
       "      <td>1348870001009299456</td>\n",
       "      <td>@gebruiker3481 is zo’n beetje toonbeeld van al...</td>\n",
       "      <td>Persoon15039</td>\n",
       "      <td>affair</td>\n",
       "      <td>@ gebruiker3481 is zon beetje toonbeeld van al...</td>\n",
       "      <td>True</td>\n",
       "    </tr>\n",
       "    <tr>\n",
       "      <th>2</th>\n",
       "      <td>2021-01-12 13:51:44+00:00</td>\n",
       "      <td>1348991052238249986</td>\n",
       "      <td>Waarom denk Wiebes dat bij uitstek de veroorza...</td>\n",
       "      <td>Persoon13264</td>\n",
       "      <td>affair</td>\n",
       "      <td>Waarom denk Wiebes dat bij uitstek de veroorza...</td>\n",
       "      <td>True</td>\n",
       "    </tr>\n",
       "    <tr>\n",
       "      <th>3</th>\n",
       "      <td>2021-01-15 18:19:37+00:00</td>\n",
       "      <td>1350145628903510017</td>\n",
       "      <td>Verdeeld = blij 🤷🏻‍♀️ #toeslagenaffaire https:...</td>\n",
       "      <td>Persoon5979</td>\n",
       "      <td>affair</td>\n",
       "      <td>Verdeeld = blij # toeslagenaffaire</td>\n",
       "      <td>True</td>\n",
       "    </tr>\n",
       "    <tr>\n",
       "      <th>4</th>\n",
       "      <td>2021-05-31 17:32:28+00:00</td>\n",
       "      <td>1399418515187245059</td>\n",
       "      <td>De ellende gaat door zo kan ik verder oplijste...</td>\n",
       "      <td>Persoon11950</td>\n",
       "      <td>affair</td>\n",
       "      <td>De ellende gaat door zo kan ik verder oplijste...</td>\n",
       "      <td>True</td>\n",
       "    </tr>\n",
       "  </tbody>\n",
       "</table>\n",
       "</div>"
      ],
      "text/plain": [
       "                    datetime             tweet_id  \\\n",
       "0  2021-02-22 10:32:38+00:00  1363798851124162563   \n",
       "1  2021-01-12 05:50:43+00:00  1348870001009299456   \n",
       "2  2021-01-12 13:51:44+00:00  1348991052238249986   \n",
       "3  2021-01-15 18:19:37+00:00  1350145628903510017   \n",
       "4  2021-05-31 17:32:28+00:00  1399418515187245059   \n",
       "\n",
       "                                                post          user     set  \\\n",
       "0  ontzeg alle politici die voor de coronamaatreg...  Persoon18125   covid   \n",
       "1  @gebruiker3481 is zo’n beetje toonbeeld van al...  Persoon15039  affair   \n",
       "2  Waarom denk Wiebes dat bij uitstek de veroorza...  Persoon13264  affair   \n",
       "3  Verdeeld = blij 🤷🏻‍♀️ #toeslagenaffaire https:...   Persoon5979  affair   \n",
       "4  De ellende gaat door zo kan ik verder oplijste...  Persoon11950  affair   \n",
       "\n",
       "                                          clean_post  short  \n",
       "0  ontzeg alle politici die voor de coronamaatreg...   True  \n",
       "1  @ gebruiker3481 is zon beetje toonbeeld van al...   True  \n",
       "2  Waarom denk Wiebes dat bij uitstek de veroorza...   True  \n",
       "3                 Verdeeld = blij # toeslagenaffaire   True  \n",
       "4  De ellende gaat door zo kan ik verder oplijste...   True  "
      ]
     },
     "execution_count": 26,
     "metadata": {},
     "output_type": "execute_result"
    }
   ],
   "source": [
    "short_covid_sample = short_covid.sample(1400, random_state=16) #rounded\n",
    "short_affair_sample = short_affair.sample(45500, random_state=16) #rounded\n",
    "initial_classifier_sample = shuffle(pd.concat([short_covid_sample, short_affair_sample], axis=0)).reset_index(drop=True)\n",
    "print(len(initial_classifier_sample))\n",
    "initial_classifier_sample.head()"
   ]
  },
  {
   "cell_type": "code",
   "execution_count": 27,
   "id": "77b58a3f",
   "metadata": {},
   "outputs": [
    {
     "data": {
      "text/html": [
       "<div>\n",
       "<style scoped>\n",
       "    .dataframe tbody tr th:only-of-type {\n",
       "        vertical-align: middle;\n",
       "    }\n",
       "\n",
       "    .dataframe tbody tr th {\n",
       "        vertical-align: top;\n",
       "    }\n",
       "\n",
       "    .dataframe thead th {\n",
       "        text-align: right;\n",
       "    }\n",
       "</style>\n",
       "<table border=\"1\" class=\"dataframe\">\n",
       "  <thead>\n",
       "    <tr style=\"text-align: right;\">\n",
       "      <th></th>\n",
       "      <th>set</th>\n",
       "      <th>clean_post</th>\n",
       "    </tr>\n",
       "  </thead>\n",
       "  <tbody>\n",
       "    <tr>\n",
       "      <th>0</th>\n",
       "      <td>covid</td>\n",
       "      <td>ontzeg alle politici die voor de coronamaatreg...</td>\n",
       "    </tr>\n",
       "    <tr>\n",
       "      <th>1</th>\n",
       "      <td>affair</td>\n",
       "      <td>@ gebruiker3481 is zon beetje toonbeeld van al...</td>\n",
       "    </tr>\n",
       "    <tr>\n",
       "      <th>2</th>\n",
       "      <td>affair</td>\n",
       "      <td>Waarom denk Wiebes dat bij uitstek de veroorza...</td>\n",
       "    </tr>\n",
       "    <tr>\n",
       "      <th>3</th>\n",
       "      <td>affair</td>\n",
       "      <td>Verdeeld = blij # toeslagenaffaire</td>\n",
       "    </tr>\n",
       "    <tr>\n",
       "      <th>4</th>\n",
       "      <td>affair</td>\n",
       "      <td>De ellende gaat door zo kan ik verder oplijste...</td>\n",
       "    </tr>\n",
       "  </tbody>\n",
       "</table>\n",
       "</div>"
      ],
      "text/plain": [
       "      set                                         clean_post\n",
       "0   covid  ontzeg alle politici die voor de coronamaatreg...\n",
       "1  affair  @ gebruiker3481 is zon beetje toonbeeld van al...\n",
       "2  affair  Waarom denk Wiebes dat bij uitstek de veroorza...\n",
       "3  affair                 Verdeeld = blij # toeslagenaffaire\n",
       "4  affair  De ellende gaat door zo kan ik verder oplijste..."
      ]
     },
     "execution_count": 27,
     "metadata": {},
     "output_type": "execute_result"
    }
   ],
   "source": [
    "initial_classifier_sample = initial_classifier_sample.drop(['datetime', 'tweet_id', 'post', 'user', 'short'], axis=1)\n",
    "initial_classifier_sample.head()"
   ]
  },
  {
   "cell_type": "markdown",
   "id": "9222bbcd",
   "metadata": {},
   "source": [
    "### Save datafiles"
   ]
  },
  {
   "cell_type": "markdown",
   "id": "f3125b40",
   "metadata": {},
   "source": [
    "*General*"
   ]
  },
  {
   "cell_type": "code",
   "execution_count": 25,
   "id": "d7f124f9",
   "metadata": {},
   "outputs": [],
   "source": [
    "short_covid.to_csv('../data/short_covid.csv', index=False)\n",
    "short_affair.to_csv('../data/short_affair.csv', index=False)"
   ]
  },
  {
   "cell_type": "markdown",
   "id": "82b4909f",
   "metadata": {},
   "source": [
    "*Experiment 1*"
   ]
  },
  {
   "cell_type": "code",
   "execution_count": 117,
   "id": "aac65ce2",
   "metadata": {},
   "outputs": [],
   "source": [
    "with open(\"../data/covid_gen_train_vocab.txt\", \"w\") as outfile:\n",
    "    outfile.write(\"\\n\".join(train_vocab))"
   ]
  },
  {
   "cell_type": "code",
   "execution_count": 118,
   "id": "90bc0426",
   "metadata": {},
   "outputs": [],
   "source": [
    "with open(\"../data/covid_gen_train_ids.txt\", \"w\") as outfile:\n",
    "    outfile.write(\"\\n\".join(train['ids']))"
   ]
  },
  {
   "cell_type": "code",
   "execution_count": 119,
   "id": "2369ab0e",
   "metadata": {},
   "outputs": [],
   "source": [
    "with open(\"../data/covid_gen_train_text.txt\", \"w\") as outfile:\n",
    "    outfile.write(\"\\n\".join(train['text']))"
   ]
  },
  {
   "cell_type": "code",
   "execution_count": 120,
   "id": "611da4a7",
   "metadata": {},
   "outputs": [],
   "source": [
    "with open(\"../data/covid_gen_val_text.txt\", \"w\") as outfile:\n",
    "    outfile.write(\"\\n\".join(val['text']))"
   ]
  },
  {
   "cell_type": "code",
   "execution_count": 121,
   "id": "4bd800f9",
   "metadata": {},
   "outputs": [],
   "source": [
    "with open(\"../data/covid_gen_test_text.txt\", \"w\") as outfile:\n",
    "    outfile.write(\"\\n\".join(test['text']))"
   ]
  },
  {
   "cell_type": "markdown",
   "id": "c80bea6b",
   "metadata": {},
   "source": [
    "*Experiment 2*"
   ]
  },
  {
   "cell_type": "code",
   "execution_count": 28,
   "id": "2d9a87a6",
   "metadata": {},
   "outputs": [],
   "source": [
    "initial_classifier_sample.to_csv('../data/active_learning_data_to_test_imbalanced.csv', index=False)"
   ]
  }
 ],
 "metadata": {
  "kernelspec": {
   "display_name": "Python 3",
   "language": "python",
   "name": "python3"
  },
  "language_info": {
   "codemirror_mode": {
    "name": "ipython",
    "version": 3
   },
   "file_extension": ".py",
   "mimetype": "text/x-python",
   "name": "python",
   "nbconvert_exporter": "python",
   "pygments_lexer": "ipython3",
   "version": "3.8.8"
  }
 },
 "nbformat": 4,
 "nbformat_minor": 5
}
