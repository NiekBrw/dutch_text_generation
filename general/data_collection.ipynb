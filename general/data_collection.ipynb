{
 "cells": [
  {
   "cell_type": "markdown",
   "id": "hybrid-iraqi",
   "metadata": {},
   "source": [
    "# Thesis data collection"
   ]
  },
  {
   "cell_type": "markdown",
   "id": "modular-intermediate",
   "metadata": {},
   "source": [
    "### Imports"
   ]
  },
  {
   "cell_type": "code",
   "execution_count": 32,
   "id": "knowing-agent",
   "metadata": {},
   "outputs": [],
   "source": [
    "import snscrape.modules.twitter as sntwitter\n",
    "import pandas as pd\n",
    "import random"
   ]
  },
  {
   "cell_type": "markdown",
   "id": "false-career",
   "metadata": {},
   "source": [
    "### COVID-19 Data Collection"
   ]
  },
  {
   "cell_type": "code",
   "execution_count": 33,
   "id": "congressional-volleyball",
   "metadata": {},
   "outputs": [],
   "source": [
    "covid_list = []\n",
    "\n",
    "for i,tweet in enumerate(sntwitter.TwitterSearchScraper('#ikdoenietmeermee lang:nl since:2020-09-22 until:2021-06-01').get_items()):\n",
    "    covid_list.append([tweet.date, tweet.id, tweet.content, tweet.username])\n",
    "    \n",
    "covid_df = pd.DataFrame(covid_list, columns=['datetime', 'tweet_id', 'post', 'user'])"
   ]
  },
  {
   "cell_type": "markdown",
   "id": "engaging-attempt",
   "metadata": {},
   "source": [
    "*Info on COVID-19 data*"
   ]
  },
  {
   "cell_type": "code",
   "execution_count": 34,
   "id": "partial-budapest",
   "metadata": {},
   "outputs": [
    {
     "name": "stdout",
     "output_type": "stream",
     "text": [
      "<class 'pandas.core.frame.DataFrame'>\n",
      "RangeIndex: 17398 entries, 0 to 17397\n",
      "Data columns (total 4 columns):\n",
      " #   Column    Non-Null Count  Dtype              \n",
      "---  ------    --------------  -----              \n",
      " 0   datetime  17398 non-null  datetime64[ns, UTC]\n",
      " 1   tweet_id  17398 non-null  int64              \n",
      " 2   post      17398 non-null  object             \n",
      " 3   user      17398 non-null  object             \n",
      "dtypes: datetime64[ns, UTC](1), int64(1), object(2)\n",
      "memory usage: 543.8+ KB\n"
     ]
    }
   ],
   "source": [
    "covid_df.info()"
   ]
  },
  {
   "cell_type": "markdown",
   "id": "palestinian-ground",
   "metadata": {},
   "source": [
    "### Benefits Affair Data Collection"
   ]
  },
  {
   "cell_type": "code",
   "execution_count": 35,
   "id": "promotional-stand",
   "metadata": {},
   "outputs": [],
   "source": [
    "affair_list = []\n",
    "\n",
    "for i,tweet in enumerate(sntwitter.TwitterSearchScraper('#toeslagenaffaire lang:nl since:2020-09-22 until:2021-06-01').get_items()):\n",
    "    affair_list.append([tweet.date, tweet.id, tweet.content, tweet.username])\n",
    "    \n",
    "affair_df = pd.DataFrame(affair_list, columns=['datetime', 'tweet_id', 'post', 'user'])"
   ]
  },
  {
   "cell_type": "markdown",
   "id": "funky-separation",
   "metadata": {},
   "source": [
    "*Info on benefits affair data*"
   ]
  },
  {
   "cell_type": "code",
   "execution_count": 36,
   "id": "automated-leader",
   "metadata": {},
   "outputs": [
    {
     "name": "stdout",
     "output_type": "stream",
     "text": [
      "<class 'pandas.core.frame.DataFrame'>\n",
      "RangeIndex: 64978 entries, 0 to 64977\n",
      "Data columns (total 4 columns):\n",
      " #   Column    Non-Null Count  Dtype              \n",
      "---  ------    --------------  -----              \n",
      " 0   datetime  64978 non-null  datetime64[ns, UTC]\n",
      " 1   tweet_id  64978 non-null  int64              \n",
      " 2   post      64978 non-null  object             \n",
      " 3   user      64978 non-null  object             \n",
      "dtypes: datetime64[ns, UTC](1), int64(1), object(2)\n",
      "memory usage: 2.0+ MB\n"
     ]
    }
   ],
   "source": [
    "affair_df.info()"
   ]
  },
  {
   "cell_type": "markdown",
   "id": "7e5c7f09",
   "metadata": {},
   "source": [
    "### Dataset creation"
   ]
  },
  {
   "cell_type": "code",
   "execution_count": 37,
   "id": "2b65f851",
   "metadata": {},
   "outputs": [],
   "source": [
    "subset_covid = ['covid' for i in range(len(covid_df))]\n",
    "subset_affair = ['affair' for i in range(len(affair_df))]"
   ]
  },
  {
   "cell_type": "code",
   "execution_count": 38,
   "id": "ffaff2a3",
   "metadata": {},
   "outputs": [],
   "source": [
    "covid_df['set'] = subset_covid\n",
    "affair_df['set'] = subset_affair"
   ]
  },
  {
   "cell_type": "code",
   "execution_count": 39,
   "id": "9a0abc6e",
   "metadata": {},
   "outputs": [],
   "source": [
    "data = pd.concat([covid_df, affair_df]).reset_index(drop=True)"
   ]
  },
  {
   "cell_type": "code",
   "execution_count": 40,
   "id": "a711c72d",
   "metadata": {},
   "outputs": [],
   "source": [
    "datetime = [pd.to_datetime(date) for date in data['datetime']]\n",
    "data['datetime'] = datetime"
   ]
  },
  {
   "cell_type": "code",
   "execution_count": 41,
   "id": "150871e7",
   "metadata": {},
   "outputs": [
    {
     "name": "stdout",
     "output_type": "stream",
     "text": [
      "<class 'pandas.core.frame.DataFrame'>\n",
      "RangeIndex: 82376 entries, 0 to 82375\n",
      "Data columns (total 5 columns):\n",
      " #   Column    Non-Null Count  Dtype              \n",
      "---  ------    --------------  -----              \n",
      " 0   datetime  82376 non-null  datetime64[ns, UTC]\n",
      " 1   tweet_id  82376 non-null  int64              \n",
      " 2   post      82376 non-null  object             \n",
      " 3   user      82376 non-null  object             \n",
      " 4   set       82376 non-null  object             \n",
      "dtypes: datetime64[ns, UTC](1), int64(1), object(3)\n",
      "memory usage: 3.1+ MB\n"
     ]
    }
   ],
   "source": [
    "data.info()"
   ]
  },
  {
   "cell_type": "markdown",
   "id": "2eecedd8",
   "metadata": {},
   "source": [
    "### Remove rows"
   ]
  },
  {
   "cell_type": "markdown",
   "id": "f6feffcc",
   "metadata": {},
   "source": [
    "*Empty rows*"
   ]
  },
  {
   "cell_type": "code",
   "execution_count": 42,
   "id": "6d40d2fa",
   "metadata": {},
   "outputs": [
    {
     "name": "stdout",
     "output_type": "stream",
     "text": [
      "82376\n"
     ]
    }
   ],
   "source": [
    "data = data.dropna()\n",
    "print(len(data))"
   ]
  },
  {
   "cell_type": "markdown",
   "id": "6ba8e652",
   "metadata": {},
   "source": [
    "*Rows that contain both search query hashtags*"
   ]
  },
  {
   "cell_type": "code",
   "execution_count": 43,
   "id": "50c3ea1b",
   "metadata": {},
   "outputs": [
    {
     "name": "stdout",
     "output_type": "stream",
     "text": [
      "82354\n"
     ]
    }
   ],
   "source": [
    "to_remove = []\n",
    "for index, post in enumerate(data['post']):\n",
    "    if '#ikdoenietmeermee' in post and '#toeslagenaffaire' in post:\n",
    "        to_remove.append(index)\n",
    "data = data.drop(to_remove).reset_index(drop=True)\n",
    "print(len(data))"
   ]
  },
  {
   "cell_type": "markdown",
   "id": "69dd6fcb",
   "metadata": {},
   "source": [
    "*Rows that contain no hashtags*\n",
    "\n",
    "Can happen when the account is blocked by Twitter."
   ]
  },
  {
   "cell_type": "code",
   "execution_count": 44,
   "id": "eb14f3cd",
   "metadata": {},
   "outputs": [
    {
     "name": "stdout",
     "output_type": "stream",
     "text": [
      "82349\n"
     ]
    }
   ],
   "source": [
    "to_remove = []\n",
    "for index, post in enumerate(data['post']):\n",
    "    if '#' not in post:\n",
    "        to_remove.append(index)\n",
    "data = data.drop(to_remove).reset_index(drop=True)\n",
    "print(len(data))"
   ]
  },
  {
   "cell_type": "markdown",
   "id": "4faddd4f",
   "metadata": {},
   "source": [
    "### Pseudonimization"
   ]
  },
  {
   "cell_type": "markdown",
   "id": "multiple-label",
   "metadata": {},
   "source": [
    "*Pseudonymize usernames*"
   ]
  },
  {
   "cell_type": "code",
   "execution_count": 45,
   "id": "decreased-climb",
   "metadata": {},
   "outputs": [],
   "source": [
    "names = list(set(data['user']))\n",
    "random.shuffle(names)"
   ]
  },
  {
   "cell_type": "code",
   "execution_count": 46,
   "id": "77bdc78c",
   "metadata": {},
   "outputs": [],
   "source": [
    "username_dict = {names[i]: f'Persoon{i}' for i in range(len(names))}"
   ]
  },
  {
   "cell_type": "code",
   "execution_count": 47,
   "id": "bce1b3a1",
   "metadata": {},
   "outputs": [
    {
     "data": {
      "text/plain": [
       "19608"
      ]
     },
     "execution_count": 47,
     "metadata": {},
     "output_type": "execute_result"
    }
   ],
   "source": [
    "len(username_dict)"
   ]
  },
  {
   "cell_type": "code",
   "execution_count": 48,
   "id": "conceptual-million",
   "metadata": {},
   "outputs": [],
   "source": [
    "new_usernames = [username_dict[name] for name in data['user']]"
   ]
  },
  {
   "cell_type": "code",
   "execution_count": 49,
   "id": "interested-aruba",
   "metadata": {},
   "outputs": [],
   "source": [
    "data['user'] = new_usernames"
   ]
  },
  {
   "cell_type": "markdown",
   "id": "biological-illness",
   "metadata": {},
   "source": [
    "*Pseudonymize tags*"
   ]
  },
  {
   "cell_type": "code",
   "execution_count": 50,
   "id": "opening-frame",
   "metadata": {},
   "outputs": [],
   "source": [
    "tags = [word for text in data['post'] for word in text.split() if '@' in word]\n",
    "tags = list(set(tags))\n",
    "random.shuffle(tags)"
   ]
  },
  {
   "cell_type": "code",
   "execution_count": 51,
   "id": "standard-pollution",
   "metadata": {},
   "outputs": [],
   "source": [
    "tag_dict = {tags[i]: f'@gebruiker{i}' for i in range(len(tags))}"
   ]
  },
  {
   "cell_type": "code",
   "execution_count": 52,
   "id": "737b49d0",
   "metadata": {},
   "outputs": [
    {
     "data": {
      "text/plain": [
       "13344"
      ]
     },
     "execution_count": 52,
     "metadata": {},
     "output_type": "execute_result"
    }
   ],
   "source": [
    "len(tag_dict)"
   ]
  },
  {
   "cell_type": "code",
   "execution_count": 53,
   "id": "toxic-wireless",
   "metadata": {},
   "outputs": [],
   "source": [
    "new_texts = [' '.join([tag_dict[word] if word in tag_dict.keys() else word for word in text.split()]) for text in data['post']] "
   ]
  },
  {
   "cell_type": "code",
   "execution_count": 54,
   "id": "apparent-citizenship",
   "metadata": {},
   "outputs": [],
   "source": [
    "data['post'] = new_texts"
   ]
  },
  {
   "cell_type": "code",
   "execution_count": 55,
   "id": "00f76eee",
   "metadata": {},
   "outputs": [
    {
     "data": {
      "text/html": [
       "<div>\n",
       "<style scoped>\n",
       "    .dataframe tbody tr th:only-of-type {\n",
       "        vertical-align: middle;\n",
       "    }\n",
       "\n",
       "    .dataframe tbody tr th {\n",
       "        vertical-align: top;\n",
       "    }\n",
       "\n",
       "    .dataframe thead th {\n",
       "        text-align: right;\n",
       "    }\n",
       "</style>\n",
       "<table border=\"1\" class=\"dataframe\">\n",
       "  <thead>\n",
       "    <tr style=\"text-align: right;\">\n",
       "      <th></th>\n",
       "      <th>datetime</th>\n",
       "      <th>tweet_id</th>\n",
       "      <th>post</th>\n",
       "      <th>user</th>\n",
       "      <th>set</th>\n",
       "    </tr>\n",
       "  </thead>\n",
       "  <tbody>\n",
       "    <tr>\n",
       "      <th>0</th>\n",
       "      <td>2021-05-31 13:02:37+00:00</td>\n",
       "      <td>1399350603969613833</td>\n",
       "      <td>Wat een gezeik; tot eind september mondkapjes....</td>\n",
       "      <td>Persoon2795</td>\n",
       "      <td>covid</td>\n",
       "    </tr>\n",
       "    <tr>\n",
       "      <th>1</th>\n",
       "      <td>2021-05-31 10:21:26+00:00</td>\n",
       "      <td>1399310042717958149</td>\n",
       "      <td>Waarom zijn mensen bang voor vaccinatie? Het n...</td>\n",
       "      <td>Persoon19344</td>\n",
       "      <td>covid</td>\n",
       "    </tr>\n",
       "    <tr>\n",
       "      <th>2</th>\n",
       "      <td>2021-05-30 20:08:25+00:00</td>\n",
       "      <td>1399095371398324226</td>\n",
       "      <td>Ik krijg buikpijn van de steeds terugkerende v...</td>\n",
       "      <td>Persoon14610</td>\n",
       "      <td>covid</td>\n",
       "    </tr>\n",
       "    <tr>\n",
       "      <th>3</th>\n",
       "      <td>2021-05-30 17:05:06+00:00</td>\n",
       "      <td>1399049239607578625</td>\n",
       "      <td>Je zou maar #AstraZeneca hebben laten prikken....</td>\n",
       "      <td>Persoon1779</td>\n",
       "      <td>covid</td>\n",
       "    </tr>\n",
       "    <tr>\n",
       "      <th>4</th>\n",
       "      <td>2021-05-30 17:03:17+00:00</td>\n",
       "      <td>1399048780729622528</td>\n",
       "      <td>#samenleving #ikdoenietmeermee #nederlands Hal...</td>\n",
       "      <td>Persoon1410</td>\n",
       "      <td>covid</td>\n",
       "    </tr>\n",
       "  </tbody>\n",
       "</table>\n",
       "</div>"
      ],
      "text/plain": [
       "                   datetime             tweet_id  \\\n",
       "0 2021-05-31 13:02:37+00:00  1399350603969613833   \n",
       "1 2021-05-31 10:21:26+00:00  1399310042717958149   \n",
       "2 2021-05-30 20:08:25+00:00  1399095371398324226   \n",
       "3 2021-05-30 17:05:06+00:00  1399049239607578625   \n",
       "4 2021-05-30 17:03:17+00:00  1399048780729622528   \n",
       "\n",
       "                                                post          user    set  \n",
       "0  Wat een gezeik; tot eind september mondkapjes....   Persoon2795  covid  \n",
       "1  Waarom zijn mensen bang voor vaccinatie? Het n...  Persoon19344  covid  \n",
       "2  Ik krijg buikpijn van de steeds terugkerende v...  Persoon14610  covid  \n",
       "3  Je zou maar #AstraZeneca hebben laten prikken....   Persoon1779  covid  \n",
       "4  #samenleving #ikdoenietmeermee #nederlands Hal...   Persoon1410  covid  "
      ]
     },
     "execution_count": 55,
     "metadata": {},
     "output_type": "execute_result"
    }
   ],
   "source": [
    "data.head()"
   ]
  },
  {
   "cell_type": "markdown",
   "id": "military-honey",
   "metadata": {},
   "source": [
    "### Save datafiles"
   ]
  },
  {
   "cell_type": "markdown",
   "id": "173981de",
   "metadata": {},
   "source": [
    "*Tweet IDs + labels for replication*"
   ]
  },
  {
   "cell_type": "code",
   "execution_count": 56,
   "id": "c028f099",
   "metadata": {},
   "outputs": [],
   "source": [
    "replication_data = data[['tweet_id', 'set']]"
   ]
  },
  {
   "cell_type": "code",
   "execution_count": 57,
   "id": "c0f26944",
   "metadata": {},
   "outputs": [],
   "source": [
    "replication_data.to_csv('replication_data_12_09_2.csv', index=False)"
   ]
  },
  {
   "cell_type": "markdown",
   "id": "49518c39",
   "metadata": {},
   "source": [
    "*Whole set*"
   ]
  },
  {
   "cell_type": "code",
   "execution_count": 58,
   "id": "6300d0c2",
   "metadata": {},
   "outputs": [],
   "source": [
    "data.to_csv('complete_dataset_12_09_2.csv', index=False)"
   ]
  }
 ],
 "metadata": {
  "kernelspec": {
   "display_name": "Python 3",
   "language": "python",
   "name": "python3"
  },
  "language_info": {
   "codemirror_mode": {
    "name": "ipython",
    "version": 3
   },
   "file_extension": ".py",
   "mimetype": "text/x-python",
   "name": "python",
   "nbconvert_exporter": "python",
   "pygments_lexer": "ipython3",
   "version": "3.8.8"
  }
 },
 "nbformat": 4,
 "nbformat_minor": 5
}
