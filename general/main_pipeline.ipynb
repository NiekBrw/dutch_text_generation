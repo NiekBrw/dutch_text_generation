{
 "cells": [
  {
   "cell_type": "markdown",
   "id": "young-maintenance",
   "metadata": {},
   "source": [
    "# Main"
   ]
  },
  {
   "cell_type": "markdown",
   "id": "amended-soccer",
   "metadata": {},
   "source": [
    "### Imports"
   ]
  },
  {
   "cell_type": "code",
   "execution_count": 1,
   "id": "unusual-pound",
   "metadata": {},
   "outputs": [],
   "source": [
    "import pandas as pd\n",
    "\n",
    "from data_preprocessing.preprocessing import preprocessing\n",
    "\n",
    "from collections import Counter"
   ]
  },
  {
   "cell_type": "markdown",
   "id": "driven-sandwich",
   "metadata": {},
   "source": [
    "### Import data"
   ]
  },
  {
   "cell_type": "code",
   "execution_count": 2,
   "id": "broadband-offer",
   "metadata": {},
   "outputs": [],
   "source": [
    "data = pd.read_csv('../final_data/complete_dataset_12_09_2.csv')"
   ]
  },
  {
   "cell_type": "markdown",
   "id": "rural-desire",
   "metadata": {},
   "source": [
    "### General preprocessing"
   ]
  },
  {
   "cell_type": "code",
   "execution_count": 3,
   "id": "atomic-looking",
   "metadata": {},
   "outputs": [],
   "source": [
    "data['clean_post'] = data['post'].apply(lambda x: preprocessing(x))"
   ]
  },
  {
   "cell_type": "code",
   "execution_count": 4,
   "id": "b4d17c12",
   "metadata": {},
   "outputs": [
    {
     "data": {
      "text/html": [
       "<div>\n",
       "<style scoped>\n",
       "    .dataframe tbody tr th:only-of-type {\n",
       "        vertical-align: middle;\n",
       "    }\n",
       "\n",
       "    .dataframe tbody tr th {\n",
       "        vertical-align: top;\n",
       "    }\n",
       "\n",
       "    .dataframe thead th {\n",
       "        text-align: right;\n",
       "    }\n",
       "</style>\n",
       "<table border=\"1\" class=\"dataframe\">\n",
       "  <thead>\n",
       "    <tr style=\"text-align: right;\">\n",
       "      <th></th>\n",
       "      <th>datetime</th>\n",
       "      <th>tweet_id</th>\n",
       "      <th>post</th>\n",
       "      <th>user</th>\n",
       "      <th>set</th>\n",
       "      <th>clean_post</th>\n",
       "    </tr>\n",
       "  </thead>\n",
       "  <tbody>\n",
       "    <tr>\n",
       "      <th>0</th>\n",
       "      <td>2021-05-31 13:02:37+00:00</td>\n",
       "      <td>1399350603969613833</td>\n",
       "      <td>Wat een gezeik; tot eind september mondkapjes....</td>\n",
       "      <td>Persoon2795</td>\n",
       "      <td>covid</td>\n",
       "      <td>Wat een gezeik ; tot eind september mondkapjes...</td>\n",
       "    </tr>\n",
       "    <tr>\n",
       "      <th>1</th>\n",
       "      <td>2021-05-31 10:21:26+00:00</td>\n",
       "      <td>1399310042717958149</td>\n",
       "      <td>Waarom zijn mensen bang voor vaccinatie? Het n...</td>\n",
       "      <td>Persoon19344</td>\n",
       "      <td>covid</td>\n",
       "      <td>Waarom zijn mensen bang voor vaccinatie ? Het ...</td>\n",
       "    </tr>\n",
       "    <tr>\n",
       "      <th>2</th>\n",
       "      <td>2021-05-30 20:08:25+00:00</td>\n",
       "      <td>1399095371398324226</td>\n",
       "      <td>Ik krijg buikpijn van de steeds terugkerende v...</td>\n",
       "      <td>Persoon14610</td>\n",
       "      <td>covid</td>\n",
       "      <td>Ik krijg buikpijn van de steeds terugkerende v...</td>\n",
       "    </tr>\n",
       "    <tr>\n",
       "      <th>3</th>\n",
       "      <td>2021-05-30 17:05:06+00:00</td>\n",
       "      <td>1399049239607578625</td>\n",
       "      <td>Je zou maar #AstraZeneca hebben laten prikken....</td>\n",
       "      <td>Persoon1779</td>\n",
       "      <td>covid</td>\n",
       "      <td>Je zou maar # AstraZeneca hebben laten prikken...</td>\n",
       "    </tr>\n",
       "    <tr>\n",
       "      <th>4</th>\n",
       "      <td>2021-05-30 17:03:17+00:00</td>\n",
       "      <td>1399048780729622528</td>\n",
       "      <td>#samenleving #ikdoenietmeermee #nederlands Hal...</td>\n",
       "      <td>Persoon1410</td>\n",
       "      <td>covid</td>\n",
       "      <td>Hallo allemaal . Dit is mijn gedicht over same...</td>\n",
       "    </tr>\n",
       "  </tbody>\n",
       "</table>\n",
       "</div>"
      ],
      "text/plain": [
       "                    datetime             tweet_id  \\\n",
       "0  2021-05-31 13:02:37+00:00  1399350603969613833   \n",
       "1  2021-05-31 10:21:26+00:00  1399310042717958149   \n",
       "2  2021-05-30 20:08:25+00:00  1399095371398324226   \n",
       "3  2021-05-30 17:05:06+00:00  1399049239607578625   \n",
       "4  2021-05-30 17:03:17+00:00  1399048780729622528   \n",
       "\n",
       "                                                post          user    set  \\\n",
       "0  Wat een gezeik; tot eind september mondkapjes....   Persoon2795  covid   \n",
       "1  Waarom zijn mensen bang voor vaccinatie? Het n...  Persoon19344  covid   \n",
       "2  Ik krijg buikpijn van de steeds terugkerende v...  Persoon14610  covid   \n",
       "3  Je zou maar #AstraZeneca hebben laten prikken....   Persoon1779  covid   \n",
       "4  #samenleving #ikdoenietmeermee #nederlands Hal...   Persoon1410  covid   \n",
       "\n",
       "                                          clean_post  \n",
       "0  Wat een gezeik ; tot eind september mondkapjes...  \n",
       "1  Waarom zijn mensen bang voor vaccinatie ? Het ...  \n",
       "2  Ik krijg buikpijn van de steeds terugkerende v...  \n",
       "3  Je zou maar # AstraZeneca hebben laten prikken...  \n",
       "4  Hallo allemaal . Dit is mijn gedicht over same...  "
      ]
     },
     "execution_count": 4,
     "metadata": {},
     "output_type": "execute_result"
    }
   ],
   "source": [
    "data.head()"
   ]
  },
  {
   "cell_type": "markdown",
   "id": "2bc57f06",
   "metadata": {},
   "source": [
    "*Remove posts that have fewer than 2 tokens after preprocessing"
   ]
  },
  {
   "cell_type": "code",
   "execution_count": 5,
   "id": "6e9fd4df",
   "metadata": {},
   "outputs": [
    {
     "name": "stdout",
     "output_type": "stream",
     "text": [
      "82349\n"
     ]
    },
    {
     "data": {
      "text/plain": [
       "82261"
      ]
     },
     "execution_count": 5,
     "metadata": {},
     "output_type": "execute_result"
    }
   ],
   "source": [
    "print(len(data))\n",
    "data = data[data['clean_post'].notnull()]\n",
    "len(data)"
   ]
  },
  {
   "cell_type": "markdown",
   "id": "cross-andorra",
   "metadata": {},
   "source": [
    "*Remove duplicate clean posts*"
   ]
  },
  {
   "cell_type": "code",
   "execution_count": 6,
   "id": "known-phoenix",
   "metadata": {},
   "outputs": [
    {
     "name": "stdout",
     "output_type": "stream",
     "text": [
      "82261\n",
      "78912\n"
     ]
    }
   ],
   "source": [
    "print(len(data))\n",
    "data = data.drop_duplicates(subset='clean_post', keep=\"first\").reset_index(drop=True)\n",
    "print(len(data))"
   ]
  },
  {
   "cell_type": "code",
   "execution_count": 7,
   "id": "signal-reputation",
   "metadata": {},
   "outputs": [
    {
     "data": {
      "text/html": [
       "<div>\n",
       "<style scoped>\n",
       "    .dataframe tbody tr th:only-of-type {\n",
       "        vertical-align: middle;\n",
       "    }\n",
       "\n",
       "    .dataframe tbody tr th {\n",
       "        vertical-align: top;\n",
       "    }\n",
       "\n",
       "    .dataframe thead th {\n",
       "        text-align: right;\n",
       "    }\n",
       "</style>\n",
       "<table border=\"1\" class=\"dataframe\">\n",
       "  <thead>\n",
       "    <tr style=\"text-align: right;\">\n",
       "      <th></th>\n",
       "      <th>datetime</th>\n",
       "      <th>tweet_id</th>\n",
       "      <th>post</th>\n",
       "      <th>user</th>\n",
       "      <th>set</th>\n",
       "      <th>clean_post</th>\n",
       "    </tr>\n",
       "  </thead>\n",
       "  <tbody>\n",
       "    <tr>\n",
       "      <th>0</th>\n",
       "      <td>2021-05-31 13:02:37+00:00</td>\n",
       "      <td>1399350603969613833</td>\n",
       "      <td>Wat een gezeik; tot eind september mondkapjes....</td>\n",
       "      <td>Persoon2795</td>\n",
       "      <td>covid</td>\n",
       "      <td>Wat een gezeik ; tot eind september mondkapjes...</td>\n",
       "    </tr>\n",
       "    <tr>\n",
       "      <th>1</th>\n",
       "      <td>2021-05-31 10:21:26+00:00</td>\n",
       "      <td>1399310042717958149</td>\n",
       "      <td>Waarom zijn mensen bang voor vaccinatie? Het n...</td>\n",
       "      <td>Persoon19344</td>\n",
       "      <td>covid</td>\n",
       "      <td>Waarom zijn mensen bang voor vaccinatie ? Het ...</td>\n",
       "    </tr>\n",
       "    <tr>\n",
       "      <th>2</th>\n",
       "      <td>2021-05-30 20:08:25+00:00</td>\n",
       "      <td>1399095371398324226</td>\n",
       "      <td>Ik krijg buikpijn van de steeds terugkerende v...</td>\n",
       "      <td>Persoon14610</td>\n",
       "      <td>covid</td>\n",
       "      <td>Ik krijg buikpijn van de steeds terugkerende v...</td>\n",
       "    </tr>\n",
       "    <tr>\n",
       "      <th>3</th>\n",
       "      <td>2021-05-30 17:05:06+00:00</td>\n",
       "      <td>1399049239607578625</td>\n",
       "      <td>Je zou maar #AstraZeneca hebben laten prikken....</td>\n",
       "      <td>Persoon1779</td>\n",
       "      <td>covid</td>\n",
       "      <td>Je zou maar # AstraZeneca hebben laten prikken...</td>\n",
       "    </tr>\n",
       "    <tr>\n",
       "      <th>4</th>\n",
       "      <td>2021-05-30 17:03:17+00:00</td>\n",
       "      <td>1399048780729622528</td>\n",
       "      <td>#samenleving #ikdoenietmeermee #nederlands Hal...</td>\n",
       "      <td>Persoon1410</td>\n",
       "      <td>covid</td>\n",
       "      <td>Hallo allemaal . Dit is mijn gedicht over same...</td>\n",
       "    </tr>\n",
       "  </tbody>\n",
       "</table>\n",
       "</div>"
      ],
      "text/plain": [
       "                    datetime             tweet_id  \\\n",
       "0  2021-05-31 13:02:37+00:00  1399350603969613833   \n",
       "1  2021-05-31 10:21:26+00:00  1399310042717958149   \n",
       "2  2021-05-30 20:08:25+00:00  1399095371398324226   \n",
       "3  2021-05-30 17:05:06+00:00  1399049239607578625   \n",
       "4  2021-05-30 17:03:17+00:00  1399048780729622528   \n",
       "\n",
       "                                                post          user    set  \\\n",
       "0  Wat een gezeik; tot eind september mondkapjes....   Persoon2795  covid   \n",
       "1  Waarom zijn mensen bang voor vaccinatie? Het n...  Persoon19344  covid   \n",
       "2  Ik krijg buikpijn van de steeds terugkerende v...  Persoon14610  covid   \n",
       "3  Je zou maar #AstraZeneca hebben laten prikken....   Persoon1779  covid   \n",
       "4  #samenleving #ikdoenietmeermee #nederlands Hal...   Persoon1410  covid   \n",
       "\n",
       "                                          clean_post  \n",
       "0  Wat een gezeik ; tot eind september mondkapjes...  \n",
       "1  Waarom zijn mensen bang voor vaccinatie ? Het ...  \n",
       "2  Ik krijg buikpijn van de steeds terugkerende v...  \n",
       "3  Je zou maar # AstraZeneca hebben laten prikken...  \n",
       "4  Hallo allemaal . Dit is mijn gedicht over same...  "
      ]
     },
     "execution_count": 7,
     "metadata": {},
     "output_type": "execute_result"
    }
   ],
   "source": [
    "data.head()"
   ]
  },
  {
   "cell_type": "code",
   "execution_count": 8,
   "id": "dbd2d50f",
   "metadata": {},
   "outputs": [
    {
     "name": "stdout",
     "output_type": "stream",
     "text": [
      "@gebruiker11112 En zo is het. Maar even wat anders: is @gebruiker3331 al bijna klaar voor het Minister-Presidentschap? En zo ja, bereid dit zonder het #CDA te doen? Antwoord zou fijn en hoopgevend zijn, wat dat ook moge zijn... #TeamOmtzigt #RutteDoctrine #ToeslagenAffaire #OngekendOnrecht \n",
      " En zo is het . Maar even wat anders : is @ gebruiker3331 al bijna klaar voor het Minister - Presidentschap ? En zo ja , bereid dit zonder het # CDA te doen ? Antwoord zou fijn en hoopgevend zijn , wat dat ook moge zijn . . .  \n",
      "\n",
      "\n",
      "@gebruiker2109 #ikdoenietmeermee met samen.... \n",
      " met samen . . . .  \n",
      "\n",
      "\n",
      "Ja! #rutgerbergman in #DitIsM noemt zo terecht @gebruiker9674 Mijn ‘held’ in het aankaarten en benoemen van wat gaande is in de maatschappij, relatie tussen politiek-beleid-volk. Genegeerd - vaak, ook in het hele prille begin #toeslagenaffaire Mis hem nog steeds.. \n",
      " Ja ! in # DitIsM noemt zo terecht @ gebruiker9674 Mijn held in het aankaarten en benoemen van wat gaande is in de maatschappij , relatie tussen politiek - beleid - volk . Genegeerd - vaak , ook in het hele prille begin # toeslagenaffaire Mis hem nog steeds . .  \n",
      "\n",
      "\n"
     ]
    }
   ],
   "source": [
    "preprocessing_show = data.sample(n=3, random_state=52).reset_index(drop=True) \n",
    "for p in range(len(preprocessing_show)):\n",
    "    print(preprocessing_show['post'][p], '\\n', preprocessing_show['clean_post'][p], '\\n\\n')"
   ]
  },
  {
   "cell_type": "code",
   "execution_count": 9,
   "id": "822275d0",
   "metadata": {},
   "outputs": [],
   "source": [
    "covid = data[data['set'] == 'covid'].reset_index(drop=True)\n",
    "affair = data[data['set'] == 'affair'].reset_index(drop=True)"
   ]
  },
  {
   "cell_type": "markdown",
   "id": "13a03329",
   "metadata": {},
   "source": [
    "*Find cut-off for tweet length*"
   ]
  },
  {
   "cell_type": "code",
   "execution_count": 10,
   "id": "09199bd8",
   "metadata": {},
   "outputs": [],
   "source": [
    "sequence_lenghts_covid = {}\n",
    "for post in covid['clean_post']:\n",
    "    if len(post.split()) not in sequence_lenghts_covid.keys():\n",
    "        sequence_lenghts_covid[len(post.split())] = 1\n",
    "    else:\n",
    "        sequence_lenghts_covid[len(post.split())] = sequence_lenghts_covid[len(post.split())]+1\n",
    "        \n",
    "sequence_lenghts_affair = {}\n",
    "for post in affair['clean_post']:\n",
    "    if len(post.split()) not in sequence_lenghts_affair.keys():\n",
    "        sequence_lenghts_affair[len(post.split())] = 1\n",
    "    else:\n",
    "        sequence_lenghts_affair[len(post.split())] = sequence_lenghts_affair[len(post.split())]+1"
   ]
  },
  {
   "cell_type": "code",
   "execution_count": 11,
   "id": "7c6de525",
   "metadata": {},
   "outputs": [
    {
     "data": {
      "text/plain": [
       "<BarContainer object of 72 artists>"
      ]
     },
     "execution_count": 11,
     "metadata": {},
     "output_type": "execute_result"
    },
    {
     "data": {
      "image/png": "[encoded data removed]",
      "text/plain": [
       "<Figure size 432x288 with 1 Axes>"
      ]
     },
     "metadata": {
      "needs_background": "light"
     },
     "output_type": "display_data"
    }
   ],
   "source": [
    "import matplotlib.pyplot as plt\n",
    "plt.bar(sequence_lenghts_covid.keys(), sequence_lenghts_covid.values(), width=1.0, color='navy')"
   ]
  },
  {
   "cell_type": "code",
   "execution_count": 12,
   "id": "a63d0e11",
   "metadata": {},
   "outputs": [
    {
     "data": {
      "text/plain": [
       "<BarContainer object of 75 artists>"
      ]
     },
     "execution_count": 12,
     "metadata": {},
     "output_type": "execute_result"
    },
    {
     "data": {
      "image/png": "[encoded data removed]",
      "text/plain": [
       "<Figure size 432x288 with 1 Axes>"
      ]
     },
     "metadata": {
      "needs_background": "light"
     },
     "output_type": "display_data"
    }
   ],
   "source": [
    "import matplotlib.pyplot as plt\n",
    "plt.bar(sequence_lenghts_affair.keys(), sequence_lenghts_affair.values(), width=1.0, color='navy')"
   ]
  },
  {
   "cell_type": "code",
   "execution_count": 13,
   "id": "c087f302",
   "metadata": {},
   "outputs": [],
   "source": [
    "def shorter(post):\n",
    "    if len(post.split()) <= 40:\n",
    "        return True\n",
    "    else: return False"
   ]
  },
  {
   "cell_type": "code",
   "execution_count": 14,
   "id": "7e5960d9",
   "metadata": {},
   "outputs": [],
   "source": [
    "covid['short'] = covid['clean_post'].apply(lambda x: shorter(x))\n",
    "affair['short'] = affair['clean_post'].apply(lambda x: shorter(x))"
   ]
  },
  {
   "cell_type": "code",
   "execution_count": 15,
   "id": "88742d8e",
   "metadata": {},
   "outputs": [],
   "source": [
    "short_covid = covid[covid['short'] == True]\n",
    "short_affair = affair[affair['short'] == True]"
   ]
  },
  {
   "cell_type": "code",
   "execution_count": 16,
   "id": "97708afd",
   "metadata": {},
   "outputs": [
    {
     "data": {
      "text/plain": [
       "(12561, 45575)"
      ]
     },
     "execution_count": 16,
     "metadata": {},
     "output_type": "execute_result"
    }
   ],
   "source": [
    "len(short_covid), len(short_affair)"
   ]
  },
  {
   "cell_type": "code",
   "execution_count": 17,
   "id": "d7f124f9",
   "metadata": {},
   "outputs": [],
   "source": [
    "short_covid.to_csv('short_covid.csv', index=False)\n",
    "short_affair.to_csv('short_affair.csv', index=False)"
   ]
  },
  {
   "cell_type": "code",
   "execution_count": 18,
   "id": "47860731",
   "metadata": {},
   "outputs": [
    {
     "name": "stdout",
     "output_type": "stream",
     "text": [
      "46900\n"
     ]
    },
    {
     "data": {
      "text/html": [
       "<div>\n",
       "<style scoped>\n",
       "    .dataframe tbody tr th:only-of-type {\n",
       "        vertical-align: middle;\n",
       "    }\n",
       "\n",
       "    .dataframe tbody tr th {\n",
       "        vertical-align: top;\n",
       "    }\n",
       "\n",
       "    .dataframe thead th {\n",
       "        text-align: right;\n",
       "    }\n",
       "</style>\n",
       "<table border=\"1\" class=\"dataframe\">\n",
       "  <thead>\n",
       "    <tr style=\"text-align: right;\">\n",
       "      <th></th>\n",
       "      <th>datetime</th>\n",
       "      <th>tweet_id</th>\n",
       "      <th>post</th>\n",
       "      <th>user</th>\n",
       "      <th>set</th>\n",
       "      <th>clean_post</th>\n",
       "      <th>short</th>\n",
       "    </tr>\n",
       "  </thead>\n",
       "  <tbody>\n",
       "    <tr>\n",
       "      <th>0</th>\n",
       "      <td>2021-01-23 21:04:33+00:00</td>\n",
       "      <td>1353086242175545347</td>\n",
       "      <td>Waarom vonden de slachtoffers vd #toeslagenaff...</td>\n",
       "      <td>Persoon805</td>\n",
       "      <td>affair</td>\n",
       "      <td>Waarom vonden de slachtoffers vd # toeslagenaf...</td>\n",
       "      <td>True</td>\n",
       "    </tr>\n",
       "    <tr>\n",
       "      <th>1</th>\n",
       "      <td>2020-12-18 22:11:02+00:00</td>\n",
       "      <td>1340057009270435842</td>\n",
       "      <td>@gebruiker12402 Ongelooflijk. #toeslagenaffair...</td>\n",
       "      <td>Persoon18052</td>\n",
       "      <td>affair</td>\n",
       "      <td>Ongelooflijk . Ssssttt . Geen tijd nu , we gaa...</td>\n",
       "      <td>True</td>\n",
       "    </tr>\n",
       "    <tr>\n",
       "      <th>2</th>\n",
       "      <td>2020-12-30 20:40:23+00:00</td>\n",
       "      <td>1344382849869377544</td>\n",
       "      <td>Nu is duidelijk: rechter hoort niet bij de Raa...</td>\n",
       "      <td>Persoon12656</td>\n",
       "      <td>affair</td>\n",
       "      <td>Nu is duidelijk : rechter hoort niet bij de Ra...</td>\n",
       "      <td>True</td>\n",
       "    </tr>\n",
       "    <tr>\n",
       "      <th>3</th>\n",
       "      <td>2020-11-23 13:08:40+00:00</td>\n",
       "      <td>1330860819559616522</td>\n",
       "      <td>Heeft u een overdracht gehad van Weekers? #toe...</td>\n",
       "      <td>Persoon1300</td>\n",
       "      <td>affair</td>\n",
       "      <td>Heeft u een overdracht gehad van Weekers ?</td>\n",
       "      <td>True</td>\n",
       "    </tr>\n",
       "    <tr>\n",
       "      <th>4</th>\n",
       "      <td>2020-12-20 14:17:31+00:00</td>\n",
       "      <td>1340662619196313606</td>\n",
       "      <td>@gebruiker3331 @gebruiker917 @gebruiker2283 Wo...</td>\n",
       "      <td>Persoon3605</td>\n",
       "      <td>affair</td>\n",
       "      <td>Worden ! Daarna hoop ik dat het andere onrecht...</td>\n",
       "      <td>True</td>\n",
       "    </tr>\n",
       "  </tbody>\n",
       "</table>\n",
       "</div>"
      ],
      "text/plain": [
       "                    datetime             tweet_id  \\\n",
       "0  2021-01-23 21:04:33+00:00  1353086242175545347   \n",
       "1  2020-12-18 22:11:02+00:00  1340057009270435842   \n",
       "2  2020-12-30 20:40:23+00:00  1344382849869377544   \n",
       "3  2020-11-23 13:08:40+00:00  1330860819559616522   \n",
       "4  2020-12-20 14:17:31+00:00  1340662619196313606   \n",
       "\n",
       "                                                post          user     set  \\\n",
       "0  Waarom vonden de slachtoffers vd #toeslagenaff...    Persoon805  affair   \n",
       "1  @gebruiker12402 Ongelooflijk. #toeslagenaffair...  Persoon18052  affair   \n",
       "2  Nu is duidelijk: rechter hoort niet bij de Raa...  Persoon12656  affair   \n",
       "3  Heeft u een overdracht gehad van Weekers? #toe...   Persoon1300  affair   \n",
       "4  @gebruiker3331 @gebruiker917 @gebruiker2283 Wo...   Persoon3605  affair   \n",
       "\n",
       "                                          clean_post  short  \n",
       "0  Waarom vonden de slachtoffers vd # toeslagenaf...   True  \n",
       "1  Ongelooflijk . Ssssttt . Geen tijd nu , we gaa...   True  \n",
       "2  Nu is duidelijk : rechter hoort niet bij de Ra...   True  \n",
       "3        Heeft u een overdracht gehad van Weekers ?    True  \n",
       "4  Worden ! Daarna hoop ik dat het andere onrecht...   True  "
      ]
     },
     "execution_count": 18,
     "metadata": {},
     "output_type": "execute_result"
    }
   ],
   "source": [
    "from sklearn.utils import shuffle\n",
    "short_covid_sample = short_covid.sample(1400, random_state=16)\n",
    "short_affair_sample = short_affair.sample(45500, random_state=16)\n",
    "initial_classifier_sample = shuffle(pd.concat([short_covid_sample, short_affair_sample], axis=0)).reset_index(drop=True)\n",
    "print(len(initial_classifier_sample))\n",
    "initial_classifier_sample.head()"
   ]
  },
  {
   "cell_type": "code",
   "execution_count": 19,
   "id": "77b58a3f",
   "metadata": {},
   "outputs": [
    {
     "data": {
      "text/html": [
       "<div>\n",
       "<style scoped>\n",
       "    .dataframe tbody tr th:only-of-type {\n",
       "        vertical-align: middle;\n",
       "    }\n",
       "\n",
       "    .dataframe tbody tr th {\n",
       "        vertical-align: top;\n",
       "    }\n",
       "\n",
       "    .dataframe thead th {\n",
       "        text-align: right;\n",
       "    }\n",
       "</style>\n",
       "<table border=\"1\" class=\"dataframe\">\n",
       "  <thead>\n",
       "    <tr style=\"text-align: right;\">\n",
       "      <th></th>\n",
       "      <th>set</th>\n",
       "      <th>clean_post</th>\n",
       "    </tr>\n",
       "  </thead>\n",
       "  <tbody>\n",
       "    <tr>\n",
       "      <th>0</th>\n",
       "      <td>affair</td>\n",
       "      <td>Waarom vonden de slachtoffers vd # toeslagenaf...</td>\n",
       "    </tr>\n",
       "    <tr>\n",
       "      <th>1</th>\n",
       "      <td>affair</td>\n",
       "      <td>Ongelooflijk . Ssssttt . Geen tijd nu , we gaa...</td>\n",
       "    </tr>\n",
       "    <tr>\n",
       "      <th>2</th>\n",
       "      <td>affair</td>\n",
       "      <td>Nu is duidelijk : rechter hoort niet bij de Ra...</td>\n",
       "    </tr>\n",
       "    <tr>\n",
       "      <th>3</th>\n",
       "      <td>affair</td>\n",
       "      <td>Heeft u een overdracht gehad van Weekers ?</td>\n",
       "    </tr>\n",
       "    <tr>\n",
       "      <th>4</th>\n",
       "      <td>affair</td>\n",
       "      <td>Worden ! Daarna hoop ik dat het andere onrecht...</td>\n",
       "    </tr>\n",
       "  </tbody>\n",
       "</table>\n",
       "</div>"
      ],
      "text/plain": [
       "      set                                         clean_post\n",
       "0  affair  Waarom vonden de slachtoffers vd # toeslagenaf...\n",
       "1  affair  Ongelooflijk . Ssssttt . Geen tijd nu , we gaa...\n",
       "2  affair  Nu is duidelijk : rechter hoort niet bij de Ra...\n",
       "3  affair        Heeft u een overdracht gehad van Weekers ? \n",
       "4  affair  Worden ! Daarna hoop ik dat het andere onrecht..."
      ]
     },
     "execution_count": 19,
     "metadata": {},
     "output_type": "execute_result"
    }
   ],
   "source": [
    "initial_classifier_sample = initial_classifier_sample.drop(['datetime', 'tweet_id', 'post', 'user', 'short'], axis=1)\n",
    "initial_classifier_sample.head()"
   ]
  },
  {
   "cell_type": "code",
   "execution_count": 30,
   "id": "2d9a87a6",
   "metadata": {},
   "outputs": [],
   "source": [
    "initial_classifier_sample.to_csv('active_learning_data_to_test_imbalanced.csv', index=False)"
   ]
  },
  {
   "cell_type": "code",
   "execution_count": 22,
   "id": "305b7f80",
   "metadata": {},
   "outputs": [],
   "source": [
    "X = initial_classifier_sample.drop(['set'], axis=1)\n",
    "Y = initial_classifier_sample.drop(['clean_post'], axis=1)"
   ]
  },
  {
   "cell_type": "code",
   "execution_count": 23,
   "id": "683e71e0",
   "metadata": {},
   "outputs": [],
   "source": [
    "X.to_csv('active_learning_X_to_test.csv', index=False)\n",
    "Y.to_csv('active_learning_Y_to_test.csv', index=False)"
   ]
  },
  {
   "cell_type": "markdown",
   "id": "c06879c8",
   "metadata": {},
   "source": [
    "*check vocab sizes for data inspection*"
   ]
  },
  {
   "cell_type": "code",
   "execution_count": 65,
   "id": "071ff3c8",
   "metadata": {},
   "outputs": [],
   "source": [
    "covid_words = [word for post in short_covid['clean_post'] for word in post.split()]\n",
    "affair_words = [word for post in short_affair['clean_post'] for word in post.split()]"
   ]
  },
  {
   "cell_type": "code",
   "execution_count": 66,
   "id": "a85e51b8",
   "metadata": {},
   "outputs": [
    {
     "data": {
      "text/plain": [
       "(21874, 45404)"
      ]
     },
     "execution_count": 66,
     "metadata": {},
     "output_type": "execute_result"
    }
   ],
   "source": [
    "vocab_covid = len(set(covid_words))\n",
    "vocab_affair = len(set(affair_words))\n",
    "vocab_covid, vocab_affair"
   ]
  },
  {
   "cell_type": "markdown",
   "id": "b464a0d5",
   "metadata": {},
   "source": [
    "***Define vocab size, sequence length, and train-test split for generation task***"
   ]
  },
  {
   "cell_type": "code",
   "execution_count": 67,
   "id": "cfac3cc9",
   "metadata": {},
   "outputs": [],
   "source": [
    "word_freq_covid = Counter(covid_words)"
   ]
  },
  {
   "cell_type": "code",
   "execution_count": 68,
   "id": "c2b3aa6e",
   "metadata": {},
   "outputs": [
    {
     "data": {
      "text/plain": [
       "21874"
      ]
     },
     "execution_count": 68,
     "metadata": {},
     "output_type": "execute_result"
    }
   ],
   "source": [
    "len(word_freq_covid)"
   ]
  },
  {
   "cell_type": "code",
   "execution_count": 124,
   "id": "6ac49914",
   "metadata": {},
   "outputs": [
    {
     "data": {
      "text/plain": [
       "17105"
      ]
     },
     "execution_count": 124,
     "metadata": {},
     "output_type": "execute_result"
    }
   ],
   "source": [
    "max(word_freq_covid.values())"
   ]
  },
  {
   "cell_type": "code",
   "execution_count": 131,
   "id": "65123297",
   "metadata": {},
   "outputs": [
    {
     "data": {
      "text/plain": [
       "(array([2.1737e+04, 6.4000e+01, 1.8000e+01, 1.3000e+01, 7.0000e+00,\n",
       "        4.0000e+00, 6.0000e+00, 4.0000e+00, 3.0000e+00, 0.0000e+00,\n",
       "        3.0000e+00, 2.0000e+00, 0.0000e+00, 2.0000e+00, 1.0000e+00,\n",
       "        3.0000e+00, 1.0000e+00, 1.0000e+00, 0.0000e+00, 0.0000e+00,\n",
       "        0.0000e+00, 0.0000e+00, 1.0000e+00, 0.0000e+00, 1.0000e+00,\n",
       "        0.0000e+00, 0.0000e+00, 0.0000e+00, 0.0000e+00, 1.0000e+00,\n",
       "        0.0000e+00, 0.0000e+00, 0.0000e+00, 0.0000e+00, 0.0000e+00,\n",
       "        0.0000e+00, 0.0000e+00, 0.0000e+00, 0.0000e+00, 0.0000e+00,\n",
       "        0.0000e+00, 0.0000e+00, 0.0000e+00, 0.0000e+00, 1.0000e+00,\n",
       "        0.0000e+00, 0.0000e+00, 0.0000e+00, 0.0000e+00, 0.0000e+00,\n",
       "        0.0000e+00, 0.0000e+00, 0.0000e+00, 0.0000e+00, 0.0000e+00,\n",
       "        0.0000e+00, 0.0000e+00, 0.0000e+00, 0.0000e+00, 0.0000e+00,\n",
       "        0.0000e+00, 0.0000e+00, 0.0000e+00, 0.0000e+00, 0.0000e+00,\n",
       "        0.0000e+00, 0.0000e+00, 0.0000e+00, 0.0000e+00, 0.0000e+00,\n",
       "        0.0000e+00, 0.0000e+00, 0.0000e+00, 0.0000e+00, 0.0000e+00,\n",
       "        0.0000e+00, 1.0000e+00, 0.0000e+00, 0.0000e+00, 0.0000e+00,\n",
       "        0.0000e+00, 0.0000e+00, 0.0000e+00, 0.0000e+00, 0.0000e+00,\n",
       "        0.0000e+00, 0.0000e+00, 0.0000e+00, 0.0000e+00, 0.0000e+00,\n",
       "        0.0000e+00, 0.0000e+00, 0.0000e+00, 0.0000e+00, 0.0000e+00,\n",
       "        0.0000e+00, 0.0000e+00, 0.0000e+00, 0.0000e+00, 0.0000e+00]),\n",
       " array([    0.,   225.,   450.,   675.,   900.,  1125.,  1350.,  1575.,\n",
       "         1800.,  2025.,  2250.,  2475.,  2700.,  2925.,  3150.,  3375.,\n",
       "         3600.,  3825.,  4050.,  4275.,  4500.,  4725.,  4950.,  5175.,\n",
       "         5400.,  5625.,  5850.,  6075.,  6300.,  6525.,  6750.,  6975.,\n",
       "         7200.,  7425.,  7650.,  7875.,  8100.,  8325.,  8550.,  8775.,\n",
       "         9000.,  9225.,  9450.,  9675.,  9900., 10125., 10350., 10575.,\n",
       "        10800., 11025., 11250., 11475., 11700., 11925., 12150., 12375.,\n",
       "        12600., 12825., 13050., 13275., 13500., 13725., 13950., 14175.,\n",
       "        14400., 14625., 14850., 15075., 15300., 15525., 15750., 15975.,\n",
       "        16200., 16425., 16650., 16875., 17100., 17325., 17550., 17775.,\n",
       "        18000., 18225., 18450., 18675., 18900., 19125., 19350., 19575.,\n",
       "        19800., 20025., 20250., 20475., 20700., 20925., 21150., 21375.,\n",
       "        21600., 21825., 22050., 22275., 22500.]),\n",
       " <BarContainer object of 100 artists>)"
      ]
     },
     "execution_count": 131,
     "metadata": {},
     "output_type": "execute_result"
    },
    {
     "data": {
      "image/png": "[encoded data removed]",
      "text/plain": [
       "<Figure size 432x288 with 1 Axes>"
      ]
     },
     "metadata": {
      "needs_background": "light"
     },
     "output_type": "display_data"
    }
   ],
   "source": [
    "plt.hist(word_freq_covid.values(), bins=100, range=(0,22500), color='navy', log=True)"
   ]
  },
  {
   "cell_type": "code",
   "execution_count": 69,
   "id": "e3193283",
   "metadata": {
    "scrolled": true
   },
   "outputs": [
    {
     "data": {
      "text/plain": [
       "15747"
      ]
     },
     "execution_count": 69,
     "metadata": {},
     "output_type": "execute_result"
    }
   ],
   "source": [
    "unfrequent_covid = {key:value for (key, value) in word_freq_covid.items() if value < 3}\n",
    "len(unfrequent_covid)"
   ]
  },
  {
   "cell_type": "code",
   "execution_count": 70,
   "id": "72ac4de3",
   "metadata": {},
   "outputs": [],
   "source": [
    "covid_without_unfrequent_words = [post for post in short_covid['clean_post'] if len(set([word for word in post.split()]).intersection(set(unfrequent_covid.keys()))) == 0]"
   ]
  },
  {
   "cell_type": "code",
   "execution_count": 71,
   "id": "a9bf989f",
   "metadata": {},
   "outputs": [
    {
     "data": {
      "text/plain": [
       "(4101, 16294, 12561)"
      ]
     },
     "execution_count": 71,
     "metadata": {},
     "output_type": "execute_result"
    }
   ],
   "source": [
    "len(covid_without_unfrequent_words), len(covid), len(short_covid)"
   ]
  },
  {
   "cell_type": "code",
   "execution_count": 72,
   "id": "51f84970",
   "metadata": {},
   "outputs": [],
   "source": [
    "# covid_words_final = [word for post in covid_without_unfrequent_words for word in post.split()]"
   ]
  },
  {
   "cell_type": "code",
   "execution_count": 77,
   "id": "b765683b",
   "metadata": {},
   "outputs": [],
   "source": [
    "gen_covid = pd.DataFrame(covid_without_unfrequent_words, columns=['text'])"
   ]
  },
  {
   "cell_type": "code",
   "execution_count": 78,
   "id": "e4825897",
   "metadata": {},
   "outputs": [
    {
     "data": {
      "text/html": [
       "<div>\n",
       "<style scoped>\n",
       "    .dataframe tbody tr th:only-of-type {\n",
       "        vertical-align: middle;\n",
       "    }\n",
       "\n",
       "    .dataframe tbody tr th {\n",
       "        vertical-align: top;\n",
       "    }\n",
       "\n",
       "    .dataframe thead th {\n",
       "        text-align: right;\n",
       "    }\n",
       "</style>\n",
       "<table border=\"1\" class=\"dataframe\">\n",
       "  <thead>\n",
       "    <tr style=\"text-align: right;\">\n",
       "      <th></th>\n",
       "      <th>text</th>\n",
       "    </tr>\n",
       "  </thead>\n",
       "  <tbody>\n",
       "    <tr>\n",
       "      <th>0</th>\n",
       "      <td>Dit is de echte # viruswaarheid</td>\n",
       "    </tr>\n",
       "    <tr>\n",
       "      <th>1</th>\n",
       "      <td>ikdoenietmeermee is nr . 10 trending hashtag i...</td>\n",
       "    </tr>\n",
       "    <tr>\n",
       "      <th>2</th>\n",
       "      <td>Moet niet gekker worden # ikdoenietmeermee</td>\n",
       "    </tr>\n",
       "    <tr>\n",
       "      <th>3</th>\n",
       "      <td>niet # ikdoenietmeermee wanneer ik de kans kri...</td>\n",
       "    </tr>\n",
       "    <tr>\n",
       "      <th>4</th>\n",
       "      <td>Die is wel wijzer . Net als jij en ik # ikweiger</td>\n",
       "    </tr>\n",
       "  </tbody>\n",
       "</table>\n",
       "</div>"
      ],
      "text/plain": [
       "                                                text\n",
       "0                    Dit is de echte # viruswaarheid\n",
       "1  ikdoenietmeermee is nr . 10 trending hashtag i...\n",
       "2         Moet niet gekker worden # ikdoenietmeermee\n",
       "3  niet # ikdoenietmeermee wanneer ik de kans kri...\n",
       "4   Die is wel wijzer . Net als jij en ik # ikweiger"
      ]
     },
     "execution_count": 78,
     "metadata": {},
     "output_type": "execute_result"
    }
   ],
   "source": [
    "gen_covid.head()"
   ]
  },
  {
   "cell_type": "code",
   "execution_count": 103,
   "id": "8bafd0da",
   "metadata": {},
   "outputs": [],
   "source": [
    "from sklearn.model_selection import train_test_split\n",
    "\n",
    "train, test = train_test_split(gen_covid, test_size=0.2, random_state=16)"
   ]
  },
  {
   "cell_type": "code",
   "execution_count": 104,
   "id": "2d8c0beb",
   "metadata": {},
   "outputs": [
    {
     "data": {
      "text/plain": [
       "(3280, 821)"
      ]
     },
     "execution_count": 104,
     "metadata": {},
     "output_type": "execute_result"
    }
   ],
   "source": [
    "len(train), len(test)"
   ]
  },
  {
   "cell_type": "code",
   "execution_count": 105,
   "id": "d8aaec96",
   "metadata": {},
   "outputs": [],
   "source": [
    "test, val = train_test_split(test, test_size=0.5, random_state=16)"
   ]
  },
  {
   "cell_type": "code",
   "execution_count": 106,
   "id": "8d7a0c73",
   "metadata": {},
   "outputs": [],
   "source": [
    "train = train.reset_index(drop=True)\n",
    "val = val.reset_index(drop=True)\n",
    "test = test.reset_index(drop=True)"
   ]
  },
  {
   "cell_type": "code",
   "execution_count": 107,
   "id": "450ab417",
   "metadata": {},
   "outputs": [
    {
     "data": {
      "text/plain": [
       "(3280, 410, 411)"
      ]
     },
     "execution_count": 107,
     "metadata": {},
     "output_type": "execute_result"
    }
   ],
   "source": [
    "len(train), len(test), len(val)"
   ]
  },
  {
   "cell_type": "code",
   "execution_count": 132,
   "id": "87a28064",
   "metadata": {},
   "outputs": [],
   "source": [
    "covid_small_vocab = list(set([word for post in gen_covid['text'] for word in post.split()]))\n",
    "train_vocab = list(set([word for post in train['text'] for word in post.split()]))\n",
    "val_vocab = list(set([word for post in val['text'] for word in post.split()]))\n",
    "test_vocab = list(set([word for post in test['text'] for word in post.split()]))"
   ]
  },
  {
   "cell_type": "code",
   "execution_count": 133,
   "id": "bd297d72",
   "metadata": {},
   "outputs": [
    {
     "data": {
      "text/plain": [
       "(4664, 4301, 1490, 1623)"
      ]
     },
     "execution_count": 133,
     "metadata": {},
     "output_type": "execute_result"
    }
   ],
   "source": [
    "len(covid_small_vocab), len(train_vocab), len(test_vocab), len(val_vocab)"
   ]
  },
  {
   "cell_type": "markdown",
   "id": "a62b6826",
   "metadata": {},
   "source": [
    "**ID all tokens**"
   ]
  },
  {
   "cell_type": "code",
   "execution_count": 111,
   "id": "ae118695",
   "metadata": {},
   "outputs": [],
   "source": [
    "covid_train_word_indices = {word:i for (i, word) in list(enumerate(train_vocab))}\n",
    "covid_train_word_indices[' '] = int(len(train_vocab))"
   ]
  },
  {
   "cell_type": "code",
   "execution_count": 112,
   "id": "5a2603c7",
   "metadata": {},
   "outputs": [],
   "source": [
    "def replace_words_by_ids(post):\n",
    "    ided_post = []\n",
    "    for word in post.split():\n",
    "        ided_post.append(covid_train_word_indices[word])\n",
    "    while len(ided_post) < 40:\n",
    "        ided_post.append(covid_train_word_indices[' '])\n",
    "    ided_post = ' '.join((str(v) for v in ided_post))\n",
    "    return ided_post"
   ]
  },
  {
   "cell_type": "code",
   "execution_count": 113,
   "id": "9fa083a8",
   "metadata": {},
   "outputs": [],
   "source": [
    "train['ids'] = list(map(lambda x: replace_words_by_ids(x), train['text']))"
   ]
  },
  {
   "cell_type": "code",
   "execution_count": 116,
   "id": "10616acb",
   "metadata": {},
   "outputs": [],
   "source": [
    "train_vocab.append(' ')"
   ]
  },
  {
   "cell_type": "code",
   "execution_count": 117,
   "id": "aac65ce2",
   "metadata": {},
   "outputs": [],
   "source": [
    "with open(\"covid_gen_train_vocab.txt\", \"w\") as outfile:\n",
    "    outfile.write(\"\\n\".join(train_vocab))"
   ]
  },
  {
   "cell_type": "code",
   "execution_count": 118,
   "id": "90bc0426",
   "metadata": {},
   "outputs": [],
   "source": [
    "with open(\"covid_gen_train_ids.txt\", \"w\") as outfile:\n",
    "    outfile.write(\"\\n\".join(train['ids']))"
   ]
  },
  {
   "cell_type": "code",
   "execution_count": 119,
   "id": "2369ab0e",
   "metadata": {},
   "outputs": [],
   "source": [
    "with open(\"covid_gen_train_text.txt\", \"w\") as outfile:\n",
    "    outfile.write(\"\\n\".join(train['text']))"
   ]
  },
  {
   "cell_type": "code",
   "execution_count": 120,
   "id": "611da4a7",
   "metadata": {},
   "outputs": [],
   "source": [
    "with open(\"covid_gen_val_text.txt\", \"w\") as outfile:\n",
    "    outfile.write(\"\\n\".join(val['text']))"
   ]
  },
  {
   "cell_type": "code",
   "execution_count": 121,
   "id": "4bd800f9",
   "metadata": {},
   "outputs": [],
   "source": [
    "with open(\"covid_gen_test_text.txt\", \"w\") as outfile:\n",
    "    outfile.write(\"\\n\".join(test['text']))"
   ]
  },
  {
   "cell_type": "code",
   "execution_count": null,
   "id": "0e91a353",
   "metadata": {},
   "outputs": [],
   "source": []
  }
 ],
 "metadata": {
  "kernelspec": {
   "display_name": "Python 3",
   "language": "python",
   "name": "python3"
  },
  "language_info": {
   "codemirror_mode": {
    "name": "ipython",
    "version": 3
   },
   "file_extension": ".py",
   "mimetype": "text/x-python",
   "name": "python",
   "nbconvert_exporter": "python",
   "pygments_lexer": "ipython3",
   "version": "3.8.8"
  }
 },
 "nbformat": 4,
 "nbformat_minor": 5
}
