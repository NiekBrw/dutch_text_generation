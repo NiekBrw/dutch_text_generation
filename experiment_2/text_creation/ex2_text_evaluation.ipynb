{
 "cells": [
  {
   "cell_type": "markdown",
   "id": "fefe6e02",
   "metadata": {},
   "source": [
    "# Experiment 2 Synthetic Text Evaluation"
   ]
  },
  {
   "cell_type": "markdown",
   "id": "22df56b1",
   "metadata": {},
   "source": [
    "### Imports"
   ]
  },
  {
   "cell_type": "code",
   "execution_count": 1,
   "id": "f29132e3",
   "metadata": {},
   "outputs": [],
   "source": [
    "import pandas as pd\n",
    "import nltk\n",
    "import copy\n",
    "from multiset_distances import MultisetDistances\n",
    "from random import sample"
   ]
  },
  {
   "cell_type": "markdown",
   "id": "586431d8",
   "metadata": {},
   "source": [
    "### Load synthetic data"
   ]
  },
  {
   "cell_type": "code",
   "execution_count": 2,
   "id": "4f4516b7",
   "metadata": {},
   "outputs": [],
   "source": [
    "ivae = pd.read_csv('../../data/synthetic_data_ivae.csv')\n",
    "augly = pd.read_csv('../../data/synthetic_data_augly.csv')"
   ]
  },
  {
   "cell_type": "code",
   "execution_count": 3,
   "id": "2cf7c135",
   "metadata": {},
   "outputs": [
    {
     "data": {
      "text/html": [
       "<div>\n",
       "<style scoped>\n",
       "    .dataframe tbody tr th:only-of-type {\n",
       "        vertical-align: middle;\n",
       "    }\n",
       "\n",
       "    .dataframe tbody tr th {\n",
       "        vertical-align: top;\n",
       "    }\n",
       "\n",
       "    .dataframe thead th {\n",
       "        text-align: right;\n",
       "    }\n",
       "</style>\n",
       "<table border=\"1\" class=\"dataframe\">\n",
       "  <thead>\n",
       "    <tr style=\"text-align: right;\">\n",
       "      <th></th>\n",
       "      <th>identifier</th>\n",
       "      <th>synthetic_text</th>\n",
       "    </tr>\n",
       "  </thead>\n",
       "  <tbody>\n",
       "    <tr>\n",
       "      <th>0</th>\n",
       "      <td>21</td>\n",
       "      <td># ikdoenietmeermee is een gevaarlijke uitspraa...</td>\n",
       "    </tr>\n",
       "    <tr>\n",
       "      <th>1</th>\n",
       "      <td>21</td>\n",
       "      <td>Het is ook heel erg veel IC ! !</td>\n",
       "    </tr>\n",
       "    <tr>\n",
       "      <th>2</th>\n",
       "      <td>21</td>\n",
       "      <td>Het spiekbriefje van Famke Louise kwam heel ev...</td>\n",
       "    </tr>\n",
       "    <tr>\n",
       "      <th>3</th>\n",
       "      <td>21</td>\n",
       "      <td>Ik doe niet meer mee . En dan ook de # avondkl...</td>\n",
       "    </tr>\n",
       "    <tr>\n",
       "      <th>4</th>\n",
       "      <td>21</td>\n",
       "      <td>Ik heb een goede reden voor # ikdoenietmeermee...</td>\n",
       "    </tr>\n",
       "  </tbody>\n",
       "</table>\n",
       "</div>"
      ],
      "text/plain": [
       "   identifier                                     synthetic_text\n",
       "0          21  # ikdoenietmeermee is een gevaarlijke uitspraa...\n",
       "1          21                    Het is ook heel erg veel IC ! !\n",
       "2          21  Het spiekbriefje van Famke Louise kwam heel ev...\n",
       "3          21  Ik doe niet meer mee . En dan ook de # avondkl...\n",
       "4          21  Ik heb een goede reden voor # ikdoenietmeermee..."
      ]
     },
     "execution_count": 3,
     "metadata": {},
     "output_type": "execute_result"
    }
   ],
   "source": [
    "ivae.head()"
   ]
  },
  {
   "cell_type": "code",
   "execution_count": 4,
   "id": "78b0afd9",
   "metadata": {},
   "outputs": [
    {
     "name": "stdout",
     "output_type": "stream",
     "text": [
      "2461 nan\n",
      "5927 nan\n",
      "9974 nan\n",
      "13001 nan\n",
      "17563 nan\n",
      "21096 nan\n",
      "35302 nan\n",
      "45203 nan\n"
     ]
    }
   ],
   "source": [
    "for a,i in zip(ivae['identifier'],ivae['synthetic_text']):\n",
    "    if type(i) != str:\n",
    "        print(a,i)"
   ]
  },
  {
   "cell_type": "code",
   "execution_count": 5,
   "id": "42a81f4e",
   "metadata": {},
   "outputs": [
    {
     "data": {
      "text/plain": [
       "20992"
      ]
     },
     "execution_count": 5,
     "metadata": {},
     "output_type": "execute_result"
    }
   ],
   "source": [
    "ivae = ivae.dropna()\n",
    "len(ivae)"
   ]
  },
  {
   "cell_type": "code",
   "execution_count": 6,
   "id": "ab721955",
   "metadata": {},
   "outputs": [
    {
     "data": {
      "text/html": [
       "<div>\n",
       "<style scoped>\n",
       "    .dataframe tbody tr th:only-of-type {\n",
       "        vertical-align: middle;\n",
       "    }\n",
       "\n",
       "    .dataframe tbody tr th {\n",
       "        vertical-align: top;\n",
       "    }\n",
       "\n",
       "    .dataframe thead th {\n",
       "        text-align: right;\n",
       "    }\n",
       "</style>\n",
       "<table border=\"1\" class=\"dataframe\">\n",
       "  <thead>\n",
       "    <tr style=\"text-align: right;\">\n",
       "      <th></th>\n",
       "      <th>identifier</th>\n",
       "      <th>synthetic_text</th>\n",
       "    </tr>\n",
       "  </thead>\n",
       "  <tbody>\n",
       "    <tr>\n",
       "      <th>0</th>\n",
       "      <td>21</td>\n",
       "      <td>Als de zejstig plisseer gevaccineerd zijn meer...</td>\n",
       "    </tr>\n",
       "    <tr>\n",
       "      <th>1</th>\n",
       "      <td>21</td>\n",
       "      <td>Als de zestig plisseer gevaccineerd zijn meer ...</td>\n",
       "    </tr>\n",
       "    <tr>\n",
       "      <th>2</th>\n",
       "      <td>21</td>\n",
       "      <td>Als de zestig lpisseer gevaccineerd zjin meer ...</td>\n",
       "    </tr>\n",
       "    <tr>\n",
       "      <th>3</th>\n",
       "      <td>21</td>\n",
       "      <td>Als ed zestig plisseer gevaccineerd zijn meer ...</td>\n",
       "    </tr>\n",
       "    <tr>\n",
       "      <th>4</th>\n",
       "      <td>21</td>\n",
       "      <td>Tals d9e zestig pliseer gevaccineerd ijn meer ...</td>\n",
       "    </tr>\n",
       "  </tbody>\n",
       "</table>\n",
       "</div>"
      ],
      "text/plain": [
       "   identifier                                     synthetic_text\n",
       "0          21  Als de zejstig plisseer gevaccineerd zijn meer...\n",
       "1          21  Als de zestig plisseer gevaccineerd zijn meer ...\n",
       "2          21  Als de zestig lpisseer gevaccineerd zjin meer ...\n",
       "3          21  Als ed zestig plisseer gevaccineerd zijn meer ...\n",
       "4          21  Tals d9e zestig pliseer gevaccineerd ijn meer ..."
      ]
     },
     "execution_count": 6,
     "metadata": {},
     "output_type": "execute_result"
    }
   ],
   "source": [
    "augly.head()"
   ]
  },
  {
   "cell_type": "code",
   "execution_count": 7,
   "id": "eabd5195",
   "metadata": {},
   "outputs": [],
   "source": [
    "for a,i in zip(augly['identifier'],augly['synthetic_text']):\n",
    "    if type(i) != str:\n",
    "        print(a,i)"
   ]
  },
  {
   "cell_type": "code",
   "execution_count": 8,
   "id": "8e192b95",
   "metadata": {},
   "outputs": [
    {
     "data": {
      "text/plain": [
       "21000"
      ]
     },
     "execution_count": 8,
     "metadata": {},
     "output_type": "execute_result"
    }
   ],
   "source": [
    "augly = augly.dropna()\n",
    "len(augly)"
   ]
  },
  {
   "cell_type": "markdown",
   "id": "5964e556",
   "metadata": {},
   "source": [
    "### General result inspection"
   ]
  },
  {
   "cell_type": "markdown",
   "id": "52a6bc9e",
   "metadata": {},
   "source": [
    "Check duplicates within generated texts"
   ]
  },
  {
   "cell_type": "code",
   "execution_count": 9,
   "id": "7557d159",
   "metadata": {},
   "outputs": [
    {
     "data": {
      "text/plain": [
       "(20992, 15903)"
      ]
     },
     "execution_count": 9,
     "metadata": {},
     "output_type": "execute_result"
    }
   ],
   "source": [
    "len(ivae['synthetic_text']), len(set(ivae['synthetic_text']))"
   ]
  },
  {
   "cell_type": "code",
   "execution_count": 10,
   "id": "b28c9fb3",
   "metadata": {},
   "outputs": [
    {
     "data": {
      "text/plain": [
       "(21000, 20843)"
      ]
     },
     "execution_count": 10,
     "metadata": {},
     "output_type": "execute_result"
    }
   ],
   "source": [
    "len(augly['synthetic_text']), len(set(augly['synthetic_text']))"
   ]
  },
  {
   "cell_type": "markdown",
   "id": "da0174f2",
   "metadata": {},
   "source": [
    "### Check Synthetic Text Examples"
   ]
  },
  {
   "cell_type": "code",
   "execution_count": 29,
   "id": "4fc1dd5d",
   "metadata": {},
   "outputs": [
    {
     "name": "stdout",
     "output_type": "stream",
     "text": [
      "Beste mensen van # ikdoenietmeermee : ik doe niet meer mee voor jullie als je straks in het ziekenhuis terecht komt ! ! \n"
     ]
    }
   ],
   "source": [
    "for i in test_data[test_data['identifier'] == 136]['clean_post']:\n",
    "    print(i)"
   ]
  },
  {
   "cell_type": "code",
   "execution_count": 37,
   "id": "5becf4d6",
   "metadata": {},
   "outputs": [
    {
     "name": "stdout",
     "output_type": "stream",
     "text": [
      "Wat een bullshit . . . # ikdoenietmeermee en ik heb een goede reden voor # ikdoenietmeermee \n",
      "\n"
     ]
    }
   ],
   "source": [
    "for i in sample(list(ivae[ivae['identifier'] == 136]['synthetic_text']),1):\n",
    "    print(i, '\\n')"
   ]
  },
  {
   "cell_type": "code",
   "execution_count": 13,
   "id": "f309a1ac",
   "metadata": {},
   "outputs": [
    {
     "name": "stdout",
     "output_type": "stream",
     "text": [
      "Beste jensen van#ikdoenietmeermee: ik dke niet memer mee voor jullie als je straks in het ziekenhjis terecht komt!! \n",
      "\n"
     ]
    }
   ],
   "source": [
    "for i in sample(list(augly[augly['identifier'] == 136]['synthetic_text']),1):\n",
    "    print(i, '\\n')"
   ]
  },
  {
   "cell_type": "markdown",
   "id": "0c5fdd7e",
   "metadata": {},
   "source": [
    "### BLEU"
   ]
  },
  {
   "cell_type": "code",
   "execution_count": 11,
   "id": "187fe058",
   "metadata": {},
   "outputs": [],
   "source": [
    "# Load real COVID-19 texts, they are the references\n",
    "all_data = pd.read_csv('active_learning_data_to_test_imbalanced_with_identifiers.csv')\n",
    "test_data = all_data[all_data['set'] == 'covid']"
   ]
  },
  {
   "cell_type": "code",
   "execution_count": 12,
   "id": "d9200c8e",
   "metadata": {},
   "outputs": [],
   "source": [
    "ivae_split = [sentence.split() for sentence in ivae['synthetic_text']]\n",
    "augly_split = [sentence.split() for sentence in augly['synthetic_text']]\n",
    "test_split = [sentence.split() for sentence in test_data['clean_post']]"
   ]
  },
  {
   "cell_type": "code",
   "execution_count": 38,
   "id": "64b39421",
   "metadata": {},
   "outputs": [],
   "source": [
    "#iVAE\n",
    "ivae_list_of_references = [copy.deepcopy(test_split) for i in range(len(ivae_split))] # list of references for all sentences in corpus.\n",
    "ivae_list_of_hypotheses = copy.deepcopy(ivae_split) # list of hypotheses that corresponds to list of references."
   ]
  },
  {
   "cell_type": "code",
   "execution_count": null,
   "id": "eb2321c8",
   "metadata": {},
   "outputs": [],
   "source": [
    "ivae_bleu_2 = nltk.translate.bleu_score.corpus_bleu(ivae_list_of_references, ivae_list_of_hypotheses, weights = (1/2, 1/2))\n",
    "ivae_bleu_3 = nltk.translate.bleu_score.corpus_bleu(ivae_list_of_references, ivae_list_of_hypotheses, weights = (1/3, 1/3, 1/3))\n",
    "ivae_bleu_4 = nltk.translate.bleu_score.corpus_bleu(ivae_list_of_references, ivae_list_of_hypotheses)\n",
    "ivae_bleu_5 = nltk.translate.bleu_score.corpus_bleu(ivae_list_of_references, ivae_list_of_hypotheses, weights = (1/5, 1/5, 1/5, 1/5, 1/5))"
   ]
  },
  {
   "cell_type": "code",
   "execution_count": null,
   "id": "8af1577f",
   "metadata": {},
   "outputs": [],
   "source": [
    "ivae_bleu_2, ivae_bleu_3, ivae_bleu_4, ivae_bleu_5"
   ]
  },
  {
   "cell_type": "code",
   "execution_count": 14,
   "id": "7f196106",
   "metadata": {},
   "outputs": [],
   "source": [
    "#AugLy\n",
    "augly_list_of_references = [copy.deepcopy(test_split) for i in range(len(augly_split))] # list of references for all sentences in corpus.\n",
    "augly_list_of_hypotheses = copy.deepcopy(augly_split) # list of hypotheses that corresponds to list of references."
   ]
  },
  {
   "cell_type": "code",
   "execution_count": 15,
   "id": "561a501c",
   "metadata": {},
   "outputs": [],
   "source": [
    "augly_bleu_2 = nltk.translate.bleu_score.corpus_bleu(augly_list_of_references, augly_list_of_hypotheses, weights = (1/2, 1/2))\n",
    "augly_bleu_3 = nltk.translate.bleu_score.corpus_bleu(augly_list_of_references, augly_list_of_hypotheses, weights = (1/3, 1/3, 1/3))\n",
    "augly_bleu_4 = nltk.translate.bleu_score.corpus_bleu(augly_list_of_references, augly_list_of_hypotheses)\n",
    "augly_bleu_5 = nltk.translate.bleu_score.corpus_bleu(augly_list_of_references, augly_list_of_hypotheses, weights = (1/5, 1/5, 1/5, 1/5, 1/5))"
   ]
  },
  {
   "cell_type": "code",
   "execution_count": 16,
   "id": "193011b5",
   "metadata": {},
   "outputs": [
    {
     "data": {
      "text/plain": [
       "(0.5466311121636129,\n",
       " 0.4466941357204492,\n",
       " 0.36285362909205826,\n",
       " 0.2931781608751932)"
      ]
     },
     "execution_count": 16,
     "metadata": {},
     "output_type": "execute_result"
    }
   ],
   "source": [
    "augly_bleu_2, augly_bleu_3, augly_bleu_4, augly_bleu_5"
   ]
  },
  {
   "cell_type": "markdown",
   "id": "7310d110",
   "metadata": {},
   "source": [
    "### Self-BLEU"
   ]
  },
  {
   "cell_type": "code",
   "execution_count": null,
   "id": "7c1d182b",
   "metadata": {},
   "outputs": [],
   "source": [
    "#iVAE\n",
    "ivae_list_of_references_self = []\n",
    "for i in range(len(ivae_split)):\n",
    "    ref = copy.deepcopy(ivae_split)\n",
    "    ref.pop(i)\n",
    "    ivae_list_of_references_self.append(ref)\n",
    "ivae_list_of_hypotheses_self = copy.deepcopy(ivae_split) # list of hypotheses that corresponds to list of references."
   ]
  },
  {
   "cell_type": "code",
   "execution_count": null,
   "id": "c5e65fe6",
   "metadata": {},
   "outputs": [],
   "source": [
    "ivae_self_bleu_2 = nltk.translate.bleu_score.corpus_bleu(ivae_list_of_references_self, ivae_list_of_hypotheses_self, weights = (1/2, 1/2))\n",
    "ivae_self_bleu_3 = nltk.translate.bleu_score.corpus_bleu(ivae_list_of_references_self, ivae_list_of_hypotheses_self, weights = (1/3, 1/3, 1/3))\n",
    "ivae_self_bleu_4 = nltk.translate.bleu_score.corpus_bleu(ivae_list_of_references_self, ivae_list_of_hypotheses_self)\n",
    "ivae_self_bleu_5 = nltk.translate.bleu_score.corpus_bleu(ivae_list_of_references_self, ivae_list_of_hypotheses_self, weights = (1/5, 1/5, 1/5, 1/5, 1/5))"
   ]
  },
  {
   "cell_type": "code",
   "execution_count": null,
   "id": "7df7df86",
   "metadata": {},
   "outputs": [],
   "source": [
    "ivae_self_bleu_2, ivae_self_bleu_3, ivae_self_bleu_4, ivae_self_bleu_5"
   ]
  },
  {
   "cell_type": "code",
   "execution_count": null,
   "id": "b9c7d9d8",
   "metadata": {},
   "outputs": [],
   "source": [
    "#AugLy\n",
    "augly_list_of_references_self = []\n",
    "for i in range(len(augly_split)):\n",
    "    ref = copy.deepcopy(augly_split)\n",
    "    ref.pop(i)\n",
    "    augly_list_of_references_self.append(ref)\n",
    "augly_list_of_hypotheses_self = copy.deepcopy(augly_split) # list of hypotheses that corresponds to list of references."
   ]
  },
  {
   "cell_type": "code",
   "execution_count": null,
   "id": "26e42ef7",
   "metadata": {},
   "outputs": [],
   "source": [
    "augly_self_bleu_2 = nltk.translate.bleu_score.corpus_bleu(augly_list_of_references_self, augly_list_of_hypotheses_self, weights = (1/2, 1/2))\n",
    "augly_self_bleu_3 = nltk.translate.bleu_score.corpus_bleu(augly_list_of_references_self, augly_list_of_hypotheses_self, weights = (1/3, 1/3, 1/3))\n",
    "augly_self_bleu_4 = nltk.translate.bleu_score.corpus_bleu(augly_list_of_references_self, augly_list_of_hypotheses_self)\n",
    "augly_self_bleu_5 = nltk.translate.bleu_score.corpus_bleu(augly_list_of_references_self, augly_list_of_hypotheses_self, weights = (1/5, 1/5, 1/5, 1/5, 1/5))"
   ]
  },
  {
   "cell_type": "code",
   "execution_count": null,
   "id": "fc6dd09c",
   "metadata": {},
   "outputs": [],
   "source": [
    "augly_self_bleu_2, augly_self_bleu_3, augly_self_bleu_4, augly_self_bleu_5"
   ]
  },
  {
   "cell_type": "markdown",
   "id": "9bcb41eb",
   "metadata": {},
   "source": [
    "### MS-Jaccard"
   ]
  },
  {
   "cell_type": "code",
   "execution_count": 17,
   "id": "c17f06e4",
   "metadata": {},
   "outputs": [],
   "source": [
    "references = copy.deepcopy(test_split)\n",
    "msd = MultisetDistances(references=references, min_n=2)"
   ]
  },
  {
   "cell_type": "code",
   "execution_count": 34,
   "id": "47babc7b",
   "metadata": {},
   "outputs": [
    {
     "name": "stdout",
     "output_type": "stream",
     "text": [
      "Jaccard distances preprocess upto 5!\n"
     ]
    },
    {
     "data": {
      "text/plain": [
       "{2: 0.260817789138788,\n",
       " 3: 0.1613468445806015,\n",
       " 4: 0.10636419051501686,\n",
       " 5: 0.07525170460253774}"
      ]
     },
     "execution_count": 34,
     "metadata": {},
     "output_type": "execute_result"
    }
   ],
   "source": [
    "#iVAE\n",
    "sentences = copy.deepcopy(ivae_split)\n",
    "msj_distance_ivae = msd.get_jaccard_score(sentences=sentences)\n",
    "msj_distance_ivae"
   ]
  },
  {
   "cell_type": "code",
   "execution_count": 18,
   "id": "3a1b7481",
   "metadata": {},
   "outputs": [
    {
     "name": "stdout",
     "output_type": "stream",
     "text": [
      "Jaccard distances preprocess upto 5!\n"
     ]
    },
    {
     "data": {
      "text/plain": [
       "{2: 0.31635117309311134,\n",
       " 3: 0.24598635032496105,\n",
       " 4: 0.19206631670967542,\n",
       " 5: 0.15032826514524514}"
      ]
     },
     "execution_count": 18,
     "metadata": {},
     "output_type": "execute_result"
    }
   ],
   "source": [
    "#ARAML\n",
    "sentences = copy.deepcopy(augly_split)\n",
    "msj_distance_augly = msd.get_jaccard_score(sentences=sentences)\n",
    "msj_distance_augly"
   ]
  }
 ],
 "metadata": {
  "kernelspec": {
   "display_name": "Python 3",
   "language": "python",
   "name": "python3"
  },
  "language_info": {
   "codemirror_mode": {
    "name": "ipython",
    "version": 3
   },
   "file_extension": ".py",
   "mimetype": "text/x-python",
   "name": "python",
   "nbconvert_exporter": "python",
   "pygments_lexer": "ipython3",
   "version": "3.8.8"
  }
 },
 "nbformat": 4,
 "nbformat_minor": 5
}
