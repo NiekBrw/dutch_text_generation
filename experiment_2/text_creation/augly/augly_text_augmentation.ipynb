{
 "cells": [
  {
   "cell_type": "code",
   "execution_count": 58,
   "id": "1add32ba",
   "metadata": {
    "scrolled": true
   },
   "outputs": [],
   "source": [
    "import augly.text as textaugs\n",
    "import pandas as pd\n",
    "import random"
   ]
  },
  {
   "cell_type": "code",
   "execution_count": 59,
   "id": "9e190131",
   "metadata": {},
   "outputs": [
    {
     "data": {
      "text/plain": [
       "46900"
      ]
     },
     "execution_count": 59,
     "metadata": {},
     "output_type": "execute_result"
    }
   ],
   "source": [
    "all_data = pd.read_csv('../active_learning_data_to_test_imbalanced.csv')\n",
    "len(all_data)"
   ]
  },
  {
   "cell_type": "code",
   "execution_count": 60,
   "id": "485ce938",
   "metadata": {},
   "outputs": [],
   "source": [
    "covid = all_data[all_data['set'] == 'covid'].reset_index(drop=True)"
   ]
  },
  {
   "cell_type": "code",
   "execution_count": 61,
   "id": "663b17d6",
   "metadata": {},
   "outputs": [
    {
     "data": {
      "text/html": [
       "<div>\n",
       "<style scoped>\n",
       "    .dataframe tbody tr th:only-of-type {\n",
       "        vertical-align: middle;\n",
       "    }\n",
       "\n",
       "    .dataframe tbody tr th {\n",
       "        vertical-align: top;\n",
       "    }\n",
       "\n",
       "    .dataframe thead th {\n",
       "        text-align: right;\n",
       "    }\n",
       "</style>\n",
       "<table border=\"1\" class=\"dataframe\">\n",
       "  <thead>\n",
       "    <tr style=\"text-align: right;\">\n",
       "      <th></th>\n",
       "      <th>set</th>\n",
       "      <th>clean_post</th>\n",
       "    </tr>\n",
       "  </thead>\n",
       "  <tbody>\n",
       "    <tr>\n",
       "      <th>0</th>\n",
       "      <td>covid</td>\n",
       "      <td>Als de zestig plisseer gevaccineerd zijn meer ...</td>\n",
       "    </tr>\n",
       "    <tr>\n",
       "      <th>1</th>\n",
       "      <td>covid</td>\n",
       "      <td>@ gebruiker9227 zijn jullie al benaderd voor e...</td>\n",
       "    </tr>\n",
       "    <tr>\n",
       "      <th>2</th>\n",
       "      <td>covid</td>\n",
       "      <td>Tim Douwsma zegt dat er hongersnood ontstaat i...</td>\n",
       "    </tr>\n",
       "    <tr>\n",
       "      <th>3</th>\n",
       "      <td>covid</td>\n",
       "      <td>Beste mensen van # ikdoenietmeermee : ik doe n...</td>\n",
       "    </tr>\n",
       "    <tr>\n",
       "      <th>4</th>\n",
       "      <td>covid</td>\n",
       "      <td>Nee hoor . Sommige ziekenhuizen nemen al geen ...</td>\n",
       "    </tr>\n",
       "  </tbody>\n",
       "</table>\n",
       "</div>"
      ],
      "text/plain": [
       "     set                                         clean_post\n",
       "0  covid  Als de zestig plisseer gevaccineerd zijn meer ...\n",
       "1  covid  @ gebruiker9227 zijn jullie al benaderd voor e...\n",
       "2  covid  Tim Douwsma zegt dat er hongersnood ontstaat i...\n",
       "3  covid  Beste mensen van # ikdoenietmeermee : ik doe n...\n",
       "4  covid  Nee hoor . Sommige ziekenhuizen nemen al geen ..."
      ]
     },
     "execution_count": 61,
     "metadata": {},
     "output_type": "execute_result"
    }
   ],
   "source": [
    "covid.head()"
   ]
  },
  {
   "cell_type": "code",
   "execution_count": 62,
   "id": "c401f12a",
   "metadata": {},
   "outputs": [
    {
     "data": {
      "text/plain": [
       "1400"
      ]
     },
     "execution_count": 62,
     "metadata": {},
     "output_type": "execute_result"
    }
   ],
   "source": [
    "len(covid)"
   ]
  },
  {
   "cell_type": "code",
   "execution_count": 63,
   "id": "0732bbb3",
   "metadata": {},
   "outputs": [],
   "source": [
    "real_covid_texts_1400 = list(covid['clean_post'])"
   ]
  },
  {
   "cell_type": "code",
   "execution_count": 64,
   "id": "20442ce0",
   "metadata": {},
   "outputs": [],
   "source": [
    "with open(\"covid_ex_2.txt\", \"w\") as outfile:\n",
    "    outfile.write(\"\\n\".join(real_covid_texts_1400))"
   ]
  },
  {
   "cell_type": "code",
   "execution_count": 38,
   "id": "1df4e2a2",
   "metadata": {},
   "outputs": [],
   "source": [
    "identifier_to_text = pd.DataFrame(real_covid_texts_1400, columns=['post'])"
   ]
  },
  {
   "cell_type": "code",
   "execution_count": 40,
   "id": "1f389a75",
   "metadata": {},
   "outputs": [],
   "source": [
    "identifier_to_text.to_csv('covid_identifiers.csv', index=False)"
   ]
  },
  {
   "cell_type": "code",
   "execution_count": 51,
   "id": "bcdf131a",
   "metadata": {},
   "outputs": [],
   "source": [
    "identifier = []\n",
    "synthetic_texts = []\n",
    "\n",
    "random.seed(40)\n",
    "count = 0\n",
    "for real_text in real_covid_texts_1400:\n",
    "    for i in range(15):\n",
    "        identifier.append(count)\n",
    "        synthetic_texts.append(textaugs.simulate_typos(real_text, aug_char_p=0.3, aug_word_p=0.2))\n",
    "    count += 1"
   ]
  },
  {
   "cell_type": "code",
   "execution_count": 52,
   "id": "b0f7198f",
   "metadata": {},
   "outputs": [],
   "source": [
    "augly_data = pd.DataFrame(list(zip(identifier, synthetic_texts)), columns=['identifier', 'synthetic_text'])"
   ]
  },
  {
   "cell_type": "code",
   "execution_count": 53,
   "id": "e9beb743",
   "metadata": {},
   "outputs": [],
   "source": [
    "augly_data.to_csv('synthetic_data_augly.csv', index=False)"
   ]
  },
  {
   "cell_type": "code",
   "execution_count": 54,
   "id": "344a8070",
   "metadata": {},
   "outputs": [
    {
     "data": {
      "text/html": [
       "<div>\n",
       "<style scoped>\n",
       "    .dataframe tbody tr th:only-of-type {\n",
       "        vertical-align: middle;\n",
       "    }\n",
       "\n",
       "    .dataframe tbody tr th {\n",
       "        vertical-align: top;\n",
       "    }\n",
       "\n",
       "    .dataframe thead th {\n",
       "        text-align: right;\n",
       "    }\n",
       "</style>\n",
       "<table border=\"1\" class=\"dataframe\">\n",
       "  <thead>\n",
       "    <tr style=\"text-align: right;\">\n",
       "      <th></th>\n",
       "      <th>identifier</th>\n",
       "      <th>synthetic_text</th>\n",
       "    </tr>\n",
       "  </thead>\n",
       "  <tbody>\n",
       "    <tr>\n",
       "      <th>0</th>\n",
       "      <td>0</td>\n",
       "      <td>Als de zejstig plisseer gevaccineerd zijn meer...</td>\n",
       "    </tr>\n",
       "    <tr>\n",
       "      <th>1</th>\n",
       "      <td>0</td>\n",
       "      <td>Als de zestig plisseer gevaccineerd zijn meer ...</td>\n",
       "    </tr>\n",
       "    <tr>\n",
       "      <th>2</th>\n",
       "      <td>0</td>\n",
       "      <td>Als de zestig lpisseer gevaccineerd zjin meer ...</td>\n",
       "    </tr>\n",
       "    <tr>\n",
       "      <th>3</th>\n",
       "      <td>0</td>\n",
       "      <td>Als ed zestig plisseer gevaccineerd zijn meer ...</td>\n",
       "    </tr>\n",
       "    <tr>\n",
       "      <th>4</th>\n",
       "      <td>0</td>\n",
       "      <td>Tals d9e zestig pliseer gevaccineerd ijn meer ...</td>\n",
       "    </tr>\n",
       "    <tr>\n",
       "      <th>5</th>\n",
       "      <td>0</td>\n",
       "      <td>Als de zestig plisseer egvaccineerd zijn meer ...</td>\n",
       "    </tr>\n",
       "    <tr>\n",
       "      <th>6</th>\n",
       "      <td>0</td>\n",
       "      <td>As de zesdig plisseer gevaccineerd zijn meer v...</td>\n",
       "    </tr>\n",
       "    <tr>\n",
       "      <th>7</th>\n",
       "      <td>0</td>\n",
       "      <td>Als de zestig plisseer gevaccineerd zijn meer ...</td>\n",
       "    </tr>\n",
       "    <tr>\n",
       "      <th>8</th>\n",
       "      <td>0</td>\n",
       "      <td>A+s de zestig pliss_eer gevaccineerd zijn meer...</td>\n",
       "    </tr>\n",
       "    <tr>\n",
       "      <th>9</th>\n",
       "      <td>0</td>\n",
       "      <td>Als de zestig plisseer gevaccineerd zijn meer ...</td>\n",
       "    </tr>\n",
       "    <tr>\n",
       "      <th>10</th>\n",
       "      <td>0</td>\n",
       "      <td>Als de bestig plisseer gevaccineerd ziun meer ...</td>\n",
       "    </tr>\n",
       "    <tr>\n",
       "      <th>11</th>\n",
       "      <td>0</td>\n",
       "      <td>Als de zestig lpisseer gevaccineerd zijn meer ...</td>\n",
       "    </tr>\n",
       "    <tr>\n",
       "      <th>12</th>\n",
       "      <td>0</td>\n",
       "      <td>Las ed zestig plisseer gevaccineerd zijn meer ...</td>\n",
       "    </tr>\n",
       "    <tr>\n",
       "      <th>13</th>\n",
       "      <td>0</td>\n",
       "      <td>Las de zestig plisseer gevaccineerd zijn mere ...</td>\n",
       "    </tr>\n",
       "    <tr>\n",
       "      <th>14</th>\n",
       "      <td>0</td>\n",
       "      <td>Als de zestig plisseer gevaccineerd zmjn meer ...</td>\n",
       "    </tr>\n",
       "    <tr>\n",
       "      <th>15</th>\n",
       "      <td>1</td>\n",
       "      <td>@ gebruiker9227 zijn jullie al benaderd voor e...</td>\n",
       "    </tr>\n",
       "    <tr>\n",
       "      <th>16</th>\n",
       "      <td>1</td>\n",
       "      <td>@ gebruiker922f zijn jullie al benaderd voor e...</td>\n",
       "    </tr>\n",
       "    <tr>\n",
       "      <th>17</th>\n",
       "      <td>1</td>\n",
       "      <td>@ gebruiker9227 zijn jullie al benaderd voorr ...</td>\n",
       "    </tr>\n",
       "    <tr>\n",
       "      <th>18</th>\n",
       "      <td>1</td>\n",
       "      <td>@ gebruiker9227 zijn julli al benaderd voor ee...</td>\n",
       "    </tr>\n",
       "    <tr>\n",
       "      <th>19</th>\n",
       "      <td>1</td>\n",
       "      <td>@ gebruiker9227 zijn jullie al bhnaderd voor e...</td>\n",
       "    </tr>\n",
       "    <tr>\n",
       "      <th>20</th>\n",
       "      <td>1</td>\n",
       "      <td>@ gebruiker9227 zijn jullei al benaderd voor e...</td>\n",
       "    </tr>\n",
       "    <tr>\n",
       "      <th>21</th>\n",
       "      <td>1</td>\n",
       "      <td>@ gebruiker9227 zijn jullie al benaderd vooh e...</td>\n",
       "    </tr>\n",
       "    <tr>\n",
       "      <th>22</th>\n",
       "      <td>1</td>\n",
       "      <td>@ gebruiker9227 zijn jullie al benaderd voor e...</td>\n",
       "    </tr>\n",
       "    <tr>\n",
       "      <th>23</th>\n",
       "      <td>1</td>\n",
       "      <td>@ gebruiker9227 zijn jullie wl benaderd voor e...</td>\n",
       "    </tr>\n",
       "    <tr>\n",
       "      <th>24</th>\n",
       "      <td>1</td>\n",
       "      <td>@ gebruiker9227 zijn jullie al benaderd vopor ...</td>\n",
       "    </tr>\n",
       "    <tr>\n",
       "      <th>25</th>\n",
       "      <td>1</td>\n",
       "      <td>@ gebruiker9227 zijn jullie al benaderd voor e...</td>\n",
       "    </tr>\n",
       "    <tr>\n",
       "      <th>26</th>\n",
       "      <td>1</td>\n",
       "      <td>@ gebruiker92e7 zijn jullie al benaderd voor e...</td>\n",
       "    </tr>\n",
       "    <tr>\n",
       "      <th>27</th>\n",
       "      <td>1</td>\n",
       "      <td>@ gebruiker9227 zijn julle al benaderd voor ee...</td>\n",
       "    </tr>\n",
       "    <tr>\n",
       "      <th>28</th>\n",
       "      <td>1</td>\n",
       "      <td>@ gebruike2r9227 zijn jullie al benaderd voor ...</td>\n",
       "    </tr>\n",
       "    <tr>\n",
       "      <th>29</th>\n",
       "      <td>1</td>\n",
       "      <td>@ gebruiker9227 zijn jullie al benaderd voor e...</td>\n",
       "    </tr>\n",
       "  </tbody>\n",
       "</table>\n",
       "</div>"
      ],
      "text/plain": [
       "    identifier                                     synthetic_text\n",
       "0            0  Als de zejstig plisseer gevaccineerd zijn meer...\n",
       "1            0  Als de zestig plisseer gevaccineerd zijn meer ...\n",
       "2            0  Als de zestig lpisseer gevaccineerd zjin meer ...\n",
       "3            0  Als ed zestig plisseer gevaccineerd zijn meer ...\n",
       "4            0  Tals d9e zestig pliseer gevaccineerd ijn meer ...\n",
       "5            0  Als de zestig plisseer egvaccineerd zijn meer ...\n",
       "6            0  As de zesdig plisseer gevaccineerd zijn meer v...\n",
       "7            0  Als de zestig plisseer gevaccineerd zijn meer ...\n",
       "8            0  A+s de zestig pliss_eer gevaccineerd zijn meer...\n",
       "9            0  Als de zestig plisseer gevaccineerd zijn meer ...\n",
       "10           0  Als de bestig plisseer gevaccineerd ziun meer ...\n",
       "11           0  Als de zestig lpisseer gevaccineerd zijn meer ...\n",
       "12           0  Las ed zestig plisseer gevaccineerd zijn meer ...\n",
       "13           0  Las de zestig plisseer gevaccineerd zijn mere ...\n",
       "14           0  Als de zestig plisseer gevaccineerd zmjn meer ...\n",
       "15           1  @ gebruiker9227 zijn jullie al benaderd voor e...\n",
       "16           1  @ gebruiker922f zijn jullie al benaderd voor e...\n",
       "17           1  @ gebruiker9227 zijn jullie al benaderd voorr ...\n",
       "18           1  @ gebruiker9227 zijn julli al benaderd voor ee...\n",
       "19           1  @ gebruiker9227 zijn jullie al bhnaderd voor e...\n",
       "20           1  @ gebruiker9227 zijn jullei al benaderd voor e...\n",
       "21           1  @ gebruiker9227 zijn jullie al benaderd vooh e...\n",
       "22           1  @ gebruiker9227 zijn jullie al benaderd voor e...\n",
       "23           1  @ gebruiker9227 zijn jullie wl benaderd voor e...\n",
       "24           1  @ gebruiker9227 zijn jullie al benaderd vopor ...\n",
       "25           1  @ gebruiker9227 zijn jullie al benaderd voor e...\n",
       "26           1  @ gebruiker92e7 zijn jullie al benaderd voor e...\n",
       "27           1  @ gebruiker9227 zijn julle al benaderd voor ee...\n",
       "28           1  @ gebruike2r9227 zijn jullie al benaderd voor ...\n",
       "29           1  @ gebruiker9227 zijn jullie al benaderd voor e..."
      ]
     },
     "execution_count": 54,
     "metadata": {},
     "output_type": "execute_result"
    }
   ],
   "source": [
    "augly_data[:30]"
   ]
  },
  {
   "cell_type": "code",
   "execution_count": 55,
   "id": "719d2d2f",
   "metadata": {},
   "outputs": [
    {
     "data": {
      "text/plain": [
       "21000"
      ]
     },
     "execution_count": 55,
     "metadata": {},
     "output_type": "execute_result"
    }
   ],
   "source": [
    "len(augly_data)"
   ]
  },
  {
   "cell_type": "code",
   "execution_count": 56,
   "id": "55b61d22",
   "metadata": {},
   "outputs": [
    {
     "data": {
      "text/html": [
       "<div>\n",
       "<style scoped>\n",
       "    .dataframe tbody tr th:only-of-type {\n",
       "        vertical-align: middle;\n",
       "    }\n",
       "\n",
       "    .dataframe tbody tr th {\n",
       "        vertical-align: top;\n",
       "    }\n",
       "\n",
       "    .dataframe thead th {\n",
       "        text-align: right;\n",
       "    }\n",
       "</style>\n",
       "<table border=\"1\" class=\"dataframe\">\n",
       "  <thead>\n",
       "    <tr style=\"text-align: right;\">\n",
       "      <th></th>\n",
       "      <th>post</th>\n",
       "    </tr>\n",
       "  </thead>\n",
       "  <tbody>\n",
       "    <tr>\n",
       "      <th>0</th>\n",
       "      <td>Als de zestig plisseer gevaccineerd zijn meer ...</td>\n",
       "    </tr>\n",
       "    <tr>\n",
       "      <th>1</th>\n",
       "      <td>@ gebruiker9227 zijn jullie al benaderd voor e...</td>\n",
       "    </tr>\n",
       "    <tr>\n",
       "      <th>2</th>\n",
       "      <td>Tim Douwsma zegt dat er hongersnood ontstaat i...</td>\n",
       "    </tr>\n",
       "    <tr>\n",
       "      <th>3</th>\n",
       "      <td>Beste mensen van # ikdoenietmeermee : ik doe n...</td>\n",
       "    </tr>\n",
       "    <tr>\n",
       "      <th>4</th>\n",
       "      <td>Nee hoor . Sommige ziekenhuizen nemen al geen ...</td>\n",
       "    </tr>\n",
       "  </tbody>\n",
       "</table>\n",
       "</div>"
      ],
      "text/plain": [
       "                                                post\n",
       "0  Als de zestig plisseer gevaccineerd zijn meer ...\n",
       "1  @ gebruiker9227 zijn jullie al benaderd voor e...\n",
       "2  Tim Douwsma zegt dat er hongersnood ontstaat i...\n",
       "3  Beste mensen van # ikdoenietmeermee : ik doe n...\n",
       "4  Nee hoor . Sommige ziekenhuizen nemen al geen ..."
      ]
     },
     "execution_count": 56,
     "metadata": {},
     "output_type": "execute_result"
    }
   ],
   "source": [
    "identifier_to_text.head()"
   ]
  },
  {
   "cell_type": "code",
   "execution_count": null,
   "id": "1814ffbd",
   "metadata": {},
   "outputs": [],
   "source": []
  }
 ],
 "metadata": {
  "kernelspec": {
   "display_name": "Python 3",
   "language": "python",
   "name": "python3"
  },
  "language_info": {
   "codemirror_mode": {
    "name": "ipython",
    "version": 3
   },
   "file_extension": ".py",
   "mimetype": "text/x-python",
   "name": "python",
   "nbconvert_exporter": "python",
   "pygments_lexer": "ipython3",
   "version": "3.8.8"
  }
 },
 "nbformat": 4,
 "nbformat_minor": 5
}
