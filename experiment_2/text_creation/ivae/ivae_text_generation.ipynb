{
 "cells": [
  {
   "cell_type": "code",
   "execution_count": 1,
   "id": "f7f51ef8",
   "metadata": {},
   "outputs": [],
   "source": [
    "import pandas as pd"
   ]
  },
  {
   "cell_type": "code",
   "execution_count": 2,
   "id": "c1cb671e",
   "metadata": {},
   "outputs": [],
   "source": [
    "data = pd.read_csv('gen_sentsivae_results_ex2.txt', sep='~~', engine='python', header=None)\n",
    "augly = pd.read_csv('synthetic_data_augly.csv')"
   ]
  },
  {
   "cell_type": "code",
   "execution_count": 3,
   "id": "cc744304",
   "metadata": {},
   "outputs": [
    {
     "data": {
      "text/html": [
       "<div>\n",
       "<style scoped>\n",
       "    .dataframe tbody tr th:only-of-type {\n",
       "        vertical-align: middle;\n",
       "    }\n",
       "\n",
       "    .dataframe tbody tr th {\n",
       "        vertical-align: top;\n",
       "    }\n",
       "\n",
       "    .dataframe thead th {\n",
       "        text-align: right;\n",
       "    }\n",
       "</style>\n",
       "<table border=\"1\" class=\"dataframe\">\n",
       "  <thead>\n",
       "    <tr style=\"text-align: right;\">\n",
       "      <th></th>\n",
       "      <th>0</th>\n",
       "    </tr>\n",
       "  </thead>\n",
       "  <tbody>\n",
       "    <tr>\n",
       "      <th>0</th>\n",
       "      <td>&lt;s&gt; # ikdoenietmeermee is een gevaarlijke uits...</td>\n",
       "    </tr>\n",
       "    <tr>\n",
       "      <th>1</th>\n",
       "      <td>&lt;s&gt; Het is ook heel erg veel IC ! ! &lt;/s&gt;</td>\n",
       "    </tr>\n",
       "    <tr>\n",
       "      <th>2</th>\n",
       "      <td>&lt;s&gt; Het spiekbriefje van Famke Louise kwam hee...</td>\n",
       "    </tr>\n",
       "    <tr>\n",
       "      <th>3</th>\n",
       "      <td>&lt;s&gt; Ik doe niet meer mee . En dan ook de # avo...</td>\n",
       "    </tr>\n",
       "    <tr>\n",
       "      <th>4</th>\n",
       "      <td>&lt;s&gt; Ik heb een goede reden voor # ikdoenietmee...</td>\n",
       "    </tr>\n",
       "  </tbody>\n",
       "</table>\n",
       "</div>"
      ],
      "text/plain": [
       "                                                   0\n",
       "0  <s> # ikdoenietmeermee is een gevaarlijke uits...\n",
       "1           <s> Het is ook heel erg veel IC ! ! </s>\n",
       "2  <s> Het spiekbriefje van Famke Louise kwam hee...\n",
       "3  <s> Ik doe niet meer mee . En dan ook de # avo...\n",
       "4  <s> Ik heb een goede reden voor # ikdoenietmee..."
      ]
     },
     "execution_count": 3,
     "metadata": {},
     "output_type": "execute_result"
    }
   ],
   "source": [
    "data.head()"
   ]
  },
  {
   "cell_type": "code",
   "execution_count": 4,
   "id": "b13715c0",
   "metadata": {},
   "outputs": [
    {
     "data": {
      "text/html": [
       "<div>\n",
       "<style scoped>\n",
       "    .dataframe tbody tr th:only-of-type {\n",
       "        vertical-align: middle;\n",
       "    }\n",
       "\n",
       "    .dataframe tbody tr th {\n",
       "        vertical-align: top;\n",
       "    }\n",
       "\n",
       "    .dataframe thead th {\n",
       "        text-align: right;\n",
       "    }\n",
       "</style>\n",
       "<table border=\"1\" class=\"dataframe\">\n",
       "  <thead>\n",
       "    <tr style=\"text-align: right;\">\n",
       "      <th></th>\n",
       "      <th>identifier</th>\n",
       "      <th>synthetic_text</th>\n",
       "    </tr>\n",
       "  </thead>\n",
       "  <tbody>\n",
       "    <tr>\n",
       "      <th>0</th>\n",
       "      <td>0</td>\n",
       "      <td>Als de zejstig plisseer gevaccineerd zijn meer...</td>\n",
       "    </tr>\n",
       "    <tr>\n",
       "      <th>1</th>\n",
       "      <td>0</td>\n",
       "      <td>Als de zestig plisseer gevaccineerd zijn meer ...</td>\n",
       "    </tr>\n",
       "    <tr>\n",
       "      <th>2</th>\n",
       "      <td>0</td>\n",
       "      <td>Als de zestig lpisseer gevaccineerd zjin meer ...</td>\n",
       "    </tr>\n",
       "    <tr>\n",
       "      <th>3</th>\n",
       "      <td>0</td>\n",
       "      <td>Als ed zestig plisseer gevaccineerd zijn meer ...</td>\n",
       "    </tr>\n",
       "    <tr>\n",
       "      <th>4</th>\n",
       "      <td>0</td>\n",
       "      <td>Tals d9e zestig pliseer gevaccineerd ijn meer ...</td>\n",
       "    </tr>\n",
       "  </tbody>\n",
       "</table>\n",
       "</div>"
      ],
      "text/plain": [
       "   identifier                                     synthetic_text\n",
       "0           0  Als de zejstig plisseer gevaccineerd zijn meer...\n",
       "1           0  Als de zestig plisseer gevaccineerd zijn meer ...\n",
       "2           0  Als de zestig lpisseer gevaccineerd zjin meer ...\n",
       "3           0  Als ed zestig plisseer gevaccineerd zijn meer ...\n",
       "4           0  Tals d9e zestig pliseer gevaccineerd ijn meer ..."
      ]
     },
     "execution_count": 4,
     "metadata": {},
     "output_type": "execute_result"
    }
   ],
   "source": [
    "augly.head()"
   ]
  },
  {
   "cell_type": "code",
   "execution_count": 7,
   "id": "d5a9cb9c",
   "metadata": {},
   "outputs": [],
   "source": [
    "data = pd.DataFrame(data = data.apply(lambda x: x[0][4:-5], axis=1))"
   ]
  },
  {
   "cell_type": "code",
   "execution_count": 8,
   "id": "592659ad",
   "metadata": {},
   "outputs": [
    {
     "data": {
      "text/html": [
       "<div>\n",
       "<style scoped>\n",
       "    .dataframe tbody tr th:only-of-type {\n",
       "        vertical-align: middle;\n",
       "    }\n",
       "\n",
       "    .dataframe tbody tr th {\n",
       "        vertical-align: top;\n",
       "    }\n",
       "\n",
       "    .dataframe thead th {\n",
       "        text-align: right;\n",
       "    }\n",
       "</style>\n",
       "<table border=\"1\" class=\"dataframe\">\n",
       "  <thead>\n",
       "    <tr style=\"text-align: right;\">\n",
       "      <th></th>\n",
       "      <th>0</th>\n",
       "    </tr>\n",
       "  </thead>\n",
       "  <tbody>\n",
       "    <tr>\n",
       "      <th>0</th>\n",
       "      <td># ikdoenietmeermee is een gevaarlijke uitspraa...</td>\n",
       "    </tr>\n",
       "    <tr>\n",
       "      <th>1</th>\n",
       "      <td>Het is ook heel erg veel IC ! !</td>\n",
       "    </tr>\n",
       "    <tr>\n",
       "      <th>2</th>\n",
       "      <td>Het spiekbriefje van Famke Louise kwam heel ev...</td>\n",
       "    </tr>\n",
       "    <tr>\n",
       "      <th>3</th>\n",
       "      <td>Ik doe niet meer mee . En dan ook de # avondkl...</td>\n",
       "    </tr>\n",
       "    <tr>\n",
       "      <th>4</th>\n",
       "      <td>Ik heb een goede reden voor # ikdoenietmeermee...</td>\n",
       "    </tr>\n",
       "  </tbody>\n",
       "</table>\n",
       "</div>"
      ],
      "text/plain": [
       "                                                   0\n",
       "0  # ikdoenietmeermee is een gevaarlijke uitspraa...\n",
       "1                    Het is ook heel erg veel IC ! !\n",
       "2  Het spiekbriefje van Famke Louise kwam heel ev...\n",
       "3  Ik doe niet meer mee . En dan ook de # avondkl...\n",
       "4  Ik heb een goede reden voor # ikdoenietmeermee..."
      ]
     },
     "execution_count": 8,
     "metadata": {},
     "output_type": "execute_result"
    }
   ],
   "source": [
    "data.head()"
   ]
  },
  {
   "cell_type": "code",
   "execution_count": 9,
   "id": "b3907774",
   "metadata": {},
   "outputs": [
    {
     "data": {
      "text/plain": [
       "21000"
      ]
     },
     "execution_count": 9,
     "metadata": {},
     "output_type": "execute_result"
    }
   ],
   "source": [
    "len(data)"
   ]
  },
  {
   "cell_type": "code",
   "execution_count": 5,
   "id": "7b892831",
   "metadata": {},
   "outputs": [],
   "source": [
    "all_data = pd.read_csv('active_learning_data_to_test_imbalanced.csv')"
   ]
  },
  {
   "cell_type": "code",
   "execution_count": 6,
   "id": "342926df",
   "metadata": {},
   "outputs": [
    {
     "data": {
      "text/plain": [
       "1400"
      ]
     },
     "execution_count": 6,
     "metadata": {},
     "output_type": "execute_result"
    }
   ],
   "source": [
    "len(all_data[all_data['set'] == 'covid'])"
   ]
  },
  {
   "cell_type": "code",
   "execution_count": 7,
   "id": "21366805",
   "metadata": {},
   "outputs": [],
   "source": [
    "all_data_identifiers = [i for i in range(len(all_data))]\n",
    "all_data['identifier'] = all_data_identifiers\n",
    "covid = all_data[all_data['set'] == 'covid']"
   ]
  },
  {
   "cell_type": "code",
   "execution_count": 43,
   "id": "8fd2136b",
   "metadata": {},
   "outputs": [],
   "source": [
    "all_data.to_csv('active_learning_data_to_test_imbalanced_new.csv', index=False)"
   ]
  },
  {
   "cell_type": "code",
   "execution_count": 8,
   "id": "33dc6bf4",
   "metadata": {},
   "outputs": [
    {
     "data": {
      "text/html": [
       "<div>\n",
       "<style scoped>\n",
       "    .dataframe tbody tr th:only-of-type {\n",
       "        vertical-align: middle;\n",
       "    }\n",
       "\n",
       "    .dataframe tbody tr th {\n",
       "        vertical-align: top;\n",
       "    }\n",
       "\n",
       "    .dataframe thead th {\n",
       "        text-align: right;\n",
       "    }\n",
       "</style>\n",
       "<table border=\"1\" class=\"dataframe\">\n",
       "  <thead>\n",
       "    <tr style=\"text-align: right;\">\n",
       "      <th></th>\n",
       "      <th>set</th>\n",
       "      <th>clean_post</th>\n",
       "      <th>identifier</th>\n",
       "    </tr>\n",
       "  </thead>\n",
       "  <tbody>\n",
       "    <tr>\n",
       "      <th>21</th>\n",
       "      <td>covid</td>\n",
       "      <td>Als de zestig plisseer gevaccineerd zijn meer ...</td>\n",
       "      <td>21</td>\n",
       "    </tr>\n",
       "    <tr>\n",
       "      <th>39</th>\n",
       "      <td>covid</td>\n",
       "      <td>@ gebruiker9227 zijn jullie al benaderd voor e...</td>\n",
       "      <td>39</td>\n",
       "    </tr>\n",
       "    <tr>\n",
       "      <th>59</th>\n",
       "      <td>covid</td>\n",
       "      <td>Tim Douwsma zegt dat er hongersnood ontstaat i...</td>\n",
       "      <td>59</td>\n",
       "    </tr>\n",
       "    <tr>\n",
       "      <th>136</th>\n",
       "      <td>covid</td>\n",
       "      <td>Beste mensen van # ikdoenietmeermee : ik doe n...</td>\n",
       "      <td>136</td>\n",
       "    </tr>\n",
       "    <tr>\n",
       "      <th>139</th>\n",
       "      <td>covid</td>\n",
       "      <td>Nee hoor . Sommige ziekenhuizen nemen al geen ...</td>\n",
       "      <td>139</td>\n",
       "    </tr>\n",
       "    <tr>\n",
       "      <th>...</th>\n",
       "      <td>...</td>\n",
       "      <td>...</td>\n",
       "      <td>...</td>\n",
       "    </tr>\n",
       "    <tr>\n",
       "      <th>46656</th>\n",
       "      <td>covid</td>\n",
       "      <td># ikdoenietmeermee is al 48h trending . . . Is...</td>\n",
       "      <td>46656</td>\n",
       "    </tr>\n",
       "    <tr>\n",
       "      <th>46676</th>\n",
       "      <td>covid</td>\n",
       "      <td>Ik ga er vanuit dat de mensen die meedoen aan ...</td>\n",
       "      <td>46676</td>\n",
       "    </tr>\n",
       "    <tr>\n",
       "      <th>46798</th>\n",
       "      <td>covid</td>\n",
       "      <td>Maar goed , dhr . Baudet was ook warm onderste...</td>\n",
       "      <td>46798</td>\n",
       "    </tr>\n",
       "    <tr>\n",
       "      <th>46809</th>\n",
       "      <td>covid</td>\n",
       "      <td>Scherp gezien ja . En daarom : # ikdoenietmeermee</td>\n",
       "      <td>46809</td>\n",
       "    </tr>\n",
       "    <tr>\n",
       "      <th>46895</th>\n",
       "      <td>covid</td>\n",
       "      <td># ikdoenietmeermee istg - welke boomer heeft e...</td>\n",
       "      <td>46895</td>\n",
       "    </tr>\n",
       "  </tbody>\n",
       "</table>\n",
       "<p>1400 rows × 3 columns</p>\n",
       "</div>"
      ],
      "text/plain": [
       "         set                                         clean_post  identifier\n",
       "21     covid  Als de zestig plisseer gevaccineerd zijn meer ...          21\n",
       "39     covid  @ gebruiker9227 zijn jullie al benaderd voor e...          39\n",
       "59     covid  Tim Douwsma zegt dat er hongersnood ontstaat i...          59\n",
       "136    covid  Beste mensen van # ikdoenietmeermee : ik doe n...         136\n",
       "139    covid  Nee hoor . Sommige ziekenhuizen nemen al geen ...         139\n",
       "...      ...                                                ...         ...\n",
       "46656  covid  # ikdoenietmeermee is al 48h trending . . . Is...       46656\n",
       "46676  covid  Ik ga er vanuit dat de mensen die meedoen aan ...       46676\n",
       "46798  covid  Maar goed , dhr . Baudet was ook warm onderste...       46798\n",
       "46809  covid  Scherp gezien ja . En daarom : # ikdoenietmeermee       46809\n",
       "46895  covid  # ikdoenietmeermee istg - welke boomer heeft e...       46895\n",
       "\n",
       "[1400 rows x 3 columns]"
      ]
     },
     "execution_count": 8,
     "metadata": {},
     "output_type": "execute_result"
    }
   ],
   "source": [
    "covid"
   ]
  },
  {
   "cell_type": "code",
   "execution_count": 16,
   "id": "31f850ad",
   "metadata": {},
   "outputs": [
    {
     "data": {
      "text/plain": [
       "1400"
      ]
     },
     "execution_count": 16,
     "metadata": {},
     "output_type": "execute_result"
    }
   ],
   "source": [
    "covid_idents = pd.read_csv('covid_identifiers.csv')\n",
    "len(covid_idents)"
   ]
  },
  {
   "cell_type": "code",
   "execution_count": 10,
   "id": "3770ef96",
   "metadata": {},
   "outputs": [],
   "source": [
    "import copy\n",
    "artificial_identifiers = copy.deepcopy(covid['identifier'])"
   ]
  },
  {
   "cell_type": "code",
   "execution_count": 11,
   "id": "3a2dff4d",
   "metadata": {},
   "outputs": [
    {
     "data": {
      "text/plain": [
       "21000"
      ]
     },
     "execution_count": 11,
     "metadata": {},
     "output_type": "execute_result"
    }
   ],
   "source": [
    "nested = [[i]*15 for i in artificial_identifiers]\n",
    "flat = [i for l in nested for i in l]\n",
    "len(flat)"
   ]
  },
  {
   "cell_type": "code",
   "execution_count": 14,
   "id": "1bba7cce",
   "metadata": {},
   "outputs": [],
   "source": [
    "# identifiers = []\n",
    "# count = 0\n",
    "# for i in range(1400):\n",
    "#     identifiers.extend([count for i in range(15)])\n",
    "#     count+=1"
   ]
  },
  {
   "cell_type": "code",
   "execution_count": 35,
   "id": "3805634c",
   "metadata": {},
   "outputs": [],
   "source": [
    "ivae_data = pd.DataFrame(list(zip(flat, list(data[0]))), columns=['identifier', 'synthetic_text'])"
   ]
  },
  {
   "cell_type": "code",
   "execution_count": 12,
   "id": "3638a0e2",
   "metadata": {},
   "outputs": [],
   "source": [
    "augly_data = pd.DataFrame(list(zip(flat, list(augly['synthetic_text']))), columns=['identifier', 'synthetic_text'])"
   ]
  },
  {
   "cell_type": "code",
   "execution_count": 14,
   "id": "6120c192",
   "metadata": {},
   "outputs": [],
   "source": [
    "augly_data.to_csv('synthetic_data_augly_new.csv', index=False)"
   ]
  },
  {
   "cell_type": "code",
   "execution_count": 44,
   "id": "a3af35b7",
   "metadata": {},
   "outputs": [
    {
     "data": {
      "text/plain": [
       "(21000, 15904)"
      ]
     },
     "execution_count": 44,
     "metadata": {},
     "output_type": "execute_result"
    }
   ],
   "source": [
    "len(ivae_data['synthetic_text']), len(set(ivae_data['synthetic_text']))"
   ]
  },
  {
   "cell_type": "code",
   "execution_count": 37,
   "id": "346230ba",
   "metadata": {},
   "outputs": [],
   "source": [
    "ivae_data.to_csv('synthetic_data_ivae_new.csv', index=False)"
   ]
  },
  {
   "cell_type": "code",
   "execution_count": null,
   "id": "9aa7591a",
   "metadata": {},
   "outputs": [],
   "source": []
  }
 ],
 "metadata": {
  "kernelspec": {
   "display_name": "Python 3",
   "language": "python",
   "name": "python3"
  },
  "language_info": {
   "codemirror_mode": {
    "name": "ipython",
    "version": 3
   },
   "file_extension": ".py",
   "mimetype": "text/x-python",
   "name": "python",
   "nbconvert_exporter": "python",
   "pygments_lexer": "ipython3",
   "version": "3.8.8"
  }
 },
 "nbformat": 4,
 "nbformat_minor": 5
}
