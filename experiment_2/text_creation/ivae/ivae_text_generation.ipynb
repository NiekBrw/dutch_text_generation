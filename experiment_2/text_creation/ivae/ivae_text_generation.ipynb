{
 "cells": [
  {
   "cell_type": "code",
   "execution_count": 1,
   "id": "f7f51ef8",
   "metadata": {},
   "outputs": [],
   "source": [
    "import pandas as pd"
   ]
  },
  {
   "cell_type": "code",
   "execution_count": 6,
   "id": "c1cb671e",
   "metadata": {},
   "outputs": [],
   "source": [
    "data = pd.read_csv('gen_sentsivae_results_ex2.txt', sep='~~', engine='python', header=None)"
   ]
  },
  {
   "cell_type": "code",
   "execution_count": 7,
   "id": "cc744304",
   "metadata": {},
   "outputs": [
    {
     "data": {
      "text/html": [
       "<div>\n",
       "<style scoped>\n",
       "    .dataframe tbody tr th:only-of-type {\n",
       "        vertical-align: middle;\n",
       "    }\n",
       "\n",
       "    .dataframe tbody tr th {\n",
       "        vertical-align: top;\n",
       "    }\n",
       "\n",
       "    .dataframe thead th {\n",
       "        text-align: right;\n",
       "    }\n",
       "</style>\n",
       "<table border=\"1\" class=\"dataframe\">\n",
       "  <thead>\n",
       "    <tr style=\"text-align: right;\">\n",
       "      <th></th>\n",
       "      <th>0</th>\n",
       "    </tr>\n",
       "  </thead>\n",
       "  <tbody>\n",
       "    <tr>\n",
       "      <th>0</th>\n",
       "      <td>&lt;s&gt; # ikdoenietmeermee is een gevaarlijke uits...</td>\n",
       "    </tr>\n",
       "    <tr>\n",
       "      <th>1</th>\n",
       "      <td>&lt;s&gt; Het is ook heel erg veel IC ! ! &lt;/s&gt;</td>\n",
       "    </tr>\n",
       "    <tr>\n",
       "      <th>2</th>\n",
       "      <td>&lt;s&gt; Het spiekbriefje van Famke Louise kwam hee...</td>\n",
       "    </tr>\n",
       "    <tr>\n",
       "      <th>3</th>\n",
       "      <td>&lt;s&gt; Ik doe niet meer mee . En dan ook de # avo...</td>\n",
       "    </tr>\n",
       "    <tr>\n",
       "      <th>4</th>\n",
       "      <td>&lt;s&gt; Ik heb een goede reden voor # ikdoenietmee...</td>\n",
       "    </tr>\n",
       "  </tbody>\n",
       "</table>\n",
       "</div>"
      ],
      "text/plain": [
       "                                                   0\n",
       "0  <s> # ikdoenietmeermee is een gevaarlijke uits...\n",
       "1           <s> Het is ook heel erg veel IC ! ! </s>\n",
       "2  <s> Het spiekbriefje van Famke Louise kwam hee...\n",
       "3  <s> Ik doe niet meer mee . En dan ook de # avo...\n",
       "4  <s> Ik heb een goede reden voor # ikdoenietmee..."
      ]
     },
     "execution_count": 7,
     "metadata": {},
     "output_type": "execute_result"
    }
   ],
   "source": [
    "data.head()"
   ]
  },
  {
   "cell_type": "code",
   "execution_count": 8,
   "id": "d5a9cb9c",
   "metadata": {},
   "outputs": [],
   "source": [
    "data = pd.DataFrame(data = data.apply(lambda x: x[0][4:-5], axis=1))"
   ]
  },
  {
   "cell_type": "code",
   "execution_count": 9,
   "id": "592659ad",
   "metadata": {},
   "outputs": [
    {
     "data": {
      "text/html": [
       "<div>\n",
       "<style scoped>\n",
       "    .dataframe tbody tr th:only-of-type {\n",
       "        vertical-align: middle;\n",
       "    }\n",
       "\n",
       "    .dataframe tbody tr th {\n",
       "        vertical-align: top;\n",
       "    }\n",
       "\n",
       "    .dataframe thead th {\n",
       "        text-align: right;\n",
       "    }\n",
       "</style>\n",
       "<table border=\"1\" class=\"dataframe\">\n",
       "  <thead>\n",
       "    <tr style=\"text-align: right;\">\n",
       "      <th></th>\n",
       "      <th>0</th>\n",
       "    </tr>\n",
       "  </thead>\n",
       "  <tbody>\n",
       "    <tr>\n",
       "      <th>0</th>\n",
       "      <td># ikdoenietmeermee is een gevaarlijke uitspraa...</td>\n",
       "    </tr>\n",
       "    <tr>\n",
       "      <th>1</th>\n",
       "      <td>Het is ook heel erg veel IC ! !</td>\n",
       "    </tr>\n",
       "    <tr>\n",
       "      <th>2</th>\n",
       "      <td>Het spiekbriefje van Famke Louise kwam heel ev...</td>\n",
       "    </tr>\n",
       "    <tr>\n",
       "      <th>3</th>\n",
       "      <td>Ik doe niet meer mee . En dan ook de # avondkl...</td>\n",
       "    </tr>\n",
       "    <tr>\n",
       "      <th>4</th>\n",
       "      <td>Ik heb een goede reden voor # ikdoenietmeermee...</td>\n",
       "    </tr>\n",
       "  </tbody>\n",
       "</table>\n",
       "</div>"
      ],
      "text/plain": [
       "                                                   0\n",
       "0  # ikdoenietmeermee is een gevaarlijke uitspraa...\n",
       "1                    Het is ook heel erg veel IC ! !\n",
       "2  Het spiekbriefje van Famke Louise kwam heel ev...\n",
       "3  Ik doe niet meer mee . En dan ook de # avondkl...\n",
       "4  Ik heb een goede reden voor # ikdoenietmeermee..."
      ]
     },
     "execution_count": 9,
     "metadata": {},
     "output_type": "execute_result"
    }
   ],
   "source": [
    "data.head()"
   ]
  },
  {
   "cell_type": "code",
   "execution_count": 10,
   "id": "b3907774",
   "metadata": {},
   "outputs": [
    {
     "data": {
      "text/plain": [
       "21000"
      ]
     },
     "execution_count": 10,
     "metadata": {},
     "output_type": "execute_result"
    }
   ],
   "source": [
    "len(data)"
   ]
  },
  {
   "cell_type": "code",
   "execution_count": 14,
   "id": "1bba7cce",
   "metadata": {},
   "outputs": [],
   "source": [
    "identifiers = []\n",
    "count = 0\n",
    "for i in range(1400):\n",
    "    identifiers.extend([count for i in range(15)])\n",
    "    count+=1"
   ]
  },
  {
   "cell_type": "code",
   "execution_count": 17,
   "id": "3805634c",
   "metadata": {},
   "outputs": [],
   "source": [
    "ivae_data = pd.DataFrame(list(zip(identifiers, list(data[0]))), columns=['identifier', 'synthetic_text'])"
   ]
  },
  {
   "cell_type": "code",
   "execution_count": 18,
   "id": "a3af35b7",
   "metadata": {},
   "outputs": [
    {
     "data": {
      "text/html": [
       "<div>\n",
       "<style scoped>\n",
       "    .dataframe tbody tr th:only-of-type {\n",
       "        vertical-align: middle;\n",
       "    }\n",
       "\n",
       "    .dataframe tbody tr th {\n",
       "        vertical-align: top;\n",
       "    }\n",
       "\n",
       "    .dataframe thead th {\n",
       "        text-align: right;\n",
       "    }\n",
       "</style>\n",
       "<table border=\"1\" class=\"dataframe\">\n",
       "  <thead>\n",
       "    <tr style=\"text-align: right;\">\n",
       "      <th></th>\n",
       "      <th>identifier</th>\n",
       "      <th>synthetic_text</th>\n",
       "    </tr>\n",
       "  </thead>\n",
       "  <tbody>\n",
       "    <tr>\n",
       "      <th>0</th>\n",
       "      <td>0</td>\n",
       "      <td># ikdoenietmeermee is een gevaarlijke uitspraa...</td>\n",
       "    </tr>\n",
       "    <tr>\n",
       "      <th>1</th>\n",
       "      <td>0</td>\n",
       "      <td>Het is ook heel erg veel IC ! !</td>\n",
       "    </tr>\n",
       "    <tr>\n",
       "      <th>2</th>\n",
       "      <td>0</td>\n",
       "      <td>Het spiekbriefje van Famke Louise kwam heel ev...</td>\n",
       "    </tr>\n",
       "    <tr>\n",
       "      <th>3</th>\n",
       "      <td>0</td>\n",
       "      <td>Ik doe niet meer mee . En dan ook de # avondkl...</td>\n",
       "    </tr>\n",
       "    <tr>\n",
       "      <th>4</th>\n",
       "      <td>0</td>\n",
       "      <td>Ik heb een goede reden voor # ikdoenietmeermee...</td>\n",
       "    </tr>\n",
       "  </tbody>\n",
       "</table>\n",
       "</div>"
      ],
      "text/plain": [
       "   identifier                                     synthetic_text\n",
       "0           0  # ikdoenietmeermee is een gevaarlijke uitspraa...\n",
       "1           0                    Het is ook heel erg veel IC ! !\n",
       "2           0  Het spiekbriefje van Famke Louise kwam heel ev...\n",
       "3           0  Ik doe niet meer mee . En dan ook de # avondkl...\n",
       "4           0  Ik heb een goede reden voor # ikdoenietmeermee..."
      ]
     },
     "execution_count": 18,
     "metadata": {},
     "output_type": "execute_result"
    }
   ],
   "source": [
    "ivae_data.head()"
   ]
  },
  {
   "cell_type": "code",
   "execution_count": 21,
   "id": "346230ba",
   "metadata": {},
   "outputs": [],
   "source": [
    "ivae_data.to_csv('synthetic_data_ivae.csv', index=False)"
   ]
  }
 ],
 "metadata": {
  "kernelspec": {
   "display_name": "Python 3",
   "language": "python",
   "name": "python3"
  },
  "language_info": {
   "codemirror_mode": {
    "name": "ipython",
    "version": 3
   },
   "file_extension": ".py",
   "mimetype": "text/x-python",
   "name": "python",
   "nbconvert_exporter": "python",
   "pygments_lexer": "ipython3",
   "version": "3.8.8"
  }
 },
 "nbformat": 4,
 "nbformat_minor": 5
}
