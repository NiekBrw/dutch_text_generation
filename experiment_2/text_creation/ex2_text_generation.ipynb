{
 "cells": [
  {
   "cell_type": "markdown",
   "id": "5f2bdce2",
   "metadata": {},
   "source": [
    "# Experiment 2 Text Generation"
   ]
  },
  {
   "cell_type": "markdown",
   "id": "c529ea77",
   "metadata": {},
   "source": [
    "### Imports"
   ]
  },
  {
   "cell_type": "code",
   "execution_count": 14,
   "id": "f7f51ef8",
   "metadata": {},
   "outputs": [],
   "source": [
    "import augly.text as textaugs\n",
    "import pandas as pd\n",
    "import random\n",
    "import copy"
   ]
  },
  {
   "cell_type": "markdown",
   "id": "17cee1a8",
   "metadata": {},
   "source": [
    "### Import data"
   ]
  },
  {
   "cell_type": "code",
   "execution_count": 23,
   "id": "c1cb671e",
   "metadata": {},
   "outputs": [],
   "source": [
    "ivae = pd.read_csv('ivae/gen_sentsivae_results_ex2.txt', sep='~~', engine='python', header=None)\n",
    "real_data = pd.read_csv('../../data/active_learning_data_to_test_imbalanced.csv')"
   ]
  },
  {
   "cell_type": "markdown",
   "id": "df5d5b47",
   "metadata": {},
   "source": [
    "### Postprocessing iVAE"
   ]
  },
  {
   "cell_type": "code",
   "execution_count": 24,
   "id": "cc744304",
   "metadata": {},
   "outputs": [
    {
     "data": {
      "text/html": [
       "<div>\n",
       "<style scoped>\n",
       "    .dataframe tbody tr th:only-of-type {\n",
       "        vertical-align: middle;\n",
       "    }\n",
       "\n",
       "    .dataframe tbody tr th {\n",
       "        vertical-align: top;\n",
       "    }\n",
       "\n",
       "    .dataframe thead th {\n",
       "        text-align: right;\n",
       "    }\n",
       "</style>\n",
       "<table border=\"1\" class=\"dataframe\">\n",
       "  <thead>\n",
       "    <tr style=\"text-align: right;\">\n",
       "      <th></th>\n",
       "      <th>0</th>\n",
       "    </tr>\n",
       "  </thead>\n",
       "  <tbody>\n",
       "    <tr>\n",
       "      <th>0</th>\n",
       "      <td>&lt;s&gt; # ikdoenietmeermee is een gevaarlijke uits...</td>\n",
       "    </tr>\n",
       "    <tr>\n",
       "      <th>1</th>\n",
       "      <td>&lt;s&gt; Het is ook heel erg veel IC ! ! &lt;/s&gt;</td>\n",
       "    </tr>\n",
       "    <tr>\n",
       "      <th>2</th>\n",
       "      <td>&lt;s&gt; Het spiekbriefje van Famke Louise kwam hee...</td>\n",
       "    </tr>\n",
       "    <tr>\n",
       "      <th>3</th>\n",
       "      <td>&lt;s&gt; Ik doe niet meer mee . En dan ook de # avo...</td>\n",
       "    </tr>\n",
       "    <tr>\n",
       "      <th>4</th>\n",
       "      <td>&lt;s&gt; Ik heb een goede reden voor # ikdoenietmee...</td>\n",
       "    </tr>\n",
       "  </tbody>\n",
       "</table>\n",
       "</div>"
      ],
      "text/plain": [
       "                                                   0\n",
       "0  <s> # ikdoenietmeermee is een gevaarlijke uits...\n",
       "1           <s> Het is ook heel erg veel IC ! ! </s>\n",
       "2  <s> Het spiekbriefje van Famke Louise kwam hee...\n",
       "3  <s> Ik doe niet meer mee . En dan ook de # avo...\n",
       "4  <s> Ik heb een goede reden voor # ikdoenietmee..."
      ]
     },
     "execution_count": 24,
     "metadata": {},
     "output_type": "execute_result"
    }
   ],
   "source": [
    "ivae.head()"
   ]
  },
  {
   "cell_type": "code",
   "execution_count": 25,
   "id": "d5a9cb9c",
   "metadata": {},
   "outputs": [],
   "source": [
    "ivae = pd.DataFrame(data = ivae.apply(lambda x: x[0][4:-5], axis=1), columns=['synthetic_text'])"
   ]
  },
  {
   "cell_type": "code",
   "execution_count": 26,
   "id": "592659ad",
   "metadata": {},
   "outputs": [
    {
     "data": {
      "text/html": [
       "<div>\n",
       "<style scoped>\n",
       "    .dataframe tbody tr th:only-of-type {\n",
       "        vertical-align: middle;\n",
       "    }\n",
       "\n",
       "    .dataframe tbody tr th {\n",
       "        vertical-align: top;\n",
       "    }\n",
       "\n",
       "    .dataframe thead th {\n",
       "        text-align: right;\n",
       "    }\n",
       "</style>\n",
       "<table border=\"1\" class=\"dataframe\">\n",
       "  <thead>\n",
       "    <tr style=\"text-align: right;\">\n",
       "      <th></th>\n",
       "      <th>synthetic_text</th>\n",
       "    </tr>\n",
       "  </thead>\n",
       "  <tbody>\n",
       "    <tr>\n",
       "      <th>0</th>\n",
       "      <td># ikdoenietmeermee is een gevaarlijke uitspraa...</td>\n",
       "    </tr>\n",
       "    <tr>\n",
       "      <th>1</th>\n",
       "      <td>Het is ook heel erg veel IC ! !</td>\n",
       "    </tr>\n",
       "    <tr>\n",
       "      <th>2</th>\n",
       "      <td>Het spiekbriefje van Famke Louise kwam heel ev...</td>\n",
       "    </tr>\n",
       "    <tr>\n",
       "      <th>3</th>\n",
       "      <td>Ik doe niet meer mee . En dan ook de # avondkl...</td>\n",
       "    </tr>\n",
       "    <tr>\n",
       "      <th>4</th>\n",
       "      <td>Ik heb een goede reden voor # ikdoenietmeermee...</td>\n",
       "    </tr>\n",
       "  </tbody>\n",
       "</table>\n",
       "</div>"
      ],
      "text/plain": [
       "                                      synthetic_text\n",
       "0  # ikdoenietmeermee is een gevaarlijke uitspraa...\n",
       "1                    Het is ook heel erg veel IC ! !\n",
       "2  Het spiekbriefje van Famke Louise kwam heel ev...\n",
       "3  Ik doe niet meer mee . En dan ook de # avondkl...\n",
       "4  Ik heb een goede reden voor # ikdoenietmeermee..."
      ]
     },
     "execution_count": 26,
     "metadata": {},
     "output_type": "execute_result"
    }
   ],
   "source": [
    "ivae.head()"
   ]
  },
  {
   "cell_type": "markdown",
   "id": "265d05ba",
   "metadata": {},
   "source": [
    "### Generate AugLy texts"
   ]
  },
  {
   "cell_type": "code",
   "execution_count": 9,
   "id": "608dacb6",
   "metadata": {},
   "outputs": [],
   "source": [
    "covid = real_data[real_data['set'] == 'covid']"
   ]
  },
  {
   "cell_type": "code",
   "execution_count": 10,
   "id": "31fc092f",
   "metadata": {},
   "outputs": [],
   "source": [
    "real_covid_texts_1400 = list(covid['clean_post'])"
   ]
  },
  {
   "cell_type": "code",
   "execution_count": 11,
   "id": "3cfc4916",
   "metadata": {},
   "outputs": [],
   "source": [
    "augly_synthetic_texts = []\n",
    "\n",
    "random.seed(40)\n",
    "for real_text in real_covid_texts_1400:\n",
    "    for i in range(15):\n",
    "        augly_synthetic_texts.append(textaugs.simulate_typos(real_text, aug_char_p=0.3, aug_word_p=0.2))"
   ]
  },
  {
   "cell_type": "code",
   "execution_count": 12,
   "id": "146258bc",
   "metadata": {},
   "outputs": [],
   "source": [
    "augly_data = pd.DataFrame(list(zip(augly_synthetic_texts)), columns=['synthetic_text'])"
   ]
  },
  {
   "cell_type": "code",
   "execution_count": 13,
   "id": "c5f5ac9d",
   "metadata": {},
   "outputs": [
    {
     "data": {
      "text/html": [
       "<div>\n",
       "<style scoped>\n",
       "    .dataframe tbody tr th:only-of-type {\n",
       "        vertical-align: middle;\n",
       "    }\n",
       "\n",
       "    .dataframe tbody tr th {\n",
       "        vertical-align: top;\n",
       "    }\n",
       "\n",
       "    .dataframe thead th {\n",
       "        text-align: right;\n",
       "    }\n",
       "</style>\n",
       "<table border=\"1\" class=\"dataframe\">\n",
       "  <thead>\n",
       "    <tr style=\"text-align: right;\">\n",
       "      <th></th>\n",
       "      <th>synthetic_text</th>\n",
       "    </tr>\n",
       "  </thead>\n",
       "  <tbody>\n",
       "    <tr>\n",
       "      <th>0</th>\n",
       "      <td>Als de zejstig plisseer gevaccineerd zijn meer...</td>\n",
       "    </tr>\n",
       "    <tr>\n",
       "      <th>1</th>\n",
       "      <td>Als de zestig plisseer gevaccineerd zijn meer ...</td>\n",
       "    </tr>\n",
       "    <tr>\n",
       "      <th>2</th>\n",
       "      <td>Als de zestig lpisseer gevaccineerd zjin meer ...</td>\n",
       "    </tr>\n",
       "    <tr>\n",
       "      <th>3</th>\n",
       "      <td>Als ed zestig plisseer gevaccineerd zijn meer ...</td>\n",
       "    </tr>\n",
       "    <tr>\n",
       "      <th>4</th>\n",
       "      <td>Tals d9e zestig pliseer gevaccineerd ijn meer ...</td>\n",
       "    </tr>\n",
       "    <tr>\n",
       "      <th>...</th>\n",
       "      <td>...</td>\n",
       "    </tr>\n",
       "    <tr>\n",
       "      <th>20995</th>\n",
       "      <td>#ikdoenietmeermee istf-welke bomer heeft er pv...</td>\n",
       "    </tr>\n",
       "    <tr>\n",
       "      <th>20996</th>\n",
       "      <td>#ikdoenietmeermee istg-welke boomer heeft er v...</td>\n",
       "    </tr>\n",
       "    <tr>\n",
       "      <th>20997</th>\n",
       "      <td>#ikdoenietmeermee (istg-welke boomer heeft er ...</td>\n",
       "    </tr>\n",
       "    <tr>\n",
       "      <th>20998</th>\n",
       "      <td>#ikdoenietmeermee istg-welke booer heeft er vo...</td>\n",
       "    </tr>\n",
       "    <tr>\n",
       "      <th>20999</th>\n",
       "      <td>#idkoenietmeermee istg-welzke boomer heeft er ...</td>\n",
       "    </tr>\n",
       "  </tbody>\n",
       "</table>\n",
       "<p>21000 rows × 1 columns</p>\n",
       "</div>"
      ],
      "text/plain": [
       "                                          synthetic_text\n",
       "0      Als de zejstig plisseer gevaccineerd zijn meer...\n",
       "1      Als de zestig plisseer gevaccineerd zijn meer ...\n",
       "2      Als de zestig lpisseer gevaccineerd zjin meer ...\n",
       "3      Als ed zestig plisseer gevaccineerd zijn meer ...\n",
       "4      Tals d9e zestig pliseer gevaccineerd ijn meer ...\n",
       "...                                                  ...\n",
       "20995  #ikdoenietmeermee istf-welke bomer heeft er pv...\n",
       "20996  #ikdoenietmeermee istg-welke boomer heeft er v...\n",
       "20997  #ikdoenietmeermee (istg-welke boomer heeft er ...\n",
       "20998  #ikdoenietmeermee istg-welke booer heeft er vo...\n",
       "20999  #idkoenietmeermee istg-welzke boomer heeft er ...\n",
       "\n",
       "[21000 rows x 1 columns]"
      ]
     },
     "execution_count": 13,
     "metadata": {},
     "output_type": "execute_result"
    }
   ],
   "source": [
    "augly_data"
   ]
  },
  {
   "cell_type": "markdown",
   "id": "9af432fc",
   "metadata": {},
   "source": [
    "### Create identifiers"
   ]
  },
  {
   "cell_type": "markdown",
   "id": "9ae00d3d",
   "metadata": {},
   "source": [
    "*Find and create identifiers for real texts*"
   ]
  },
  {
   "cell_type": "code",
   "execution_count": 15,
   "id": "21366805",
   "metadata": {},
   "outputs": [],
   "source": [
    "real_data_identifiers = [i for i in range(len(real_data))]\n",
    "real_data['identifier'] = real_data_identifiers\n",
    "covid = real_data[real_data['set'] == 'covid']"
   ]
  },
  {
   "cell_type": "code",
   "execution_count": 16,
   "id": "33dc6bf4",
   "metadata": {
    "scrolled": true
   },
   "outputs": [
    {
     "data": {
      "text/html": [
       "<div>\n",
       "<style scoped>\n",
       "    .dataframe tbody tr th:only-of-type {\n",
       "        vertical-align: middle;\n",
       "    }\n",
       "\n",
       "    .dataframe tbody tr th {\n",
       "        vertical-align: top;\n",
       "    }\n",
       "\n",
       "    .dataframe thead th {\n",
       "        text-align: right;\n",
       "    }\n",
       "</style>\n",
       "<table border=\"1\" class=\"dataframe\">\n",
       "  <thead>\n",
       "    <tr style=\"text-align: right;\">\n",
       "      <th></th>\n",
       "      <th>set</th>\n",
       "      <th>clean_post</th>\n",
       "      <th>identifier</th>\n",
       "    </tr>\n",
       "  </thead>\n",
       "  <tbody>\n",
       "    <tr>\n",
       "      <th>21</th>\n",
       "      <td>covid</td>\n",
       "      <td>Als de zestig plisseer gevaccineerd zijn meer ...</td>\n",
       "      <td>21</td>\n",
       "    </tr>\n",
       "    <tr>\n",
       "      <th>39</th>\n",
       "      <td>covid</td>\n",
       "      <td>@ gebruiker9227 zijn jullie al benaderd voor e...</td>\n",
       "      <td>39</td>\n",
       "    </tr>\n",
       "    <tr>\n",
       "      <th>59</th>\n",
       "      <td>covid</td>\n",
       "      <td>Tim Douwsma zegt dat er hongersnood ontstaat i...</td>\n",
       "      <td>59</td>\n",
       "    </tr>\n",
       "    <tr>\n",
       "      <th>136</th>\n",
       "      <td>covid</td>\n",
       "      <td>Beste mensen van # ikdoenietmeermee : ik doe n...</td>\n",
       "      <td>136</td>\n",
       "    </tr>\n",
       "    <tr>\n",
       "      <th>139</th>\n",
       "      <td>covid</td>\n",
       "      <td>Nee hoor . Sommige ziekenhuizen nemen al geen ...</td>\n",
       "      <td>139</td>\n",
       "    </tr>\n",
       "    <tr>\n",
       "      <th>...</th>\n",
       "      <td>...</td>\n",
       "      <td>...</td>\n",
       "      <td>...</td>\n",
       "    </tr>\n",
       "    <tr>\n",
       "      <th>46656</th>\n",
       "      <td>covid</td>\n",
       "      <td># ikdoenietmeermee is al 48h trending . . . Is...</td>\n",
       "      <td>46656</td>\n",
       "    </tr>\n",
       "    <tr>\n",
       "      <th>46676</th>\n",
       "      <td>covid</td>\n",
       "      <td>Ik ga er vanuit dat de mensen die meedoen aan ...</td>\n",
       "      <td>46676</td>\n",
       "    </tr>\n",
       "    <tr>\n",
       "      <th>46798</th>\n",
       "      <td>covid</td>\n",
       "      <td>Maar goed , dhr . Baudet was ook warm onderste...</td>\n",
       "      <td>46798</td>\n",
       "    </tr>\n",
       "    <tr>\n",
       "      <th>46809</th>\n",
       "      <td>covid</td>\n",
       "      <td>Scherp gezien ja . En daarom : # ikdoenietmeermee</td>\n",
       "      <td>46809</td>\n",
       "    </tr>\n",
       "    <tr>\n",
       "      <th>46895</th>\n",
       "      <td>covid</td>\n",
       "      <td># ikdoenietmeermee istg - welke boomer heeft e...</td>\n",
       "      <td>46895</td>\n",
       "    </tr>\n",
       "  </tbody>\n",
       "</table>\n",
       "<p>1400 rows × 3 columns</p>\n",
       "</div>"
      ],
      "text/plain": [
       "         set                                         clean_post  identifier\n",
       "21     covid  Als de zestig plisseer gevaccineerd zijn meer ...          21\n",
       "39     covid  @ gebruiker9227 zijn jullie al benaderd voor e...          39\n",
       "59     covid  Tim Douwsma zegt dat er hongersnood ontstaat i...          59\n",
       "136    covid  Beste mensen van # ikdoenietmeermee : ik doe n...         136\n",
       "139    covid  Nee hoor . Sommige ziekenhuizen nemen al geen ...         139\n",
       "...      ...                                                ...         ...\n",
       "46656  covid  # ikdoenietmeermee is al 48h trending . . . Is...       46656\n",
       "46676  covid  Ik ga er vanuit dat de mensen die meedoen aan ...       46676\n",
       "46798  covid  Maar goed , dhr . Baudet was ook warm onderste...       46798\n",
       "46809  covid  Scherp gezien ja . En daarom : # ikdoenietmeermee       46809\n",
       "46895  covid  # ikdoenietmeermee istg - welke boomer heeft e...       46895\n",
       "\n",
       "[1400 rows x 3 columns]"
      ]
     },
     "execution_count": 16,
     "metadata": {},
     "output_type": "execute_result"
    }
   ],
   "source": [
    "covid"
   ]
  },
  {
   "cell_type": "markdown",
   "id": "2e092942",
   "metadata": {},
   "source": [
    "*Create identifiers for synthetic texts*"
   ]
  },
  {
   "cell_type": "code",
   "execution_count": 17,
   "id": "3770ef96",
   "metadata": {},
   "outputs": [],
   "source": [
    "artificial_identifiers = copy.deepcopy(covid['identifier'])"
   ]
  },
  {
   "cell_type": "code",
   "execution_count": 18,
   "id": "3a2dff4d",
   "metadata": {},
   "outputs": [
    {
     "data": {
      "text/plain": [
       "21000"
      ]
     },
     "execution_count": 18,
     "metadata": {},
     "output_type": "execute_result"
    }
   ],
   "source": [
    "nested = [[i]*15 for i in artificial_identifiers]\n",
    "flat = [i for l in nested for i in l]\n",
    "len(flat)"
   ]
  },
  {
   "cell_type": "code",
   "execution_count": 27,
   "id": "3805634c",
   "metadata": {},
   "outputs": [],
   "source": [
    "ivae_data = pd.DataFrame(list(zip(flat, list(ivae['synthetic_text']))), columns=['identifier', 'synthetic_text'])"
   ]
  },
  {
   "cell_type": "code",
   "execution_count": 12,
   "id": "3638a0e2",
   "metadata": {},
   "outputs": [],
   "source": [
    "augly_data = pd.DataFrame(list(zip(flat, list(augly['synthetic_text']))), columns=['identifier', 'synthetic_text'])"
   ]
  },
  {
   "cell_type": "markdown",
   "id": "d2a3eae0",
   "metadata": {},
   "source": [
    "### Save datafiles"
   ]
  },
  {
   "cell_type": "code",
   "execution_count": 43,
   "id": "8fd2136b",
   "metadata": {},
   "outputs": [],
   "source": [
    "real_data.to_csv('../../data/active_learning_data_to_test_imbalanced_with_identifiers.csv', index=False)"
   ]
  },
  {
   "cell_type": "code",
   "execution_count": 14,
   "id": "6120c192",
   "metadata": {},
   "outputs": [],
   "source": [
    "augly_data.to_csv('../../data/synthetic_data_augly.csv', index=False)"
   ]
  },
  {
   "cell_type": "code",
   "execution_count": 37,
   "id": "346230ba",
   "metadata": {},
   "outputs": [],
   "source": [
    "ivae_data.to_csv('../../data/synthetic_data_ivae.csv', index=False)"
   ]
  }
 ],
 "metadata": {
  "kernelspec": {
   "display_name": "Python 3",
   "language": "python",
   "name": "python3"
  },
  "language_info": {
   "codemirror_mode": {
    "name": "ipython",
    "version": 3
   },
   "file_extension": ".py",
   "mimetype": "text/x-python",
   "name": "python",
   "nbconvert_exporter": "python",
   "pygments_lexer": "ipython3",
   "version": "3.8.8"
  }
 },
 "nbformat": 4,
 "nbformat_minor": 5
}
