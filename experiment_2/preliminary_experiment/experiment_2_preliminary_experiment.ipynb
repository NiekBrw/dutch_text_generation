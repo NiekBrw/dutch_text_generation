{
 "cells": [
  {
   "cell_type": "markdown",
   "id": "b6dbd297",
   "metadata": {},
   "source": [
    "# Experiment 2 Preliminary Experiment"
   ]
  },
  {
   "cell_type": "markdown",
   "id": "b1d96a42",
   "metadata": {},
   "source": [
    "### Imports"
   ]
  },
  {
   "cell_type": "code",
   "execution_count": 22,
   "id": "6dd5202f",
   "metadata": {},
   "outputs": [],
   "source": [
    "import random\n",
    "\n",
    "import instancelib as il\n",
    "from instancelib.machinelearning.sklearn import SkLearnClassifier\n",
    "from instancelib.typehints.typevars import KT, LT\n",
    "from instancelib.utils.func import list_unzip\n",
    "\n",
    "from typing import Any, FrozenSet, Sequence, Tuple\n",
    "\n",
    "import pandas as pd\n",
    "import numpy as np\n",
    "\n",
    "from instancelib.analysis.base import classifier_performance\n",
    "from lightgbm import LGBMClassifier\n",
    "from sklearn.feature_extraction.text import TfidfVectorizer\n",
    "from sklearn.svm import SVC\n",
    "from sklearn.tree import DecisionTreeClassifier\n",
    "from sklearn.linear_model import LogisticRegression\n",
    "from sklearn.neighbors import KNeighborsClassifier\n",
    "from sklearn.ensemble import RandomForestClassifier\n",
    "from sklearn.neural_network import MLPClassifier\n",
    "from sklearn.naive_bayes import GaussianNB\n",
    "\n",
    "from sbert import PretrainedSentenceBERTVectorizer\n",
    "from stratified import stratified_train_test\n",
    "from synthesizer import PreSynthesized\n",
    "\n",
    "from sklearn.metrics import matthews_corrcoef, confusion_matrix, roc_auc_score, fbeta_score\n",
    "\n",
    "\n",
    "from matplotlib import pyplot as plt"
   ]
  },
  {
   "cell_type": "code",
   "execution_count": 2,
   "id": "4b1215d0",
   "metadata": {},
   "outputs": [],
   "source": [
    "random.seed(10)"
   ]
  },
  {
   "cell_type": "markdown",
   "id": "44ccbd48",
   "metadata": {},
   "source": [
    "### Define functions"
   ]
  },
  {
   "cell_type": "code",
   "execution_count": 15,
   "id": "6a8a4439",
   "metadata": {},
   "outputs": [],
   "source": [
    "def sklearn_truth_pred(model: SkLearnClassifier[Any, KT, Any, Any, LT],\n",
    "                       predictions: Sequence[Tuple[KT, FrozenSet[LT]]],\n",
    "                       truth: il.LabelProvider[KT, LT]) -> Tuple[np.ndarray, np.ndarray]:\n",
    "    '''Return true and predicted labels from test set'''\n",
    "    keys, preds = list_unzip(predictions)\n",
    "    truths = [truth.get_labels(key) for key in keys]\n",
    "    y_pred = model.encoder.encode_batch(preds)\n",
    "    y_true = model.encoder.encode_batch(truths)\n",
    "    return y_true, y_pred"
   ]
  },
  {
   "cell_type": "markdown",
   "id": "805b68dd",
   "metadata": {},
   "source": [
    "### Load data"
   ]
  },
  {
   "cell_type": "code",
   "execution_count": 3,
   "id": "a8ed76ff",
   "metadata": {},
   "outputs": [],
   "source": [
    "df = pd.read_csv(\"../../data/active_learning_data_to_test_imbalanced_with_identifiers.csv\")\n",
    "tweet_env = il.pandas_to_env_with_id(df, \"identifier\", \"clean_post\", \"set\")"
   ]
  },
  {
   "cell_type": "markdown",
   "id": "202373d2",
   "metadata": {},
   "source": [
    "### Preparation"
   ]
  },
  {
   "cell_type": "markdown",
   "id": "8e606661",
   "metadata": {},
   "source": [
    "*Vectorize data with RobBERT*"
   ]
  },
  {
   "cell_type": "code",
   "execution_count": 5,
   "id": "7ca0d21c",
   "metadata": {},
   "outputs": [],
   "source": [
    "sbert_vec = il.TextInstanceVectorizer(PretrainedSentenceBERTVectorizer(\"pdelobelle/robbert-v2-dutch-base\"))"
   ]
  },
  {
   "cell_type": "code",
   "execution_count": 6,
   "id": "fb88d1b1",
   "metadata": {},
   "outputs": [
    {
     "data": {
      "application/vnd.jupyter.widget-view+json": {
       "model_id": "fc2eaf12715244dd9359009fa10215a3",
       "version_major": 2,
       "version_minor": 0
      },
      "text/plain": [
       "Batches:   0%|          | 0/625 [00:00<?, ?it/s]"
      ]
     },
     "metadata": {},
     "output_type": "display_data"
    },
    {
     "name": "stderr",
     "output_type": "stream",
     "text": [
      "Asking to truncate to max_length but no maximum length is provided and the model has no predefined maximum length. Default to no truncation.\n"
     ]
    },
    {
     "data": {
      "application/vnd.jupyter.widget-view+json": {
       "model_id": "3759ce946a824470af5eb7d5a13bb03a",
       "version_major": 2,
       "version_minor": 0
      },
      "text/plain": [
       "Batches:   0%|          | 0/625 [00:00<?, ?it/s]"
      ]
     },
     "metadata": {},
     "output_type": "display_data"
    },
    {
     "data": {
      "application/vnd.jupyter.widget-view+json": {
       "model_id": "2035d3b0d7de4f73877d6e542118c398",
       "version_major": 2,
       "version_minor": 0
      },
      "text/plain": [
       "Batches:   0%|          | 0/216 [00:00<?, ?it/s]"
      ]
     },
     "metadata": {},
     "output_type": "display_data"
    }
   ],
   "source": [
    "il.vectorize(sbert_vec, tweet_env, fit = False, chunk_size=20000)"
   ]
  },
  {
   "cell_type": "markdown",
   "id": "f305675b",
   "metadata": {},
   "source": [
    "*Split data in train and testset*"
   ]
  },
  {
   "cell_type": "code",
   "execution_count": 7,
   "id": "ea276f3e",
   "metadata": {},
   "outputs": [],
   "source": [
    "# Create a train set of 70 %. \n",
    "# The remainder will be used as evaluation\n",
    "train, test = stratified_train_test(tweet_env, tweet_env.dataset, tweet_env.labels, 0.70)"
   ]
  },
  {
   "cell_type": "code",
   "execution_count": 8,
   "id": "e4cd3b05",
   "metadata": {},
   "outputs": [
    {
     "name": "stdout",
     "output_type": "stream",
     "text": [
      "32830 14070\n"
     ]
    }
   ],
   "source": [
    "print(len(train), len(test))"
   ]
  },
  {
   "cell_type": "markdown",
   "id": "686c5f2b",
   "metadata": {},
   "source": [
    "*Initialize all classifiers to try*"
   ]
  },
  {
   "cell_type": "code",
   "execution_count": 14,
   "id": "e2fae488",
   "metadata": {},
   "outputs": [],
   "source": [
    "logreg = LogisticRegression(max_iter=1000)\n",
    "svm = SVC(kernel=\"linear\", probability=True)\n",
    "knn = KNeighborsClassifier(3)\n",
    "nb = GaussianNB()\n",
    "dt = DecisionTreeClassifier(max_depth=5)\n",
    "rf = RandomForestClassifier(max_depth=5, n_estimators=10, max_features=1)\n",
    "lgbm = LGBMClassifier()\n",
    "nn = MLPClassifier(alpha=1, max_iter=1000)\n",
    "model_logreg = il.SkLearnVectorClassifier.build(logreg, tweet_env)\n",
    "model_svm = il.SkLearnVectorClassifier.build(svm, tweet_env)\n",
    "model_knn = il.SkLearnVectorClassifier.build(knn, tweet_env)\n",
    "model_nb = il.SkLearnVectorClassifier.build(nb, tweet_env)\n",
    "model_dt = il.SkLearnVectorClassifier.build(dt, tweet_env)\n",
    "model_rf = il.SkLearnVectorClassifier.build(rf, tweet_env)\n",
    "model_lgbm = il.SkLearnVectorClassifier.build(lgbm, tweet_env)\n",
    "model_nn = il.SkLearnVectorClassifier.build(nn, tweet_env)"
   ]
  },
  {
   "cell_type": "code",
   "execution_count": null,
   "id": "39f1c0f1",
   "metadata": {},
   "outputs": [],
   "source": [
    "models = [model_logreg, model_svm, model_knn, model_nb, model_dt, model_rf, model_lgbm, model_nn]"
   ]
  },
  {
   "cell_type": "markdown",
   "id": "547878d5",
   "metadata": {},
   "source": [
    "### Compare all classifiers"
   ]
  },
  {
   "cell_type": "code",
   "execution_count": 16,
   "id": "ffb40de6",
   "metadata": {},
   "outputs": [
    {
     "name": "stdout",
     "output_type": "stream",
     "text": [
      "<instancelib.machinelearning.skvectors.SkLearnVectorClassifier object at 0x0000022D12B184F0>\n",
      "[[13620    30]\n",
      " [  210   210]]\n",
      "<instancelib.machinelearning.skvectors.SkLearnVectorClassifier object at 0x0000022D12B18460>\n",
      "[[13638    12]\n",
      " [  215   205]]\n",
      "<instancelib.machinelearning.skvectors.SkLearnVectorClassifier object at 0x0000022D12B18370>\n",
      "[[13629    21]\n",
      " [  266   154]]\n",
      "<instancelib.machinelearning.skvectors.SkLearnVectorClassifier object at 0x0000022D12B18220>\n",
      "[[12462  1188]\n",
      " [  140   280]]\n",
      "<instancelib.machinelearning.skvectors.SkLearnVectorClassifier object at 0x0000022D12B180D0>\n",
      "[[13594    56]\n",
      " [  336    84]]\n",
      "<instancelib.machinelearning.skvectors.SkLearnVectorClassifier object at 0x0000022D12B18D00>\n",
      "[[13650     0]\n",
      " [  420     0]]\n",
      "<instancelib.machinelearning.skvectors.SkLearnVectorClassifier object at 0x0000022D12B18CD0>\n"
     ]
    },
    {
     "name": "stderr",
     "output_type": "stream",
     "text": [
      "C:\\Users\\s153832\\Anaconda3\\envs\\thesis_gpu\\lib\\site-packages\\sklearn\\metrics\\_classification.py:870: RuntimeWarning: invalid value encountered in double_scalars\n",
      "  mcc = cov_ytyp / np.sqrt(cov_ytyt * cov_ypyp)\n"
     ]
    },
    {
     "name": "stdout",
     "output_type": "stream",
     "text": [
      "[[13640    10]\n",
      " [  267   153]]\n",
      "<instancelib.machinelearning.skvectors.SkLearnVectorClassifier object at 0x0000022D12B18C70>\n",
      "[[13647     3]\n",
      " [  298   122]]\n"
     ]
    }
   ],
   "source": [
    "all_affair_f1 = []\n",
    "all_affair_f2 = []\n",
    "all_affair_r = []\n",
    "all_affair_p = []\n",
    "all_affair_acc = []\n",
    "\n",
    "all_covid_f1 = []\n",
    "all_covid_f2 = []\n",
    "all_covid_r = []\n",
    "all_covid_p = []\n",
    "all_covid_acc = []\n",
    "\n",
    "all_roc_auc_scores = []\n",
    "all_mcc_scores = []\n",
    "\n",
    "all_y_trues = []\n",
    "all_y_preds = []\n",
    "\n",
    "for model in models:\n",
    "#     print(str(model))\n",
    "    model.fit_provider(train, tweet_env.labels)\n",
    "    performance = classifier_performance(model, test, tweet_env.labels)\n",
    "    \n",
    "    all_affair_f1.append(performance['affair'].f1)\n",
    "    all_affair_f2.append(performance['affair'].f_beta(2))\n",
    "    all_affair_r.append(performance['affair'].recall)\n",
    "    all_affair_p.append(performance['affair'].precision)\n",
    "    all_affair_acc.append(performance['affair'].accuracy)\n",
    "    \n",
    "    all_covid_f1.append(performance['covid'].f1)\n",
    "    all_covid_f2.append(performance['covid'].f_beta(2))\n",
    "    all_covid_r.append(performance['covid'].recall)\n",
    "    all_covid_p.append(performance['covid'].precision)\n",
    "    all_covid_acc.append(performance['covid'].accuracy)\n",
    "    \n",
    "    predictions = model.predict(test)\n",
    "    y_true, y_pred = sklearn_truth_pred(model, predictions, tweet_env.labels)\n",
    "    all_y_trues.append(y_true)\n",
    "    all_y_preds.append(y_pred)\n",
    "    \n",
    "    print(confusion_matrix(y_true, y_pred))\n",
    "    all_roc_auc_scores.append(roc_auc_score(y_true, y_pred))\n",
    "    all_mcc_scores.append(matthews_corrcoef(y_true, y_pred))"
   ]
  },
  {
   "cell_type": "code",
   "execution_count": 54,
   "id": "621fd887",
   "metadata": {},
   "outputs": [
    {
     "data": {
      "image/png": "[encoded data removed]",
      "text/plain": [
       "<Figure size 1080x504 with 1 Axes>"
      ]
     },
     "metadata": {
      "needs_background": "light"
     },
     "output_type": "display_data"
    }
   ],
   "source": [
    "measures_to_decide = ['F2', 'AUC', 'MCC', 'Precision', 'Recall']\n",
    "values_to_plot = list(zip(all_covid_f2, all_roc_auc_scores, all_mcc_scores, all_covid_p, all_covid_r))\n",
    "\n",
    "df_to_plot = pd.DataFrame({'Metric':measures_to_decide, 'LogReg':list(values_to_plot[0]), 'SVM':list(values_to_plot[1]), 'KNN':list(values_to_plot[2]), 'NB':list(values_to_plot[3]), 'DT':list(values_to_plot[4]), 'RF':list(values_to_plot[5]), 'LGBM':list(values_to_plot[6]), 'NN':list(values_to_plot[7])})\n",
    "ax = df_to_plot.plot.bar(x='Metric', y=['LogReg', 'SVM', 'KNN', 'NB', 'DT', 'RF', 'LGBM', 'NN'], title='Classifier selection metrics', figsize=(15, 7), rot=0, colormap='gist_earth', edgecolor='darkblue')\n",
    "ax.figure.savefig('all_classifiers.png')"
   ]
  },
  {
   "cell_type": "markdown",
   "id": "e3678254",
   "metadata": {},
   "source": [
    "LogReg and SVM perform best, lets do hyperparameter search"
   ]
  },
  {
   "cell_type": "markdown",
   "id": "45387575",
   "metadata": {},
   "source": [
    "### Hyperparameter search"
   ]
  },
  {
   "cell_type": "markdown",
   "id": "4bd2e1ca",
   "metadata": {},
   "source": [
    "*LogReg parameter search*"
   ]
  },
  {
   "cell_type": "code",
   "execution_count": 40,
   "id": "4b86d904",
   "metadata": {},
   "outputs": [],
   "source": [
    "penalty_values =['l2', 'none']\n",
    "c_values = [0.1, 1, 10]\n",
    "class_weight_values = [None, 'balanced']"
   ]
  },
  {
   "cell_type": "code",
   "execution_count": 42,
   "id": "865e513b",
   "metadata": {},
   "outputs": [
    {
     "name": "stdout",
     "output_type": "stream",
     "text": [
      "None0.1l2\n",
      "[[13638    12]\n",
      " [  240   180]]\n",
      "None1l2\n",
      "[[13620    30]\n",
      " [  210   210]]\n",
      "None10l2\n",
      "[[13578    72]\n",
      " [  202   218]]\n"
     ]
    },
    {
     "name": "stderr",
     "output_type": "stream",
     "text": [
      "C:\\Users\\s153832\\Anaconda3\\envs\\thesis_gpu\\lib\\site-packages\\sklearn\\linear_model\\_logistic.py:1322: UserWarning: Setting penalty='none' will ignore the C and l1_ratio parameters\n",
      "  warnings.warn(\n"
     ]
    },
    {
     "name": "stdout",
     "output_type": "stream",
     "text": [
      "None0.1none\n",
      "[[13548   102]\n",
      " [  198   222]]\n",
      "None1none\n",
      "[[13548   102]\n",
      " [  198   222]]\n"
     ]
    },
    {
     "name": "stderr",
     "output_type": "stream",
     "text": [
      "C:\\Users\\s153832\\Anaconda3\\envs\\thesis_gpu\\lib\\site-packages\\sklearn\\linear_model\\_logistic.py:1322: UserWarning: Setting penalty='none' will ignore the C and l1_ratio parameters\n",
      "  warnings.warn(\n"
     ]
    },
    {
     "name": "stdout",
     "output_type": "stream",
     "text": [
      "None10none\n",
      "[[13548   102]\n",
      " [  198   222]]\n",
      "balanced0.1l2\n",
      "[[12418  1232]\n",
      " [   74   346]]\n",
      "balanced1l2\n",
      "[[12588  1062]\n",
      " [   92   328]]\n",
      "balanced10l2\n",
      "[[12669   981]\n",
      " [  104   316]]\n"
     ]
    },
    {
     "name": "stderr",
     "output_type": "stream",
     "text": [
      "C:\\Users\\s153832\\Anaconda3\\envs\\thesis_gpu\\lib\\site-packages\\sklearn\\linear_model\\_logistic.py:1322: UserWarning: Setting penalty='none' will ignore the C and l1_ratio parameters\n",
      "  warnings.warn(\n"
     ]
    },
    {
     "name": "stdout",
     "output_type": "stream",
     "text": [
      "balanced0.1none\n",
      "[[12692   958]\n",
      " [  107   313]]\n",
      "balanced1none\n",
      "[[12692   958]\n",
      " [  107   313]]\n"
     ]
    },
    {
     "name": "stderr",
     "output_type": "stream",
     "text": [
      "C:\\Users\\s153832\\Anaconda3\\envs\\thesis_gpu\\lib\\site-packages\\sklearn\\linear_model\\_logistic.py:1322: UserWarning: Setting penalty='none' will ignore the C and l1_ratio parameters\n",
      "  warnings.warn(\n"
     ]
    },
    {
     "name": "stdout",
     "output_type": "stream",
     "text": [
      "balanced10none\n",
      "[[12692   958]\n",
      " [  107   313]]\n"
     ]
    }
   ],
   "source": [
    "logreg_parameters = []\n",
    "logreg_affair_f1 = []\n",
    "logreg_affair_f2 = []\n",
    "logreg_affair_r = []\n",
    "logreg_affair_p = []\n",
    "logreg_affair_acc = []\n",
    "\n",
    "logreg_covid_f1 = []\n",
    "logreg_covid_f2 = []\n",
    "logreg_covid_r = []\n",
    "logreg_covid_p = []\n",
    "logreg_covid_acc = []\n",
    "\n",
    "logreg_roc_auc_scores = []\n",
    "logreg_mcc_scores = []\n",
    "\n",
    "logreg_y_trues = []\n",
    "logreg_y_preds = []\n",
    "for class_weight in class_weight_values:\n",
    "    for penalty in penalty_values:\n",
    "        for c in c_values:\n",
    "            logreg_para = LogisticRegression(penalty=penalty, C=c, class_weight=class_weight, max_iter=5000)\n",
    "            model_logreg_para = il.SkLearnVectorClassifier.build(logreg_para, tweet_env)\n",
    "            model_logreg_para.fit_provider(train, tweet_env.labels)\n",
    "            performance_para = classifier_performance(model_logreg_para, test, tweet_env.labels)\n",
    "            \n",
    "            print(str(class_weight) + str(c) + str(penalty))\n",
    "            logreg_parameters.append(str(class_weight) + str(c) + str(penalty))\n",
    "\n",
    "            logreg_affair_f1.append(performance_para['affair'].f1)\n",
    "            logreg_affair_f2.append(performance_para['affair'].f_beta(2))\n",
    "            logreg_affair_r.append(performance_para['affair'].recall)\n",
    "            logreg_affair_p.append(performance_para['affair'].precision)\n",
    "            logreg_affair_acc.append(performance_para['affair'].accuracy)\n",
    "    \n",
    "            logreg_covid_f1.append(performance_para['covid'].f1)\n",
    "            logreg_covid_f2.append(performance_para['covid'].f_beta(2))\n",
    "            logreg_covid_r.append(performance_para['covid'].recall)\n",
    "            logreg_covid_p.append(performance_para['covid'].precision)\n",
    "            logreg_covid_acc.append(performance_para['covid'].accuracy)\n",
    "            \n",
    "            predictions = model_logreg_para.predict(test)\n",
    "            y_true, y_pred = sklearn_truth_pred(model_logreg_para, predictions, tweet_env.labels)\n",
    "            logreg_y_trues.append(y_true)\n",
    "            logreg_y_preds.append(y_pred)\n",
    "    \n",
    "            print(confusion_matrix(y_true, y_pred))\n",
    "            logreg_roc_auc_scores.append(roc_auc_score(y_true, y_pred))\n",
    "            logreg_mcc_scores.append(matthews_corrcoef(y_true, y_pred))"
   ]
  },
  {
   "cell_type": "code",
   "execution_count": 44,
   "id": "d1bb270e",
   "metadata": {},
   "outputs": [
    {
     "name": "stdout",
     "output_type": "stream",
     "text": [
      "['None0.1l2', 'None1l2', 'None10l2', 'None0.1none', 'None1none', 'None10none', 'balanced0.1l2', 'balanced1l2', 'balanced10l2', 'balanced0.1none', 'balanced1none', 'balanced10none']\n"
     ]
    }
   ],
   "source": [
    "print(logreg_parameters) #if penalty is none, the C parameter will be ignored, so 3,4,5 are the same model and 10, 11, 12 as well\n",
    "# so we do not need to plot all of those\n",
    "logreg_parameters_to_plot = ['None0.1l2',\n",
    " 'None1l2',\n",
    " 'None10l2',\n",
    " 'None0.1none',\n",
    " 'balanced0.1l2',\n",
    " 'balanced1l2',\n",
    " 'balanced10l2',\n",
    " 'balanced0.1none',]"
   ]
  },
  {
   "cell_type": "code",
   "execution_count": 46,
   "id": "6e275d44",
   "metadata": {},
   "outputs": [
    {
     "data": {
      "image/png": "[encoded data removed]",
      "text/plain": [
       "<Figure size 1080x504 with 1 Axes>"
      ]
     },
     "metadata": {
      "needs_background": "light"
     },
     "output_type": "display_data"
    }
   ],
   "source": [
    "logreg_values_to_plot = list(zip(logreg_covid_f2, logreg_roc_auc_scores, logreg_mcc_scores, logreg_covid_p, logreg_covid_r))\n",
    "\n",
    "logreg_df_to_plot = pd.DataFrame({'Metric':measures_to_decide})\n",
    "for i in range(len(logreg_values_to_plot)):\n",
    "    logreg_df_to_plot[logreg_parameters[i]] = logreg_values_to_plot[i]\n",
    "ax = logreg_df_to_plot.plot.bar(x='Metric', y=logreg_parameters_to_plot, title='Logistic Regression hyperparameter search', figsize=(15, 7), rot=0, colormap='gist_earth', edgecolor='darkblue')\n",
    "ax.legend(loc='center right', bbox_to_anchor=(1.2, 0.5))\n",
    "\n",
    "ax.figure.savefig('logreg_parameter_search.png')"
   ]
  },
  {
   "cell_type": "markdown",
   "id": "6b952d7f",
   "metadata": {},
   "source": [
    "None10l2 wins for LogReg"
   ]
  },
  {
   "cell_type": "markdown",
   "id": "4b69362e",
   "metadata": {},
   "source": [
    "*SVM parameter search*"
   ]
  },
  {
   "cell_type": "code",
   "execution_count": 47,
   "id": "a33762a7",
   "metadata": {},
   "outputs": [],
   "source": [
    "kernel_values = ['linear', 'poly', 'rbf', 'sigmoid']\n",
    "c_values = [0.1, 1, 10]\n",
    "class_weight_values = [None, 'balanced']"
   ]
  },
  {
   "cell_type": "code",
   "execution_count": 48,
   "id": "7f38f8f1",
   "metadata": {},
   "outputs": [
    {
     "name": "stdout",
     "output_type": "stream",
     "text": [
      "None0.1linear\n",
      "[[13647     3]\n",
      " [  227   193]]\n",
      "None0.1poly\n",
      "[[13650     0]\n",
      " [  416     4]]\n",
      "None0.1rbf\n",
      "[[13650     0]\n",
      " [  420     0]]\n"
     ]
    },
    {
     "name": "stderr",
     "output_type": "stream",
     "text": [
      "C:\\Users\\s153832\\Anaconda3\\envs\\thesis_gpu\\lib\\site-packages\\sklearn\\metrics\\_classification.py:870: RuntimeWarning: invalid value encountered in double_scalars\n",
      "  mcc = cov_ytyp / np.sqrt(cov_ytyt * cov_ypyp)\n"
     ]
    },
    {
     "name": "stdout",
     "output_type": "stream",
     "text": [
      "None0.1sigmoid\n",
      "[[13650     0]\n",
      " [  420     0]]\n"
     ]
    },
    {
     "name": "stderr",
     "output_type": "stream",
     "text": [
      "C:\\Users\\s153832\\Anaconda3\\envs\\thesis_gpu\\lib\\site-packages\\sklearn\\metrics\\_classification.py:870: RuntimeWarning: invalid value encountered in double_scalars\n",
      "  mcc = cov_ytyp / np.sqrt(cov_ytyt * cov_ypyp)\n"
     ]
    },
    {
     "name": "stdout",
     "output_type": "stream",
     "text": [
      "None1linear\n",
      "[[13638    12]\n",
      " [  215   205]]\n",
      "None1poly\n",
      "[[13647     3]\n",
      " [  262   158]]\n",
      "None1rbf\n",
      "[[13647     3]\n",
      " [  275   145]]\n",
      "None1sigmoid\n",
      "[[13650     0]\n",
      " [  378    42]]\n",
      "None10linear\n",
      "[[13606    44]\n",
      " [  206   214]]\n",
      "None10poly\n",
      "[[13647     3]\n",
      " [  225   195]]\n",
      "None10rbf\n",
      "[[13647     3]\n",
      " [  227   193]]\n",
      "None10sigmoid\n",
      "[[13646     4]\n",
      " [  250   170]]\n",
      "balanced0.1linear\n",
      "[[12374  1276]\n",
      " [   83   337]]\n",
      "balanced0.1poly\n",
      "[[12055  1595]\n",
      " [   74   346]]\n",
      "balanced0.1rbf\n",
      "[[12049  1601]\n",
      " [   78   342]]\n",
      "balanced0.1sigmoid\n",
      "[[12484  1166]\n",
      " [  113   307]]\n",
      "balanced1linear\n",
      "[[12456  1194]\n",
      " [  104   316]]\n",
      "balanced1poly\n",
      "[[12305  1345]\n",
      " [   66   354]]\n",
      "balanced1rbf\n",
      "[[12285  1365]\n",
      " [   68   352]]\n",
      "balanced1sigmoid\n",
      "[[12067  1583]\n",
      " [   70   350]]\n",
      "balanced10linear\n",
      "[[12589  1061]\n",
      " [  112   308]]\n",
      "balanced10poly\n",
      "[[12910   740]\n",
      " [  107   313]]\n",
      "balanced10rbf\n",
      "[[12790   860]\n",
      " [   98   322]]\n",
      "balanced10sigmoid\n",
      "[[11983  1667]\n",
      " [   68   352]]\n"
     ]
    }
   ],
   "source": [
    "svm_parameters = []\n",
    "svm_affair_f1 = []\n",
    "svm_affair_f2 = []\n",
    "svm_affair_r = []\n",
    "svm_affair_p = []\n",
    "svm_affair_acc = []\n",
    "\n",
    "svm_covid_f1 = []\n",
    "svm_covid_f2 = []\n",
    "svm_covid_r = []\n",
    "svm_covid_p = []\n",
    "svm_covid_acc = []\n",
    "\n",
    "svm_roc_auc_scores = []\n",
    "svm_mcc_scores = []\n",
    "\n",
    "svm_y_trues = []\n",
    "svm_y_preds = []\n",
    "for class_weight in class_weight_values:\n",
    "    for c in c_values:\n",
    "        for kernel in kernel_values:\n",
    "            svm_para = svm = SVC(kernel=kernel, C=c, class_weight=class_weight, probability=True)\n",
    "            model_svm_para = il.SkLearnVectorClassifier.build(svm_para, tweet_env)\n",
    "            model_svm_para.fit_provider(train, tweet_env.labels)\n",
    "            performance_para = classifier_performance(model_svm_para, test, tweet_env.labels)\n",
    "            \n",
    "            print(str(class_weight) + str(c) + str(kernel))\n",
    "            svm_parameters.append(str(class_weight) + str(c) + str(kernel))\n",
    "\n",
    "            svm_affair_f1.append(performance_para['affair'].f1)\n",
    "            svm_affair_f2.append(performance_para['affair'].f_beta(2))\n",
    "            svm_affair_r.append(performance_para['affair'].recall)\n",
    "            svm_affair_p.append(performance_para['affair'].precision)\n",
    "            svm_affair_acc.append(performance_para['affair'].accuracy)\n",
    "    \n",
    "            svm_covid_f1.append(performance_para['covid'].f1)\n",
    "            svm_covid_f2.append(performance_para['covid'].f_beta(2))\n",
    "            svm_covid_r.append(performance_para['covid'].recall)\n",
    "            svm_covid_p.append(performance_para['covid'].precision)\n",
    "            svm_covid_acc.append(performance_para['covid'].accuracy)\n",
    "            \n",
    "            predictions = model_svm_para.predict(test)\n",
    "            y_true, y_pred = sklearn_truth_pred(model_svm_para, predictions, tweet_env.labels)\n",
    "            svm_y_trues.append(y_true)\n",
    "            svm_y_preds.append(y_pred)\n",
    "    \n",
    "            print(confusion_matrix(y_true, y_pred))\n",
    "            svm_roc_auc_scores.append(roc_auc_score(y_true, y_pred))\n",
    "            svm_mcc_scores.append(matthews_corrcoef(y_true, y_pred))"
   ]
  },
  {
   "cell_type": "code",
   "execution_count": 50,
   "id": "7357c682",
   "metadata": {},
   "outputs": [
    {
     "data": {
      "image/png": "[encoded data removed]",
      "text/plain": [
       "<Figure size 1080x504 with 1 Axes>"
      ]
     },
     "metadata": {
      "needs_background": "light"
     },
     "output_type": "display_data"
    }
   ],
   "source": [
    "svm_values_to_plot = list(zip(svm_covid_f2, svm_roc_auc_scores, svm_mcc_scores, svm_covid_p, svm_covid_r))\n",
    "\n",
    "svm_df_to_plot = pd.DataFrame({'Metric':measures_to_decide})\n",
    "for i in range(len(svm_values_to_plot)):\n",
    "    svm_df_to_plot[svm_parameters[i]] = svm_values_to_plot[i]\n",
    "ax = svm_df_to_plot.plot.bar(x='Metric', y=svm_parameters, title='Support Vector Machine hyperparameter search', figsize=(15, 7), rot=0, colormap='gist_earth', edgecolor='darkblue')\n",
    "ax.legend(loc='center right', bbox_to_anchor=(1.2, 0.5))\n",
    "\n",
    "ax.figure.savefig('svm_parameter_search.png')"
   ]
  },
  {
   "cell_type": "markdown",
   "id": "d4870a99",
   "metadata": {},
   "source": [
    "None1linear wins"
   ]
  },
  {
   "cell_type": "markdown",
   "id": "b2288ed6",
   "metadata": {},
   "source": [
    "### Final comparison"
   ]
  },
  {
   "cell_type": "code",
   "execution_count": 73,
   "id": "1ccb0fb9",
   "metadata": {},
   "outputs": [],
   "source": [
    "final_comp = pd.DataFrame({'Metric':measures_to_decide})\n",
    "final_comp['LogReg'] = logreg_df_to_plot['None1l2']\n",
    "final_comp['SVM'] = logreg_df_to_plot['None1linear']"
   ]
  },
  {
   "cell_type": "code",
   "execution_count": 74,
   "id": "b39e6ac4",
   "metadata": {},
   "outputs": [
    {
     "data": {
      "image/png": "[encoded data removed]",
      "text/plain": [
       "<Figure size 1080x504 with 1 Axes>"
      ]
     },
     "metadata": {
      "needs_background": "light"
     },
     "output_type": "display_data"
    }
   ],
   "source": [
    "ax = final_comp.plot.bar(x='Metric', y=['LogReg', 'SVM'], title='COVID-19 scores for best LogReg and SVM classifiers', figsize=(15, 7), rot=0, colormap='Blues', edgecolor='darkblue')\n",
    "ax.figure.savefig('logreg_vs_svms.png')"
   ]
  }
 ],
 "metadata": {
  "kernelspec": {
   "display_name": "Python 3",
   "language": "python",
   "name": "python3"
  },
  "language_info": {
   "codemirror_mode": {
    "name": "ipython",
    "version": 3
   },
   "file_extension": ".py",
   "mimetype": "text/x-python",
   "name": "python",
   "nbconvert_exporter": "python",
   "pygments_lexer": "ipython3",
   "version": "3.8.8"
  }
 },
 "nbformat": 4,
 "nbformat_minor": 5
}
