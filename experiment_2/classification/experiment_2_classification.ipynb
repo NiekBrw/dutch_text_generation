{
 "cells": [
  {
   "cell_type": "markdown",
   "id": "fa6ead48",
   "metadata": {},
   "source": [
    "# Experiment 2 "
   ]
  },
  {
   "cell_type": "markdown",
   "id": "4a2e272e",
   "metadata": {},
   "source": [
    "### Imports"
   ]
  },
  {
   "cell_type": "code",
   "execution_count": 1,
   "id": "6dd5202f",
   "metadata": {},
   "outputs": [],
   "source": [
    "import random\n",
    "\n",
    "import instancelib as il\n",
    "from instancelib.machinelearning.sklearn import SkLearnClassifier\n",
    "from instancelib.typehints.typevars import KT, LT\n",
    "from instancelib.utils.func import list_unzip\n",
    "\n",
    "from typing import Any, FrozenSet, Sequence, Tuple\n",
    "\n",
    "import pandas as pd\n",
    "import numpy as np\n",
    "\n",
    "from instancelib.analysis.base import classifier_performance\n",
    "from lightgbm import LGBMClassifier\n",
    "from sklearn.feature_extraction.text import TfidfVectorizer\n",
    "from sklearn.svm import SVC\n",
    "from sklearn.tree import DecisionTreeClassifier\n",
    "from sklearn.linear_model import LogisticRegression\n",
    "from sklearn.neighbors import KNeighborsClassifier\n",
    "from sklearn.ensemble import RandomForestClassifier\n",
    "from sklearn.neural_network import MLPClassifier\n",
    "from sklearn.naive_bayes import GaussianNB\n",
    "\n",
    "from sbert import PretrainedSentenceBERTVectorizer\n",
    "from stratified import stratified_train_test\n",
    "from synthesizer import PreSynthesized\n",
    "\n",
    "from sklearn.metrics import matthews_corrcoef, confusion_matrix, roc_auc_score, fbeta_score\n",
    "\n",
    "from matplotlib import pyplot as plt"
   ]
  },
  {
   "cell_type": "code",
   "execution_count": 2,
   "id": "4b1215d0",
   "metadata": {},
   "outputs": [],
   "source": [
    "random.seed(10)"
   ]
  },
  {
   "cell_type": "markdown",
   "id": "e0b603da",
   "metadata": {},
   "source": [
    "### Define functions"
   ]
  },
  {
   "cell_type": "code",
   "execution_count": 10,
   "id": "6a8a4439",
   "metadata": {},
   "outputs": [],
   "source": [
    "def sklearn_truth_pred(model: SkLearnClassifier[Any, KT, Any, Any, LT],\n",
    "                       predictions: Sequence[Tuple[KT, FrozenSet[LT]]],\n",
    "                       truth: il.LabelProvider[KT, LT]) -> Tuple[np.ndarray, np.ndarray]:\n",
    "    '''Return true and predicted labels from test set'''\n",
    "    keys, preds = list_unzip(predictions)\n",
    "    truths = [truth.get_labels(key) for key in keys]\n",
    "    y_pred = model.encoder.encode_batch(preds)\n",
    "    y_true = model.encoder.encode_batch(truths)\n",
    "    return y_true, y_pred"
   ]
  },
  {
   "cell_type": "markdown",
   "id": "aca4f2e8",
   "metadata": {},
   "source": [
    "### Load data"
   ]
  },
  {
   "cell_type": "code",
   "execution_count": 3,
   "id": "a8ed76ff",
   "metadata": {},
   "outputs": [],
   "source": [
    "df = pd.read_csv(\"../../data/active_learning_data_to_test_imbalanced_with_identifiers.csv\")\n",
    "tweet_env = il.pandas_to_env_with_id(df, \"identifier\", \"clean_post\", \"set\")"
   ]
  },
  {
   "cell_type": "code",
   "execution_count": 4,
   "id": "b1a4eef9",
   "metadata": {},
   "outputs": [],
   "source": [
    "lookup_table = pd.read_csv(\"../../data/synthetic_data_ivae.csv\")"
   ]
  },
  {
   "cell_type": "markdown",
   "id": "2ad50fdd",
   "metadata": {},
   "source": [
    "### Preparation"
   ]
  },
  {
   "cell_type": "markdown",
   "id": "b3a83e93",
   "metadata": {},
   "source": [
    "*Vectorize data with RobBERT*"
   ]
  },
  {
   "cell_type": "code",
   "execution_count": 5,
   "id": "7ca0d21c",
   "metadata": {},
   "outputs": [],
   "source": [
    "sbert_vec = il.TextInstanceVectorizer(PretrainedSentenceBERTVectorizer(\"pdelobelle/robbert-v2-dutch-base\"))"
   ]
  },
  {
   "cell_type": "code",
   "execution_count": 6,
   "id": "fb88d1b1",
   "metadata": {},
   "outputs": [
    {
     "data": {
      "application/vnd.jupyter.widget-view+json": {
       "model_id": "59d5a1bb5d3a42819568c78cb6c2af6e",
       "version_major": 2,
       "version_minor": 0
      },
      "text/plain": [
       "Batches:   0%|          | 0/625 [00:00<?, ?it/s]"
      ]
     },
     "metadata": {},
     "output_type": "display_data"
    },
    {
     "name": "stderr",
     "output_type": "stream",
     "text": [
      "Asking to truncate to max_length but no maximum length is provided and the model has no predefined maximum length. Default to no truncation.\n"
     ]
    },
    {
     "data": {
      "application/vnd.jupyter.widget-view+json": {
       "model_id": "6c2d97cd1bbe46bb805d36898b577624",
       "version_major": 2,
       "version_minor": 0
      },
      "text/plain": [
       "Batches:   0%|          | 0/625 [00:00<?, ?it/s]"
      ]
     },
     "metadata": {},
     "output_type": "display_data"
    },
    {
     "data": {
      "application/vnd.jupyter.widget-view+json": {
       "model_id": "4f3c8752bc644ac5b0c03b38c6e4bed9",
       "version_major": 2,
       "version_minor": 0
      },
      "text/plain": [
       "Batches:   0%|          | 0/216 [00:00<?, ?it/s]"
      ]
     },
     "metadata": {},
     "output_type": "display_data"
    }
   ],
   "source": [
    "il.vectorize(sbert_vec, tweet_env, fit = False, chunk_size=20000)"
   ]
  },
  {
   "cell_type": "markdown",
   "id": "854abd11",
   "metadata": {},
   "source": [
    "*Split data in train and testset*"
   ]
  },
  {
   "cell_type": "code",
   "execution_count": 7,
   "id": "ea276f3e",
   "metadata": {},
   "outputs": [],
   "source": [
    "# We create a train set of 70 %. \n",
    "# The remainder will be used as evaluation\n",
    "train, test = stratified_train_test(tweet_env, tweet_env.dataset, tweet_env.labels, 0.70)"
   ]
  },
  {
   "cell_type": "code",
   "execution_count": 8,
   "id": "e4cd3b05",
   "metadata": {},
   "outputs": [
    {
     "name": "stdout",
     "output_type": "stream",
     "text": [
      "32830 14070\n"
     ]
    }
   ],
   "source": [
    "print(len(train), len(test))"
   ]
  },
  {
   "cell_type": "markdown",
   "id": "f8d9009d",
   "metadata": {},
   "source": [
    "*Collect and add vectorized synthetic data to train set*"
   ]
  },
  {
   "cell_type": "code",
   "execution_count": 11,
   "id": "9eb41bcb",
   "metadata": {},
   "outputs": [],
   "source": [
    "#The number indicates how many synthetic texts per COVID-19 text should be added\n",
    "ml_synthesizer = PreSynthesized(tweet_env, lookup_table, sbert_vec, 10)"
   ]
  },
  {
   "cell_type": "code",
   "execution_count": 12,
   "id": "ca60b4cd",
   "metadata": {},
   "outputs": [
    {
     "data": {
      "application/vnd.jupyter.widget-view+json": {
       "model_id": "4cad48043515446da509d104323aa184",
       "version_major": 2,
       "version_minor": 0
      },
      "text/plain": [
       "Batches:   0%|          | 0/307 [00:00<?, ?it/s]"
      ]
     },
     "metadata": {},
     "output_type": "display_data"
    }
   ],
   "source": [
    "train_generated = ml_synthesizer(train)"
   ]
  },
  {
   "cell_type": "code",
   "execution_count": 13,
   "id": "7f8d10e7",
   "metadata": {},
   "outputs": [
    {
     "data": {
      "text/plain": [
       "9800"
      ]
     },
     "execution_count": 13,
     "metadata": {},
     "output_type": "execute_result"
    }
   ],
   "source": [
    "len(train_generated)"
   ]
  },
  {
   "cell_type": "code",
   "execution_count": 14,
   "id": "7a6daee0",
   "metadata": {},
   "outputs": [],
   "source": [
    "all_train_generated = tweet_env.combine(train, train_generated)"
   ]
  },
  {
   "cell_type": "markdown",
   "id": "3cb9ac34",
   "metadata": {},
   "source": [
    "*Initialize classifier*"
   ]
  },
  {
   "cell_type": "code",
   "execution_count": 15,
   "id": "15c51401",
   "metadata": {},
   "outputs": [],
   "source": [
    "model_logreg = il.SkLearnVectorClassifier.build(logreg, tweet_env)"
   ]
  },
  {
   "cell_type": "code",
   "execution_count": 9,
   "id": "2d621c58",
   "metadata": {},
   "outputs": [],
   "source": [
    "logreg = LogisticRegression(max_iter=1000)"
   ]
  },
  {
   "cell_type": "markdown",
   "id": "b6180990",
   "metadata": {},
   "source": [
    "### Train and evaluate model"
   ]
  },
  {
   "cell_type": "code",
   "execution_count": 16,
   "id": "188278cd",
   "metadata": {},
   "outputs": [],
   "source": [
    "model_logreg.fit_provider(all_train_generated, tweet_env.labels)\n",
    "performance_logreg = classifier_performance(model_logreg, test, tweet_env.labels)"
   ]
  },
  {
   "cell_type": "code",
   "execution_count": 17,
   "id": "faea4b57",
   "metadata": {},
   "outputs": [
    {
     "name": "stdout",
     "output_type": "stream",
     "text": [
      "Covid F1 score: 0.5622593068035944\n",
      "Covid F2 score: 0.537027954879843\n",
      "Covid Recall: 0.5214285714285715\n",
      "Covid Precision: 0.6100278551532033\n",
      "Covid Accuracy: 0.9757640369580668\n",
      "Affair F1 score: 0.9875370052264172\n",
      "Affair F2 score: 0.9888597736821303\n",
      "Affair Recall: 0.9897435897435898\n",
      "Affair Precision: 0.9853402377652979\n",
      "Affair Accuracy: 0.9757640369580668\n"
     ]
    }
   ],
   "source": [
    "print(f\"Covid F1 score: {performance_logreg['covid'].f1}\")\n",
    "print(f\"Covid F2 score: {performance_logreg['covid'].f_beta(2)}\")\n",
    "print(f\"Covid Recall: {performance_logreg['covid'].recall}\")\n",
    "print(f\"Covid Precision: {performance_logreg['covid'].precision}\")\n",
    "print(f\"Covid Accuracy: {performance_logreg['covid'].accuracy}\")\n",
    "\n",
    "print(f\"Affair F1 score: {performance_logreg['affair'].f1}\")\n",
    "print(f\"Affair F2 score: {performance_logreg['affair'].f_beta(2)}\")\n",
    "print(f\"Affair Recall: {performance_logreg['affair'].recall}\")\n",
    "print(f\"Affair Precision: {performance_logreg['affair'].precision}\")\n",
    "print(f\"Affair Accuracy: {performance_logreg['affair'].accuracy}\")"
   ]
  },
  {
   "cell_type": "code",
   "execution_count": 18,
   "id": "ec0441b0",
   "metadata": {},
   "outputs": [
    {
     "name": "stdout",
     "output_type": "stream",
     "text": [
      "Confusion matrix \n",
      " [[13510   140]\n",
      " [  201   219]]\n",
      "ROC_AUC 0.7555860805860806\n",
      "MCC 0.5516661986655502\n",
      "F2 0.5370279548798431\n"
     ]
    }
   ],
   "source": [
    "predictions = model_logreg.predict(test)\n",
    "y_true, y_pred = sklearn_truth_pred(model_logreg, predictions, tweet_env.labels)\n",
    "    \n",
    "print('Confusion matrix \\n', confusion_matrix(y_true, y_pred))\n",
    "print('ROC_AUC', roc_auc_score(y_true, y_pred))\n",
    "print('MCC', matthews_corrcoef(y_true, y_pred))\n",
    "print('F2', fbeta_score(y_true, y_pred, beta=2))"
   ]
  }
 ],
 "metadata": {
  "kernelspec": {
   "display_name": "Python 3",
   "language": "python",
   "name": "python3"
  },
  "language_info": {
   "codemirror_mode": {
    "name": "ipython",
    "version": 3
   },
   "file_extension": ".py",
   "mimetype": "text/x-python",
   "name": "python",
   "nbconvert_exporter": "python",
   "pygments_lexer": "ipython3",
   "version": "3.8.8"
  }
 },
 "nbformat": 4,
 "nbformat_minor": 5
}
