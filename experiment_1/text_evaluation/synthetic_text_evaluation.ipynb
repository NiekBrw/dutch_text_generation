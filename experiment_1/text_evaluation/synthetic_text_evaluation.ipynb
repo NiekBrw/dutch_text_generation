{
 "cells": [
  {
   "cell_type": "code",
   "execution_count": 1,
   "id": "f29132e3",
   "metadata": {},
   "outputs": [],
   "source": [
    "import pandas as pd\n",
    "import nltk\n",
    "import copy\n",
    "from multiset_distances import MultisetDistances"
   ]
  },
  {
   "cell_type": "markdown",
   "id": "586431d8",
   "metadata": {},
   "source": [
    "### Load synthetic data"
   ]
  },
  {
   "cell_type": "code",
   "execution_count": 2,
   "id": "4f4516b7",
   "metadata": {},
   "outputs": [],
   "source": [
    "# araml_raw = pd.read_csv('araml_batch_499.txt', sep='~', header=None)\n",
    "ivae_raw = pd.read_csv('ivae/gen_sentsivae_results_4000.txt', sep='~', header=None)\n",
    "# relgan = pd.read_csv('relgan_batch_1980.txt', sep='~', header=None)"
   ]
  },
  {
   "cell_type": "code",
   "execution_count": 3,
   "id": "a250c9fa",
   "metadata": {},
   "outputs": [
    {
     "data": {
      "text/html": [
       "<div>\n",
       "<style scoped>\n",
       "    .dataframe tbody tr th:only-of-type {\n",
       "        vertical-align: middle;\n",
       "    }\n",
       "\n",
       "    .dataframe tbody tr th {\n",
       "        vertical-align: top;\n",
       "    }\n",
       "\n",
       "    .dataframe thead th {\n",
       "        text-align: right;\n",
       "    }\n",
       "</style>\n",
       "<table border=\"1\" class=\"dataframe\">\n",
       "  <thead>\n",
       "    <tr style=\"text-align: right;\">\n",
       "      <th></th>\n",
       "      <th>0</th>\n",
       "    </tr>\n",
       "  </thead>\n",
       "  <tbody>\n",
       "    <tr>\n",
       "      <th>0</th>\n",
       "      <td>3118 3892 864 615 2876 2325 82 2091 3887 2786 ...</td>\n",
       "    </tr>\n",
       "    <tr>\n",
       "      <th>1</th>\n",
       "      <td>1979 2781 1593 1252 1643 4301 4301 4301 4301 4...</td>\n",
       "    </tr>\n",
       "    <tr>\n",
       "      <th>2</th>\n",
       "      <td>3887 2786 2088 477 3892 237 2325 776 2098 4301...</td>\n",
       "    </tr>\n",
       "    <tr>\n",
       "      <th>3</th>\n",
       "      <td>3887 2786 4081 2612 4081 2442 406 126 1643 164...</td>\n",
       "    </tr>\n",
       "    <tr>\n",
       "      <th>4</th>\n",
       "      <td>198 2383 2239 549 2946 4133 3639 3507 2247 539...</td>\n",
       "    </tr>\n",
       "  </tbody>\n",
       "</table>\n",
       "</div>"
      ],
      "text/plain": [
       "                                                   0\n",
       "0  3118 3892 864 615 2876 2325 82 2091 3887 2786 ...\n",
       "1  1979 2781 1593 1252 1643 4301 4301 4301 4301 4...\n",
       "2  3887 2786 2088 477 3892 237 2325 776 2098 4301...\n",
       "3  3887 2786 4081 2612 4081 2442 406 126 1643 164...\n",
       "4  198 2383 2239 549 2946 4133 3639 3507 2247 539..."
      ]
     },
     "execution_count": 3,
     "metadata": {},
     "output_type": "execute_result"
    }
   ],
   "source": [
    "araml_raw.head()"
   ]
  },
  {
   "cell_type": "code",
   "execution_count": 3,
   "id": "72a54f57",
   "metadata": {},
   "outputs": [
    {
     "data": {
      "text/html": [
       "<div>\n",
       "<style scoped>\n",
       "    .dataframe tbody tr th:only-of-type {\n",
       "        vertical-align: middle;\n",
       "    }\n",
       "\n",
       "    .dataframe tbody tr th {\n",
       "        vertical-align: top;\n",
       "    }\n",
       "\n",
       "    .dataframe thead th {\n",
       "        text-align: right;\n",
       "    }\n",
       "</style>\n",
       "<table border=\"1\" class=\"dataframe\">\n",
       "  <thead>\n",
       "    <tr style=\"text-align: right;\">\n",
       "      <th></th>\n",
       "      <th>0</th>\n",
       "    </tr>\n",
       "  </thead>\n",
       "  <tbody>\n",
       "    <tr>\n",
       "      <th>0</th>\n",
       "      <td>&lt;s&gt; Famke Louise verwijdert # ikdoenietmeermee...</td>\n",
       "    </tr>\n",
       "    <tr>\n",
       "      <th>1</th>\n",
       "      <td>&lt;s&gt; Ik heb nooit meegedaan en ben je wel . &lt;/s&gt;</td>\n",
       "    </tr>\n",
       "    <tr>\n",
       "      <th>2</th>\n",
       "      <td>&lt;s&gt; Deze misdaad stopt de pot op de # avondklo...</td>\n",
       "    </tr>\n",
       "    <tr>\n",
       "      <th>3</th>\n",
       "      <td>&lt;s&gt; En nu is het nog steeds geloven wij dat de...</td>\n",
       "    </tr>\n",
       "    <tr>\n",
       "      <th>4</th>\n",
       "      <td>&lt;s&gt; Dat is geweldig . . . daar is het nog zo u...</td>\n",
       "    </tr>\n",
       "  </tbody>\n",
       "</table>\n",
       "</div>"
      ],
      "text/plain": [
       "                                                   0\n",
       "0  <s> Famke Louise verwijdert # ikdoenietmeermee...\n",
       "1    <s> Ik heb nooit meegedaan en ben je wel . </s>\n",
       "2  <s> Deze misdaad stopt de pot op de # avondklo...\n",
       "3  <s> En nu is het nog steeds geloven wij dat de...\n",
       "4  <s> Dat is geweldig . . . daar is het nog zo u..."
      ]
     },
     "execution_count": 3,
     "metadata": {},
     "output_type": "execute_result"
    }
   ],
   "source": [
    "ivae_raw.head()"
   ]
  },
  {
   "cell_type": "code",
   "execution_count": 5,
   "id": "f5e36f17",
   "metadata": {},
   "outputs": [
    {
     "data": {
      "text/html": [
       "<div>\n",
       "<style scoped>\n",
       "    .dataframe tbody tr th:only-of-type {\n",
       "        vertical-align: middle;\n",
       "    }\n",
       "\n",
       "    .dataframe tbody tr th {\n",
       "        vertical-align: top;\n",
       "    }\n",
       "\n",
       "    .dataframe thead th {\n",
       "        text-align: right;\n",
       "    }\n",
       "</style>\n",
       "<table border=\"1\" class=\"dataframe\">\n",
       "  <thead>\n",
       "    <tr style=\"text-align: right;\">\n",
       "      <th></th>\n",
       "      <th>0</th>\n",
       "    </tr>\n",
       "  </thead>\n",
       "  <tbody>\n",
       "    <tr>\n",
       "      <th>0</th>\n",
       "      <td>ik ook niet # ikdoenietmeermee</td>\n",
       "    </tr>\n",
       "    <tr>\n",
       "      <th>1</th>\n",
       "      <td>stop de # lockdown</td>\n",
       "    </tr>\n",
       "    <tr>\n",
       "      <th>2</th>\n",
       "      <td>famke louise # ikdoenietmeermee wat zou gommer...</td>\n",
       "    </tr>\n",
       "    <tr>\n",
       "      <th>3</th>\n",
       "      <td>waarom is dit trending ? ! ! !</td>\n",
       "    </tr>\n",
       "    <tr>\n",
       "      <th>4</th>\n",
       "      <td>zou toch in een democratie leven waar een rege...</td>\n",
       "    </tr>\n",
       "  </tbody>\n",
       "</table>\n",
       "</div>"
      ],
      "text/plain": [
       "                                                   0\n",
       "0                    ik ook niet # ikdoenietmeermee \n",
       "1                                stop de # lockdown \n",
       "2  famke louise # ikdoenietmeermee wat zou gommer...\n",
       "3                    waarom is dit trending ? ! ! ! \n",
       "4  zou toch in een democratie leven waar een rege..."
      ]
     },
     "execution_count": 5,
     "metadata": {},
     "output_type": "execute_result"
    }
   ],
   "source": [
    "relgan.head()"
   ]
  },
  {
   "cell_type": "markdown",
   "id": "09daa9a9",
   "metadata": {},
   "source": [
    "### Postprocessing"
   ]
  },
  {
   "cell_type": "markdown",
   "id": "5c86c7dd",
   "metadata": {},
   "source": [
    "ARAML postprocessing"
   ]
  },
  {
   "cell_type": "code",
   "execution_count": 6,
   "id": "cd19ec20",
   "metadata": {},
   "outputs": [
    {
     "data": {
      "text/html": [
       "<div>\n",
       "<style scoped>\n",
       "    .dataframe tbody tr th:only-of-type {\n",
       "        vertical-align: middle;\n",
       "    }\n",
       "\n",
       "    .dataframe tbody tr th {\n",
       "        vertical-align: top;\n",
       "    }\n",
       "\n",
       "    .dataframe thead th {\n",
       "        text-align: right;\n",
       "    }\n",
       "</style>\n",
       "<table border=\"1\" class=\"dataframe\">\n",
       "  <thead>\n",
       "    <tr style=\"text-align: right;\">\n",
       "      <th></th>\n",
       "      <th>0</th>\n",
       "    </tr>\n",
       "  </thead>\n",
       "  <tbody>\n",
       "    <tr>\n",
       "      <th>0</th>\n",
       "      <td>faalt</td>\n",
       "    </tr>\n",
       "    <tr>\n",
       "      <th>1</th>\n",
       "      <td>rood</td>\n",
       "    </tr>\n",
       "    <tr>\n",
       "      <th>2</th>\n",
       "      <td>correct</td>\n",
       "    </tr>\n",
       "    <tr>\n",
       "      <th>3</th>\n",
       "      <td>komende</td>\n",
       "    </tr>\n",
       "    <tr>\n",
       "      <th>4</th>\n",
       "      <td>landgenoten</td>\n",
       "    </tr>\n",
       "  </tbody>\n",
       "</table>\n",
       "</div>"
      ],
      "text/plain": [
       "             0\n",
       "0        faalt\n",
       "1         rood\n",
       "2      correct\n",
       "3      komende\n",
       "4  landgenoten"
      ]
     },
     "execution_count": 6,
     "metadata": {},
     "output_type": "execute_result"
    }
   ],
   "source": [
    "# import csv\n",
    "vocab = pd.read_csv('../data/covid_gen_train_vocab.txt', sep='~~', header=None, engine='python', error_bad_lines=False)\n",
    "vocab.head() #last id, the space, is lost here"
   ]
  },
  {
   "cell_type": "code",
   "execution_count": 7,
   "id": "9d36cd3c",
   "metadata": {},
   "outputs": [],
   "source": [
    "def convert_araml(text):\n",
    "    new_text = []\n",
    "    for ids in text.split():\n",
    "        ids = int(ids)\n",
    "        if ids == 4301:\n",
    "            continue\n",
    "        else:\n",
    "            new_text.append(vocab[0][ids])\n",
    "    new_text = ' '.join(new_text)\n",
    "    return new_text"
   ]
  },
  {
   "cell_type": "code",
   "execution_count": 8,
   "id": "7dfde7e4",
   "metadata": {},
   "outputs": [],
   "source": [
    "araml = pd.DataFrame(data = araml_raw.apply(lambda x: convert_araml(x[0]), axis=1))"
   ]
  },
  {
   "cell_type": "code",
   "execution_count": 9,
   "id": "a6c453ae",
   "metadata": {},
   "outputs": [
    {
     "data": {
      "text/html": [
       "<div>\n",
       "<style scoped>\n",
       "    .dataframe tbody tr th:only-of-type {\n",
       "        vertical-align: middle;\n",
       "    }\n",
       "\n",
       "    .dataframe tbody tr th {\n",
       "        vertical-align: top;\n",
       "    }\n",
       "\n",
       "    .dataframe thead th {\n",
       "        text-align: right;\n",
       "    }\n",
       "</style>\n",
       "<table border=\"1\" class=\"dataframe\">\n",
       "  <thead>\n",
       "    <tr style=\"text-align: right;\">\n",
       "      <th></th>\n",
       "      <th>0</th>\n",
       "    </tr>\n",
       "  </thead>\n",
       "  <tbody>\n",
       "    <tr>\n",
       "      <th>0</th>\n",
       "      <td>Het is allemaal goed bedoeld voor de kwetsbare...</td>\n",
       "    </tr>\n",
       "    <tr>\n",
       "      <th>1</th>\n",
       "      <td>Dit op 1 dag .</td>\n",
       "    </tr>\n",
       "    <tr>\n",
       "      <th>2</th>\n",
       "      <td># ikdoenietmeermee jongens wat is dit voor ach...</td>\n",
       "    </tr>\n",
       "    <tr>\n",
       "      <th>3</th>\n",
       "      <td># ikdoenietmeermee er doen er steeds minder me...</td>\n",
       "    </tr>\n",
       "    <tr>\n",
       "      <th>4</th>\n",
       "      <td>Een beetje weldenkend mens die in zijn omgevin...</td>\n",
       "    </tr>\n",
       "  </tbody>\n",
       "</table>\n",
       "</div>"
      ],
      "text/plain": [
       "                                                   0\n",
       "0  Het is allemaal goed bedoeld voor de kwetsbare...\n",
       "1                                     Dit op 1 dag .\n",
       "2  # ikdoenietmeermee jongens wat is dit voor ach...\n",
       "3  # ikdoenietmeermee er doen er steeds minder me...\n",
       "4  Een beetje weldenkend mens die in zijn omgevin..."
      ]
     },
     "execution_count": 9,
     "metadata": {},
     "output_type": "execute_result"
    }
   ],
   "source": [
    "araml.head()"
   ]
  },
  {
   "cell_type": "markdown",
   "id": "2a78c1db",
   "metadata": {},
   "source": [
    "iVAE postprocessing"
   ]
  },
  {
   "cell_type": "code",
   "execution_count": 4,
   "id": "471d8bb6",
   "metadata": {},
   "outputs": [],
   "source": [
    "ivae = pd.DataFrame(data = ivae_raw.apply(lambda x: x[0][4:-5], axis=1))"
   ]
  },
  {
   "cell_type": "code",
   "execution_count": 5,
   "id": "2cf7c135",
   "metadata": {},
   "outputs": [
    {
     "data": {
      "text/html": [
       "<div>\n",
       "<style scoped>\n",
       "    .dataframe tbody tr th:only-of-type {\n",
       "        vertical-align: middle;\n",
       "    }\n",
       "\n",
       "    .dataframe tbody tr th {\n",
       "        vertical-align: top;\n",
       "    }\n",
       "\n",
       "    .dataframe thead th {\n",
       "        text-align: right;\n",
       "    }\n",
       "</style>\n",
       "<table border=\"1\" class=\"dataframe\">\n",
       "  <thead>\n",
       "    <tr style=\"text-align: right;\">\n",
       "      <th></th>\n",
       "      <th>0</th>\n",
       "    </tr>\n",
       "  </thead>\n",
       "  <tbody>\n",
       "    <tr>\n",
       "      <th>0</th>\n",
       "      <td>Famke Louise verwijdert # ikdoenietmeermee : '...</td>\n",
       "    </tr>\n",
       "    <tr>\n",
       "      <th>1</th>\n",
       "      <td>Ik heb nooit meegedaan en ben je wel .</td>\n",
       "    </tr>\n",
       "    <tr>\n",
       "      <th>2</th>\n",
       "      <td>Deze misdaad stopt de pot op de # avondklok .</td>\n",
       "    </tr>\n",
       "    <tr>\n",
       "      <th>3</th>\n",
       "      <td>En nu is het nog steeds geloven wij dat de ove...</td>\n",
       "    </tr>\n",
       "    <tr>\n",
       "      <th>4</th>\n",
       "      <td>Dat is geweldig . . . daar is het nog zo uit !</td>\n",
       "    </tr>\n",
       "  </tbody>\n",
       "</table>\n",
       "</div>"
      ],
      "text/plain": [
       "                                                   0\n",
       "0  Famke Louise verwijdert # ikdoenietmeermee : '...\n",
       "1             Ik heb nooit meegedaan en ben je wel .\n",
       "2      Deze misdaad stopt de pot op de # avondklok .\n",
       "3  En nu is het nog steeds geloven wij dat de ove...\n",
       "4     Dat is geweldig . . . daar is het nog zo uit !"
      ]
     },
     "execution_count": 5,
     "metadata": {},
     "output_type": "execute_result"
    }
   ],
   "source": [
    "ivae.head()"
   ]
  },
  {
   "cell_type": "markdown",
   "id": "5964e556",
   "metadata": {},
   "source": [
    "### General result inspection"
   ]
  },
  {
   "cell_type": "markdown",
   "id": "52a6bc9e",
   "metadata": {},
   "source": [
    "Check duplicates within generated texts"
   ]
  },
  {
   "cell_type": "code",
   "execution_count": 12,
   "id": "dbbd8209",
   "metadata": {},
   "outputs": [
    {
     "data": {
      "text/plain": [
       "(4000, 2435)"
      ]
     },
     "execution_count": 12,
     "metadata": {},
     "output_type": "execute_result"
    }
   ],
   "source": [
    "len(araml[0]), len(set(araml[0]))"
   ]
  },
  {
   "cell_type": "code",
   "execution_count": 6,
   "id": "7557d159",
   "metadata": {},
   "outputs": [
    {
     "data": {
      "text/plain": [
       "(4000, 3412)"
      ]
     },
     "execution_count": 6,
     "metadata": {},
     "output_type": "execute_result"
    }
   ],
   "source": [
    "len(ivae[0]), len(set(ivae[0]))"
   ]
  },
  {
   "cell_type": "code",
   "execution_count": 14,
   "id": "b28c9fb3",
   "metadata": {},
   "outputs": [
    {
     "data": {
      "text/plain": [
       "(4032, 1287)"
      ]
     },
     "execution_count": 14,
     "metadata": {},
     "output_type": "execute_result"
    }
   ],
   "source": [
    "len(relgan[0]), len(set(relgan[0]))"
   ]
  },
  {
   "cell_type": "markdown",
   "id": "144d1cd4",
   "metadata": {},
   "source": [
    "Check duplicates with original texts"
   ]
  },
  {
   "cell_type": "code",
   "execution_count": 7,
   "id": "3961019f",
   "metadata": {},
   "outputs": [],
   "source": [
    "train_data = pd.read_csv('../data/covid_gen_train_text.txt', sep='~~', header=None, engine='python')"
   ]
  },
  {
   "cell_type": "code",
   "execution_count": 8,
   "id": "9e2f035a",
   "metadata": {},
   "outputs": [
    {
     "data": {
      "text/html": [
       "<div>\n",
       "<style scoped>\n",
       "    .dataframe tbody tr th:only-of-type {\n",
       "        vertical-align: middle;\n",
       "    }\n",
       "\n",
       "    .dataframe tbody tr th {\n",
       "        vertical-align: top;\n",
       "    }\n",
       "\n",
       "    .dataframe thead th {\n",
       "        text-align: right;\n",
       "    }\n",
       "</style>\n",
       "<table border=\"1\" class=\"dataframe\">\n",
       "  <thead>\n",
       "    <tr style=\"text-align: right;\">\n",
       "      <th></th>\n",
       "      <th>0</th>\n",
       "    </tr>\n",
       "  </thead>\n",
       "  <tbody>\n",
       "    <tr>\n",
       "      <th>0</th>\n",
       "      <td>Zeg jongens , # ikdoenietmeermee kunnen we nie...</td>\n",
       "    </tr>\n",
       "    <tr>\n",
       "      <th>1</th>\n",
       "      <td>Naar Femke Louise luisteren : # ikdoenietmeerm...</td>\n",
       "    </tr>\n",
       "    <tr>\n",
       "      <th>2</th>\n",
       "      <td>Vergeet niet de # ikdoenietmeermee aanhangers</td>\n",
       "    </tr>\n",
       "    <tr>\n",
       "      <th>3</th>\n",
       "      <td>Dat moet je niet het kabinet kwalijk nemen , m...</td>\n",
       "    </tr>\n",
       "    <tr>\n",
       "      <th>4</th>\n",
       "      <td>Je moet jezelf eens zien met je ; # IkDoeNietM...</td>\n",
       "    </tr>\n",
       "  </tbody>\n",
       "</table>\n",
       "</div>"
      ],
      "text/plain": [
       "                                                   0\n",
       "0  Zeg jongens , # ikdoenietmeermee kunnen we nie...\n",
       "1  Naar Femke Louise luisteren : # ikdoenietmeerm...\n",
       "2      Vergeet niet de # ikdoenietmeermee aanhangers\n",
       "3  Dat moet je niet het kabinet kwalijk nemen , m...\n",
       "4  Je moet jezelf eens zien met je ; # IkDoeNietM..."
      ]
     },
     "execution_count": 8,
     "metadata": {},
     "output_type": "execute_result"
    }
   ],
   "source": [
    "train_data.head()"
   ]
  },
  {
   "cell_type": "code",
   "execution_count": 9,
   "id": "e02f890d",
   "metadata": {},
   "outputs": [
    {
     "data": {
      "text/plain": [
       "(3280, 3280)"
      ]
     },
     "execution_count": 9,
     "metadata": {},
     "output_type": "execute_result"
    }
   ],
   "source": [
    "len(train_data[0]), len(set(train_data[0]))"
   ]
  },
  {
   "cell_type": "code",
   "execution_count": 18,
   "id": "22cd6b56",
   "metadata": {},
   "outputs": [
    {
     "data": {
      "text/plain": [
       "1985"
      ]
     },
     "execution_count": 18,
     "metadata": {},
     "output_type": "execute_result"
    }
   ],
   "source": [
    "len(set(araml[0]).intersection(set(train_data[0])))"
   ]
  },
  {
   "cell_type": "code",
   "execution_count": 10,
   "id": "76709a31",
   "metadata": {},
   "outputs": [
    {
     "data": {
      "text/plain": [
       "91"
      ]
     },
     "execution_count": 10,
     "metadata": {},
     "output_type": "execute_result"
    }
   ],
   "source": [
    "len(set(ivae[0]).intersection(set(train_data[0])))"
   ]
  },
  {
   "cell_type": "code",
   "execution_count": 20,
   "id": "edceaff2",
   "metadata": {},
   "outputs": [
    {
     "data": {
      "text/plain": [
       "0"
      ]
     },
     "execution_count": 20,
     "metadata": {},
     "output_type": "execute_result"
    }
   ],
   "source": [
    "len(set(relgan[0]).intersection(set(train_data[0])))"
   ]
  },
  {
   "cell_type": "markdown",
   "id": "0c5fdd7e",
   "metadata": {},
   "source": [
    "### BLEU"
   ]
  },
  {
   "cell_type": "code",
   "execution_count": 11,
   "id": "187fe058",
   "metadata": {},
   "outputs": [],
   "source": [
    "test_data = pd.read_csv('../data/covid_gen_test_text.txt', sep='~~', header=None, engine='python')"
   ]
  },
  {
   "cell_type": "code",
   "execution_count": 12,
   "id": "d9200c8e",
   "metadata": {},
   "outputs": [],
   "source": [
    "# araml_split = [sentence.split() for sentence in araml[0]]\n",
    "ivae_split = [sentence.split() for sentence in ivae[0]]\n",
    "# relgan_split = [sentence.split() for sentence in relgan[0]]\n",
    "test_split = [sentence.split() for sentence in test_data[0]]"
   ]
  },
  {
   "cell_type": "code",
   "execution_count": 23,
   "id": "c0bab742",
   "metadata": {},
   "outputs": [
    {
     "data": {
      "text/plain": [
       "4000"
      ]
     },
     "execution_count": 23,
     "metadata": {},
     "output_type": "execute_result"
    }
   ],
   "source": [
    "len(araml_split)"
   ]
  },
  {
   "cell_type": "code",
   "execution_count": 24,
   "id": "acd730d7",
   "metadata": {},
   "outputs": [
    {
     "data": {
      "text/plain": [
       "(4000, 4000)"
      ]
     },
     "execution_count": 24,
     "metadata": {},
     "output_type": "execute_result"
    }
   ],
   "source": [
    "#ARAML\n",
    "araml_list_of_references = [copy.deepcopy(test_split) for i in range(len(araml_split))] # list of references for all sentences in corpus.\n",
    "araml_list_of_hypotheses = copy.deepcopy(araml_split) # list of hypotheses that corresponds to list of references.\n",
    "len(araml_list_of_references), len(araml_list_of_hypotheses)"
   ]
  },
  {
   "cell_type": "code",
   "execution_count": 25,
   "id": "2fcf8c00",
   "metadata": {},
   "outputs": [],
   "source": [
    "araml_bleu_2 = nltk.translate.bleu_score.corpus_bleu(araml_list_of_references, araml_list_of_hypotheses, weights = (1/2, 1/2))\n",
    "araml_bleu_3 = nltk.translate.bleu_score.corpus_bleu(araml_list_of_references, araml_list_of_hypotheses, weights = (1/3, 1/3, 1/3))\n",
    "araml_bleu_4 = nltk.translate.bleu_score.corpus_bleu(araml_list_of_references, araml_list_of_hypotheses)\n",
    "araml_bleu_5 = nltk.translate.bleu_score.corpus_bleu(araml_list_of_references, araml_list_of_hypotheses, weights = (1/5, 1/5, 1/5, 1/5, 1/5))"
   ]
  },
  {
   "cell_type": "code",
   "execution_count": 26,
   "id": "fc1913c6",
   "metadata": {},
   "outputs": [
    {
     "data": {
      "text/plain": [
       "(0.5355666678734008,\n",
       " 0.32865348765130153,\n",
       " 0.2170772701918256,\n",
       " 0.1575209750099976)"
      ]
     },
     "execution_count": 26,
     "metadata": {},
     "output_type": "execute_result"
    }
   ],
   "source": [
    "araml_bleu_2, araml_bleu_3, araml_bleu_4, araml_bleu_5"
   ]
  },
  {
   "cell_type": "code",
   "execution_count": 13,
   "id": "64b39421",
   "metadata": {},
   "outputs": [],
   "source": [
    "#iVAE\n",
    "ivae_list_of_references = [copy.deepcopy(test_split) for i in range(len(ivae_split))] # list of references for all sentences in corpus.\n",
    "ivae_list_of_hypotheses = copy.deepcopy(ivae_split) # list of hypotheses that corresponds to list of references."
   ]
  },
  {
   "cell_type": "code",
   "execution_count": 14,
   "id": "eb2321c8",
   "metadata": {},
   "outputs": [],
   "source": [
    "ivae_bleu_2 = nltk.translate.bleu_score.corpus_bleu(ivae_list_of_references, ivae_list_of_hypotheses, weights = (1/2, 1/2))\n",
    "ivae_bleu_3 = nltk.translate.bleu_score.corpus_bleu(ivae_list_of_references, ivae_list_of_hypotheses, weights = (1/3, 1/3, 1/3))\n",
    "ivae_bleu_4 = nltk.translate.bleu_score.corpus_bleu(ivae_list_of_references, ivae_list_of_hypotheses)\n",
    "ivae_bleu_5 = nltk.translate.bleu_score.corpus_bleu(ivae_list_of_references, ivae_list_of_hypotheses, weights = (1/5, 1/5, 1/5, 1/5, 1/5))"
   ]
  },
  {
   "cell_type": "code",
   "execution_count": 15,
   "id": "8af1577f",
   "metadata": {},
   "outputs": [
    {
     "data": {
      "text/plain": [
       "(0.7439766652743535,\n",
       " 0.5647617970438186,\n",
       " 0.42822903019934944,\n",
       " 0.3360663924195802)"
      ]
     },
     "execution_count": 15,
     "metadata": {},
     "output_type": "execute_result"
    }
   ],
   "source": [
    "ivae_bleu_2, ivae_bleu_3, ivae_bleu_4, ivae_bleu_5"
   ]
  },
  {
   "cell_type": "code",
   "execution_count": 30,
   "id": "7f196106",
   "metadata": {},
   "outputs": [],
   "source": [
    "#RelGAN\n",
    "relgan_list_of_references = [copy.deepcopy(test_split) for i in range(len(relgan_split))] # list of references for all sentences in corpus.\n",
    "relgan_list_of_hypotheses = copy.deepcopy(relgan_split) # list of hypotheses that corresponds to list of references."
   ]
  },
  {
   "cell_type": "code",
   "execution_count": 31,
   "id": "561a501c",
   "metadata": {},
   "outputs": [],
   "source": [
    "relgan_bleu_2 = nltk.translate.bleu_score.corpus_bleu(relgan_list_of_references, relgan_list_of_hypotheses, weights = (1/2, 1/2))\n",
    "relgan_bleu_3 = nltk.translate.bleu_score.corpus_bleu(relgan_list_of_references, relgan_list_of_hypotheses, weights = (1/3, 1/3, 1/3))\n",
    "relgan_bleu_4 = nltk.translate.bleu_score.corpus_bleu(relgan_list_of_references, relgan_list_of_hypotheses)\n",
    "relgan_bleu_5 = nltk.translate.bleu_score.corpus_bleu(relgan_list_of_references, relgan_list_of_hypotheses, weights = (1/5, 1/5, 1/5, 1/5, 1/5))"
   ]
  },
  {
   "cell_type": "code",
   "execution_count": 32,
   "id": "193011b5",
   "metadata": {},
   "outputs": [
    {
     "data": {
      "text/plain": [
       "(0.6110493081079732,\n",
       " 0.4148611239355362,\n",
       " 0.281139293593719,\n",
       " 0.17673371985545647)"
      ]
     },
     "execution_count": 32,
     "metadata": {},
     "output_type": "execute_result"
    }
   ],
   "source": [
    "relgan_bleu_2, relgan_bleu_3, relgan_bleu_4, relgan_bleu_5"
   ]
  },
  {
   "cell_type": "markdown",
   "id": "7310d110",
   "metadata": {},
   "source": [
    "### Self-BLEU"
   ]
  },
  {
   "cell_type": "code",
   "execution_count": 33,
   "id": "cc2c2db6",
   "metadata": {},
   "outputs": [],
   "source": [
    "#ARAML\n",
    "araml_list_of_references_self = []\n",
    "for i in range(len(araml_split)):\n",
    "    ref = copy.deepcopy(araml_split)\n",
    "    ref.pop(i)\n",
    "    araml_list_of_references_self.append(ref)\n",
    "araml_list_of_hypotheses_self = copy.deepcopy(araml_split) # list of hypotheses that corresponds to list of references."
   ]
  },
  {
   "cell_type": "code",
   "execution_count": 34,
   "id": "6276ed47",
   "metadata": {},
   "outputs": [],
   "source": [
    "araml_self_bleu_2 = nltk.translate.bleu_score.corpus_bleu(araml_list_of_references_self, araml_list_of_hypotheses_self, weights = (1/2, 1/2))\n",
    "araml_self_bleu_3 = nltk.translate.bleu_score.corpus_bleu(araml_list_of_references_self, araml_list_of_hypotheses_self, weights = (1/3, 1/3, 1/3))\n",
    "araml_self_bleu_4 = nltk.translate.bleu_score.corpus_bleu(araml_list_of_references_self, araml_list_of_hypotheses_self)\n",
    "araml_self_bleu_5 = nltk.translate.bleu_score.corpus_bleu(araml_list_of_references_self, araml_list_of_hypotheses_self, weights = (1/5, 1/5, 1/5, 1/5, 1/5))"
   ]
  },
  {
   "cell_type": "code",
   "execution_count": 35,
   "id": "01963080",
   "metadata": {},
   "outputs": [
    {
     "data": {
      "text/plain": [
       "(0.9223604274244183,\n",
       " 0.8655422403147902,\n",
       " 0.8265847764862504,\n",
       " 0.7990205025548809)"
      ]
     },
     "execution_count": 35,
     "metadata": {},
     "output_type": "execute_result"
    }
   ],
   "source": [
    "araml_self_bleu_2, araml_self_bleu_3, araml_self_bleu_4, araml_self_bleu_5"
   ]
  },
  {
   "cell_type": "code",
   "execution_count": 18,
   "id": "7c1d182b",
   "metadata": {},
   "outputs": [],
   "source": [
    "#iVAE\n",
    "ivae_list_of_references_self = []\n",
    "for i in range(len(ivae_split)):\n",
    "    ref = copy.deepcopy(ivae_split)\n",
    "    ref.pop(i)\n",
    "    ivae_list_of_references_self.append(ref)\n",
    "ivae_list_of_hypotheses_self = copy.deepcopy(ivae_split) # list of hypotheses that corresponds to list of references."
   ]
  },
  {
   "cell_type": "code",
   "execution_count": 19,
   "id": "c5e65fe6",
   "metadata": {},
   "outputs": [],
   "source": [
    "ivae_self_bleu_2 = nltk.translate.bleu_score.corpus_bleu(ivae_list_of_references_self, ivae_list_of_hypotheses_self, weights = (1/2, 1/2))\n",
    "ivae_self_bleu_3 = nltk.translate.bleu_score.corpus_bleu(ivae_list_of_references_self, ivae_list_of_hypotheses_self, weights = (1/3, 1/3, 1/3))\n",
    "ivae_self_bleu_4 = nltk.translate.bleu_score.corpus_bleu(ivae_list_of_references_self, ivae_list_of_hypotheses_self)\n",
    "ivae_self_bleu_5 = nltk.translate.bleu_score.corpus_bleu(ivae_list_of_references_self, ivae_list_of_hypotheses_self, weights = (1/5, 1/5, 1/5, 1/5, 1/5))"
   ]
  },
  {
   "cell_type": "code",
   "execution_count": 20,
   "id": "7df7df86",
   "metadata": {},
   "outputs": [
    {
     "data": {
      "text/plain": [
       "(0.9727184346428311, 0.94365381401003, 0.9034544427630443, 0.8546247499850489)"
      ]
     },
     "execution_count": 20,
     "metadata": {},
     "output_type": "execute_result"
    }
   ],
   "source": [
    "ivae_self_bleu_2, ivae_self_bleu_3, ivae_self_bleu_4, ivae_self_bleu_5"
   ]
  },
  {
   "cell_type": "code",
   "execution_count": 39,
   "id": "b9c7d9d8",
   "metadata": {},
   "outputs": [],
   "source": [
    "#RelGAN\n",
    "relgan_list_of_references_self = []\n",
    "for i in range(len(relgan_split)):\n",
    "    ref = copy.deepcopy(relgan_split)\n",
    "    ref.pop(i)\n",
    "    relgan_list_of_references_self.append(ref)\n",
    "relgan_list_of_hypotheses_self = copy.deepcopy(relgan_split) # list of hypotheses that corresponds to list of references."
   ]
  },
  {
   "cell_type": "code",
   "execution_count": 40,
   "id": "26e42ef7",
   "metadata": {},
   "outputs": [],
   "source": [
    "relgan_self_bleu_2 = nltk.translate.bleu_score.corpus_bleu(relgan_list_of_references_self, relgan_list_of_hypotheses_self, weights = (1/2, 1/2))\n",
    "relgan_self_bleu_3 = nltk.translate.bleu_score.corpus_bleu(relgan_list_of_references_self, relgan_list_of_hypotheses_self, weights = (1/3, 1/3, 1/3))\n",
    "relgan_self_bleu_4 = nltk.translate.bleu_score.corpus_bleu(relgan_list_of_references_self, relgan_list_of_hypotheses_self)\n",
    "relgan_self_bleu_5 = nltk.translate.bleu_score.corpus_bleu(relgan_list_of_references_self, relgan_list_of_hypotheses_self, weights = (1/5, 1/5, 1/5, 1/5, 1/5))"
   ]
  },
  {
   "cell_type": "code",
   "execution_count": 41,
   "id": "fc6dd09c",
   "metadata": {},
   "outputs": [
    {
     "data": {
      "text/plain": [
       "(0.9330169448267662,\n",
       " 0.8876048812318107,\n",
       " 0.8492562523503902,\n",
       " 0.8107911151607344)"
      ]
     },
     "execution_count": 41,
     "metadata": {},
     "output_type": "execute_result"
    }
   ],
   "source": [
    "relgan_self_bleu_2, relgan_self_bleu_3, relgan_self_bleu_4, relgan_self_bleu_5"
   ]
  },
  {
   "cell_type": "markdown",
   "id": "9bcb41eb",
   "metadata": {},
   "source": [
    "### MS-Jaccard"
   ]
  },
  {
   "cell_type": "code",
   "execution_count": 16,
   "id": "c17f06e4",
   "metadata": {},
   "outputs": [],
   "source": [
    "references = copy.deepcopy(test_split)\n",
    "msd = MultisetDistances(references=references, min_n=2)"
   ]
  },
  {
   "cell_type": "code",
   "execution_count": 47,
   "id": "829cc63a",
   "metadata": {},
   "outputs": [
    {
     "name": "stdout",
     "output_type": "stream",
     "text": [
      "Jaccard distances preprocess upto 5!\n"
     ]
    },
    {
     "data": {
      "text/plain": [
       "{2: 0.3383283632549752,\n",
       " 3: 0.18929606786510203,\n",
       " 4: 0.11984781790783489,\n",
       " 5: 0.08511991346970271}"
      ]
     },
     "execution_count": 47,
     "metadata": {},
     "output_type": "execute_result"
    }
   ],
   "source": [
    "#ARAML\n",
    "sentences = copy.deepcopy(araml_split)\n",
    "msj_distance_araml = msd.get_jaccard_score(sentences=sentences)\n",
    "msj_distance_araml"
   ]
  },
  {
   "cell_type": "code",
   "execution_count": 17,
   "id": "47babc7b",
   "metadata": {},
   "outputs": [
    {
     "name": "stdout",
     "output_type": "stream",
     "text": [
      "Jaccard distances preprocess upto 5!\n"
     ]
    },
    {
     "data": {
      "text/plain": [
       "{2: 0.27812985338599944,\n",
       " 3: 0.177075995775008,\n",
       " 4: 0.12291388330762909,\n",
       " 5: 0.09182173463276583}"
      ]
     },
     "execution_count": 17,
     "metadata": {},
     "output_type": "execute_result"
    }
   ],
   "source": [
    "#ARAML\n",
    "sentences = copy.deepcopy(ivae_split)\n",
    "msj_distance_ivae = msd.get_jaccard_score(sentences=sentences)\n",
    "msj_distance_ivae"
   ]
  },
  {
   "cell_type": "code",
   "execution_count": 49,
   "id": "3a1b7481",
   "metadata": {},
   "outputs": [
    {
     "name": "stdout",
     "output_type": "stream",
     "text": [
      "Jaccard distances preprocess upto 5!\n"
     ]
    },
    {
     "data": {
      "text/plain": [
       "{2: 0.18099028527353633,\n",
       " 3: 0.1014203752872681,\n",
       " 4: 0.05895023285808583,\n",
       " 5: 0.03738392501448418}"
      ]
     },
     "execution_count": 49,
     "metadata": {},
     "output_type": "execute_result"
    }
   ],
   "source": [
    "#ARAML\n",
    "sentences = copy.deepcopy(relgan_split)\n",
    "msj_distance_relgan = msd.get_jaccard_score(sentences=sentences)\n",
    "msj_distance_relgan"
   ]
  }
 ],
 "metadata": {
  "kernelspec": {
   "display_name": "Python 3",
   "language": "python",
   "name": "python3"
  },
  "language_info": {
   "codemirror_mode": {
    "name": "ipython",
    "version": 3
   },
   "file_extension": ".py",
   "mimetype": "text/x-python",
   "name": "python",
   "nbconvert_exporter": "python",
   "pygments_lexer": "ipython3",
   "version": "3.8.8"
  }
 },
 "nbformat": 4,
 "nbformat_minor": 5
}
